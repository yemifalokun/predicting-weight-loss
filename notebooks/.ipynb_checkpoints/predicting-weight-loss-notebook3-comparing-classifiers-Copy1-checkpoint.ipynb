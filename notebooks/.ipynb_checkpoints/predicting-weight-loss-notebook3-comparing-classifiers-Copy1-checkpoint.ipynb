{
 "cells": [
  {
   "cell_type": "markdown",
   "metadata": {},
   "source": [
    "# Practical Application III: Comparing Classifiers\n",
    "\n",
    "**Overview**: In this practical application, your goal is to compare the performance of the classifiers we encountered in this section, namely K Nearest Neighbor, Logistic Regression, Decision Trees, and Support Vector Machines.  We will utilize a dataset related to marketing bank products over the telephone.  \n",
    "\n"
   ]
  },
  {
   "cell_type": "markdown",
   "metadata": {},
   "source": [
    "### Getting Started\n",
    "\n",
    "Our dataset comes from the UCI Machine Learning repository [link](https://archive.ics.uci.edu/ml/datasets/bank+marketing).  The data is from a Portugese banking institution and is a collection of the results of multiple marketing campaigns.  We will make use of the article accompanying the dataset [here](CRISP-DM-BANK.pdf) for more information on the data and features.\n",
    "\n"
   ]
  },
  {
   "cell_type": "markdown",
   "metadata": {},
   "source": [
    "### Problem 1: Understanding the Data\n",
    "\n",
    "To gain a better understanding of the data, please read the information provided in the UCI link above, and examine the **Materials and Methods** section of the paper.  How many marketing campaigns does this data represent?"
   ]
  },
  {
   "cell_type": "markdown",
   "metadata": {},
   "source": [
    "According to the `Materials and Methods` section of the paper, the dataset collected is related to **17 campaigns** that\n",
    "occurred between May 2008 and November 2010, corresponding to a total of 79354 contacts."
   ]
  },
  {
   "cell_type": "markdown",
   "metadata": {},
   "source": [
    "For this phone campaign, an attractive long-term deposit application with good interest rates was offered. Details of each contact like (job, marital status, education, housing and personal loan etc.) was stored as part of the interaction. "
   ]
  },
  {
   "cell_type": "markdown",
   "metadata": {},
   "source": [
    "Ultimately, the dataset shows that there was **8%** success rate with **6499 contacts** accepting the Long-term deposit application out of the **79,354 contacts**."
   ]
  },
  {
   "cell_type": "code",
   "execution_count": null,
   "metadata": {},
   "outputs": [],
   "source": []
  },
  {
   "cell_type": "markdown",
   "metadata": {},
   "source": [
    "### Problem 2: Read in the Data\n",
    "\n",
    "Use pandas to read in the dataset `bank-additional-full.csv` and assign to a meaningful variable name."
   ]
  },
  {
   "cell_type": "code",
   "execution_count": 1,
   "metadata": {},
   "outputs": [],
   "source": [
    "import pandas as pd\n",
    "import matplotlib.pyplot as plt\n",
    "import numpy as np\n",
    "\n",
    "import seaborn as sns\n",
    "from sklearn.datasets import load_breast_cancer\n",
    "from sklearn.svm import SVC\n",
    "from sklearn.model_selection import train_test_split, GridSearchCV, RandomizedSearchCV\n",
    "\n",
    "from sklearn.linear_model import LogisticRegression\n",
    "from sklearn.dummy import DummyClassifier\n",
    "from sklearn.svm import SVC\n",
    "from sklearn.model_selection import train_test_split, GridSearchCV\n",
    "from sklearn.metrics import confusion_matrix\n",
    "from sklearn.compose import ColumnTransformer, make_column_transformer\n",
    "\n",
    "from sklearn.preprocessing import OneHotEncoder, OrdinalEncoder, StandardScaler\n",
    "from sklearn.metrics import r2_score\n",
    "from sklearn.metrics import mean_squared_error\n",
    "from sklearn.neighbors import KNeighborsClassifier\n",
    "from sklearn.ensemble import RandomForestClassifier\n",
    "from sklearn.tree import DecisionTreeClassifier\n",
    "\n",
    "from sklearn.pipeline import make_pipeline\n",
    "from sklearn.preprocessing import LabelEncoder\n",
    "from sklearn.tree import DecisionTreeClassifier\n",
    "from sklearn.svm import SVC\n"
   ]
  },
  {
   "cell_type": "code",
   "execution_count": 2,
   "metadata": {},
   "outputs": [],
   "source": [
    "#Add panda options for column displays\n",
    "#Print the long values in the columns\n",
    "pd.options.display.max_columns = None\n",
    "pd.options.display.max_rows = None\n",
    "pd.options.display.max_colwidth = 150"
   ]
  },
  {
   "cell_type": "code",
   "execution_count": 3,
   "metadata": {},
   "outputs": [],
   "source": [
    "df = pd.read_csv('data/bank-additional-full.csv', sep = ';')"
   ]
  },
  {
   "cell_type": "code",
   "execution_count": 4,
   "metadata": {},
   "outputs": [
    {
     "data": {
      "text/html": [
       "<div>\n",
       "<style scoped>\n",
       "    .dataframe tbody tr th:only-of-type {\n",
       "        vertical-align: middle;\n",
       "    }\n",
       "\n",
       "    .dataframe tbody tr th {\n",
       "        vertical-align: top;\n",
       "    }\n",
       "\n",
       "    .dataframe thead th {\n",
       "        text-align: right;\n",
       "    }\n",
       "</style>\n",
       "<table border=\"1\" class=\"dataframe\">\n",
       "  <thead>\n",
       "    <tr style=\"text-align: right;\">\n",
       "      <th></th>\n",
       "      <th>age</th>\n",
       "      <th>job</th>\n",
       "      <th>marital</th>\n",
       "      <th>education</th>\n",
       "      <th>default</th>\n",
       "      <th>housing</th>\n",
       "      <th>loan</th>\n",
       "      <th>contact</th>\n",
       "      <th>month</th>\n",
       "      <th>day_of_week</th>\n",
       "      <th>duration</th>\n",
       "      <th>campaign</th>\n",
       "      <th>pdays</th>\n",
       "      <th>previous</th>\n",
       "      <th>poutcome</th>\n",
       "      <th>emp.var.rate</th>\n",
       "      <th>cons.price.idx</th>\n",
       "      <th>cons.conf.idx</th>\n",
       "      <th>euribor3m</th>\n",
       "      <th>nr.employed</th>\n",
       "      <th>y</th>\n",
       "    </tr>\n",
       "  </thead>\n",
       "  <tbody>\n",
       "    <tr>\n",
       "      <th>0</th>\n",
       "      <td>56</td>\n",
       "      <td>housemaid</td>\n",
       "      <td>married</td>\n",
       "      <td>basic.4y</td>\n",
       "      <td>no</td>\n",
       "      <td>no</td>\n",
       "      <td>no</td>\n",
       "      <td>telephone</td>\n",
       "      <td>may</td>\n",
       "      <td>mon</td>\n",
       "      <td>261</td>\n",
       "      <td>1</td>\n",
       "      <td>999</td>\n",
       "      <td>0</td>\n",
       "      <td>nonexistent</td>\n",
       "      <td>1.1</td>\n",
       "      <td>93.994</td>\n",
       "      <td>-36.4</td>\n",
       "      <td>4.857</td>\n",
       "      <td>5191.0</td>\n",
       "      <td>no</td>\n",
       "    </tr>\n",
       "    <tr>\n",
       "      <th>1</th>\n",
       "      <td>57</td>\n",
       "      <td>services</td>\n",
       "      <td>married</td>\n",
       "      <td>high.school</td>\n",
       "      <td>unknown</td>\n",
       "      <td>no</td>\n",
       "      <td>no</td>\n",
       "      <td>telephone</td>\n",
       "      <td>may</td>\n",
       "      <td>mon</td>\n",
       "      <td>149</td>\n",
       "      <td>1</td>\n",
       "      <td>999</td>\n",
       "      <td>0</td>\n",
       "      <td>nonexistent</td>\n",
       "      <td>1.1</td>\n",
       "      <td>93.994</td>\n",
       "      <td>-36.4</td>\n",
       "      <td>4.857</td>\n",
       "      <td>5191.0</td>\n",
       "      <td>no</td>\n",
       "    </tr>\n",
       "    <tr>\n",
       "      <th>2</th>\n",
       "      <td>37</td>\n",
       "      <td>services</td>\n",
       "      <td>married</td>\n",
       "      <td>high.school</td>\n",
       "      <td>no</td>\n",
       "      <td>yes</td>\n",
       "      <td>no</td>\n",
       "      <td>telephone</td>\n",
       "      <td>may</td>\n",
       "      <td>mon</td>\n",
       "      <td>226</td>\n",
       "      <td>1</td>\n",
       "      <td>999</td>\n",
       "      <td>0</td>\n",
       "      <td>nonexistent</td>\n",
       "      <td>1.1</td>\n",
       "      <td>93.994</td>\n",
       "      <td>-36.4</td>\n",
       "      <td>4.857</td>\n",
       "      <td>5191.0</td>\n",
       "      <td>no</td>\n",
       "    </tr>\n",
       "    <tr>\n",
       "      <th>3</th>\n",
       "      <td>40</td>\n",
       "      <td>admin.</td>\n",
       "      <td>married</td>\n",
       "      <td>basic.6y</td>\n",
       "      <td>no</td>\n",
       "      <td>no</td>\n",
       "      <td>no</td>\n",
       "      <td>telephone</td>\n",
       "      <td>may</td>\n",
       "      <td>mon</td>\n",
       "      <td>151</td>\n",
       "      <td>1</td>\n",
       "      <td>999</td>\n",
       "      <td>0</td>\n",
       "      <td>nonexistent</td>\n",
       "      <td>1.1</td>\n",
       "      <td>93.994</td>\n",
       "      <td>-36.4</td>\n",
       "      <td>4.857</td>\n",
       "      <td>5191.0</td>\n",
       "      <td>no</td>\n",
       "    </tr>\n",
       "    <tr>\n",
       "      <th>4</th>\n",
       "      <td>56</td>\n",
       "      <td>services</td>\n",
       "      <td>married</td>\n",
       "      <td>high.school</td>\n",
       "      <td>no</td>\n",
       "      <td>no</td>\n",
       "      <td>yes</td>\n",
       "      <td>telephone</td>\n",
       "      <td>may</td>\n",
       "      <td>mon</td>\n",
       "      <td>307</td>\n",
       "      <td>1</td>\n",
       "      <td>999</td>\n",
       "      <td>0</td>\n",
       "      <td>nonexistent</td>\n",
       "      <td>1.1</td>\n",
       "      <td>93.994</td>\n",
       "      <td>-36.4</td>\n",
       "      <td>4.857</td>\n",
       "      <td>5191.0</td>\n",
       "      <td>no</td>\n",
       "    </tr>\n",
       "  </tbody>\n",
       "</table>\n",
       "</div>"
      ],
      "text/plain": [
       "   age        job  marital    education  default housing loan    contact  \\\n",
       "0   56  housemaid  married     basic.4y       no      no   no  telephone   \n",
       "1   57   services  married  high.school  unknown      no   no  telephone   \n",
       "2   37   services  married  high.school       no     yes   no  telephone   \n",
       "3   40     admin.  married     basic.6y       no      no   no  telephone   \n",
       "4   56   services  married  high.school       no      no  yes  telephone   \n",
       "\n",
       "  month day_of_week  duration  campaign  pdays  previous     poutcome  \\\n",
       "0   may         mon       261         1    999         0  nonexistent   \n",
       "1   may         mon       149         1    999         0  nonexistent   \n",
       "2   may         mon       226         1    999         0  nonexistent   \n",
       "3   may         mon       151         1    999         0  nonexistent   \n",
       "4   may         mon       307         1    999         0  nonexistent   \n",
       "\n",
       "   emp.var.rate  cons.price.idx  cons.conf.idx  euribor3m  nr.employed   y  \n",
       "0           1.1          93.994          -36.4      4.857       5191.0  no  \n",
       "1           1.1          93.994          -36.4      4.857       5191.0  no  \n",
       "2           1.1          93.994          -36.4      4.857       5191.0  no  \n",
       "3           1.1          93.994          -36.4      4.857       5191.0  no  \n",
       "4           1.1          93.994          -36.4      4.857       5191.0  no  "
      ]
     },
     "execution_count": 4,
     "metadata": {},
     "output_type": "execute_result"
    }
   ],
   "source": [
    "df.head()"
   ]
  },
  {
   "cell_type": "markdown",
   "metadata": {},
   "source": [
    "### Problem 3: Understanding the Features\n",
    "\n",
    "\n",
    "Examine the data description below, and determine if any of the features are missing values or need to be coerced to a different data type.\n",
    "\n",
    "\n",
    "```\n",
    "Input variables:\n",
    "# bank client data:\n",
    "1 - age (numeric)\n",
    "2 - job : type of job (categorical: 'admin.','blue-collar','entrepreneur','housemaid','management','retired','self-employed','services','student','technician','unemployed','unknown')\n",
    "3 - marital : marital status (categorical: 'divorced','married','single','unknown'; note: 'divorced' means divorced or widowed)\n",
    "4 - education (categorical: 'basic.4y','basic.6y','basic.9y','high.school','illiterate','professional.course','university.degree','unknown')\n",
    "5 - default: has credit in default? (categorical: 'no','yes','unknown')\n",
    "6 - housing: has housing loan? (categorical: 'no','yes','unknown')\n",
    "7 - loan: has personal loan? (categorical: 'no','yes','unknown')\n",
    "# related with the last contact of the current campaign:\n",
    "8 - contact: contact communication type (categorical: 'cellular','telephone')\n",
    "9 - month: last contact month of year (categorical: 'jan', 'feb', 'mar', ..., 'nov', 'dec')\n",
    "10 - day_of_week: last contact day of the week (categorical: 'mon','tue','wed','thu','fri')\n",
    "11 - duration: last contact duration, in seconds (numeric). Important note: this attribute highly affects the output target (e.g., if duration=0 then y='no'). Yet, the duration is not known before a call is performed. Also, after the end of the call y is obviously known. Thus, this input should only be included for benchmark purposes and should be discarded if the intention is to have a realistic predictive model.\n",
    "# other attributes:\n",
    "12 - campaign: number of contacts performed during this campaign and for this client (numeric, includes last contact)\n",
    "13 - pdays: number of days that passed by after the client was last contacted from a previous campaign (numeric; 999 means client was not previously contacted)\n",
    "14 - previous: number of contacts performed before this campaign and for this client (numeric)\n",
    "15 - poutcome: outcome of the previous marketing campaign (categorical: 'failure','nonexistent','success')\n",
    "# social and economic context attributes\n",
    "16 - emp.var.rate: employment variation rate - quarterly indicator (numeric)\n",
    "17 - cons.price.idx: consumer price index - monthly indicator (numeric)\n",
    "18 - cons.conf.idx: consumer confidence index - monthly indicator (numeric)\n",
    "19 - euribor3m: euribor 3 month rate - daily indicator (numeric)\n",
    "20 - nr.employed: number of employees - quarterly indicator (numeric)\n",
    "\n",
    "Output variable (desired target):\n",
    "21 - y - has the client subscribed a term deposit? (binary: 'yes','no')\n",
    "```\n",
    "\n"
   ]
  },
  {
   "cell_type": "markdown",
   "metadata": {},
   "source": [
    "Let's do some exploratory analysis of the data to understand the how some of the features had an impact on the output variable.\n",
    "\n",
    "To make the charts user friendly/readable, we will rename the output variable. Also we will concentrate mainly in the features 1-7 as this would be used to build the models."
   ]
  },
  {
   "cell_type": "code",
   "execution_count": 5,
   "metadata": {},
   "outputs": [
    {
     "data": {
      "text/plain": [
       "(41188, 21)"
      ]
     },
     "execution_count": 5,
     "metadata": {},
     "output_type": "execute_result"
    }
   ],
   "source": [
    "df.shape"
   ]
  },
  {
   "cell_type": "code",
   "execution_count": 6,
   "metadata": {},
   "outputs": [],
   "source": [
    "# Change Y feature name to a more meaningful name\n",
    "df.rename(columns = {'y':'deposit'}, inplace = True)"
   ]
  },
  {
   "cell_type": "code",
   "execution_count": 7,
   "metadata": {},
   "outputs": [
    {
     "data": {
      "image/png": "[encoded data removed]",
      "text/plain": [
       "<Figure size 864x504 with 1 Axes>"
      ]
     },
     "metadata": {
      "needs_background": "light"
     },
     "output_type": "display_data"
    }
   ],
   "source": [
    "# Let plot a bar chart of the\n",
    "# count plot on two categorical variable\n",
    "\n",
    "plt.rcParams[\"figure.figsize\"] = [12, 7]\n",
    "plt.rcParams[\"figure.autolayout\"] = True\n",
    "ax = sns.countplot(x ='marital', hue = \"deposit\", data = df)\n",
    "\n",
    "# Adding Title to the Plot\n",
    "ax.set_title('Bar Plot of Customers Long Term Application Acceptance by Marital Status')\n",
    "\n",
    "for p in ax.patches:\n",
    "   ax.annotate('{:.1f}'.format(p.get_height()), (p.get_x()+0.25, p.get_height()+0.01))\n",
    "\n",
    "# Setting the X and Y labels\n",
    "ax.set_xlabel('Marital Status')\n",
    "ax.set_ylabel('Count')\n",
    " \n",
    "# Show the plot\n",
    "plt.show()"
   ]
  },
  {
   "cell_type": "code",
   "execution_count": 8,
   "metadata": {},
   "outputs": [
    {
     "data": {
      "image/png": "[encoded data removed]",
      "text/plain": [
       "<Figure size 864x504 with 1 Axes>"
      ]
     },
     "metadata": {
      "needs_background": "light"
     },
     "output_type": "display_data"
    }
   ],
   "source": [
    "# Bar plot of customer count that said yes to term deposit vs no\n",
    "plt.rcParams[\"figure.figsize\"] = [12, 7]\n",
    "plt.rcParams[\"figure.autolayout\"] = True\n",
    "\n",
    "# count plot on two categorical variable\n",
    "ax = sns.countplot(x ='deposit', hue = \"deposit\", data = df)\n",
    "\n",
    "# Adding Title to the Plot\n",
    "ax.set_title('Bar Plot of Customers Long Term Application Acceptance')\n",
    "\n",
    "for p in ax.patches:\n",
    "   ax.annotate('{:.1f}'.format(p.get_height()), (p.get_x()+0.25, p.get_height()+0.01))\n",
    " \n",
    "# Show the plot\n",
    "plt.show()"
   ]
  },
  {
   "cell_type": "code",
   "execution_count": 9,
   "metadata": {},
   "outputs": [
    {
     "data": {
      "text/plain": [
       "age               False\n",
       "job               False\n",
       "marital           False\n",
       "education         False\n",
       "default           False\n",
       "housing           False\n",
       "loan              False\n",
       "contact           False\n",
       "month             False\n",
       "day_of_week       False\n",
       "duration          False\n",
       "campaign          False\n",
       "pdays             False\n",
       "previous          False\n",
       "poutcome          False\n",
       "emp.var.rate      False\n",
       "cons.price.idx    False\n",
       "cons.conf.idx     False\n",
       "euribor3m         False\n",
       "nr.employed       False\n",
       "deposit           False\n",
       "dtype: bool"
      ]
     },
     "execution_count": 9,
     "metadata": {},
     "output_type": "execute_result"
    }
   ],
   "source": [
    "#Clean data with no nulls\n",
    "df.isna().any()"
   ]
  },
  {
   "cell_type": "code",
   "execution_count": 10,
   "metadata": {},
   "outputs": [],
   "source": [
    "#df['age'].value_counts()"
   ]
  },
  {
   "cell_type": "code",
   "execution_count": 11,
   "metadata": {},
   "outputs": [
    {
     "data": {
      "image/png": "[encoded data removed]",
      "text/plain": [
       "<Figure size 864x504 with 1 Axes>"
      ]
     },
     "metadata": {
      "needs_background": "light"
     },
     "output_type": "display_data"
    }
   ],
   "source": [
    "# Bar plot of count of accepted term deposit application by Education\n",
    "ax = sns.countplot(y ='education', hue = \"deposit\", data = df)\n",
    "\n",
    "# Adding Title to the Plot\n",
    "ax.set_title('Bar Plot of Customers Long Term Application Acceptance by Education')\n",
    "\n",
    "# Setting the X and Y labels\n",
    "ax.set_xlabel('Contact')\n",
    "ax.set_ylabel('Education')\n",
    "\n",
    "# Show the plot\n",
    "plt.show()"
   ]
  },
  {
   "cell_type": "code",
   "execution_count": 12,
   "metadata": {},
   "outputs": [
    {
     "data": {
      "image/png": "[encoded data removed]",
      "text/plain": [
       "<Figure size 864x504 with 1 Axes>"
      ]
     },
     "metadata": {
      "needs_background": "light"
     },
     "output_type": "display_data"
    }
   ],
   "source": [
    "# Bar plot of count of accepted term deposit application by job\n",
    "ax = sns.countplot(x ='job', hue = \"deposit\", data = df)\n",
    "\n",
    "# Adding Title to the Plot\n",
    "ax.set_title('Bar Plot of Customers Long Term Application Acceptance by Job')\n",
    "\n",
    "# Setting the X and Y labels\n",
    "ax.set_xlabel('Job')\n",
    "ax.set_ylabel('Count')\n",
    "\n",
    "# Show the plot\n",
    "plt.show()"
   ]
  },
  {
   "cell_type": "code",
   "execution_count": 13,
   "metadata": {},
   "outputs": [
    {
     "data": {
      "image/png": "[encoded data removed]",
      "text/plain": [
       "<Figure size 864x504 with 2 Axes>"
      ]
     },
     "metadata": {},
     "output_type": "display_data"
    }
   ],
   "source": [
    "# Plot some pie charts to visualize the number of accepted term deposits by loan types in dataset\n",
    "def autopct_format(values):\n",
    "        def my_format(pct):\n",
    "            total = sum(values)\n",
    "            val = int(round(pct*total/100.0))\n",
    "            return '{:.1f}%\\n({v:d})'.format(pct, v=val)\n",
    "        return my_format\n",
    "\n",
    "#plt.pie(df['LoanStatus'].value_counts().values, labels=df['LoanStatus'].value_counts().index, autopct=fmt)\n",
    "\n",
    "# create a figure with two subplots\n",
    "#fig, ax = plt.subplots(figsize=(12,8))\n",
    "fig, (ax1, ax2) = plt.subplots(1, 2, figsize=(12,7))\n",
    "\n",
    "# plot each pie chart in a separate subplot\n",
    "\n",
    "ax1.set_title('Pie Chart - Housing Loan')\n",
    "s = df['housing'].value_counts()\n",
    "ax1.pie(s,labels = s.index,  autopct=autopct_format(s))\n",
    "\n",
    "ax2.set_title('Pie Chart - Personal Loan')\n",
    "s1 = df['loan'].value_counts()\n",
    "ax2.pie(s1,labels = s1.index, autopct=autopct_format(s1))\n",
    "\n",
    "plt.show()"
   ]
  },
  {
   "cell_type": "markdown",
   "metadata": {},
   "source": [
    "Although we are building a model using features 1 -7, lets plot a bar chart of Contact Features that accepted term deposit product vs non acceptance"
   ]
  },
  {
   "cell_type": "code",
   "execution_count": 14,
   "metadata": {},
   "outputs": [
    {
     "data": {
      "image/png": "[encoded data removed]",
      "text/plain": [
       "<Figure size 864x504 with 1 Axes>"
      ]
     },
     "metadata": {
      "needs_background": "light"
     },
     "output_type": "display_data"
    }
   ],
   "source": [
    "plt.rcParams[\"figure.figsize\"] = [12, 7]\n",
    "plt.rcParams[\"figure.autolayout\"] = True\n",
    "ax = sns.countplot(x ='contact', hue = \"deposit\", data = df)\n",
    "\n",
    "# Adding Title to the Plot\n",
    "ax.set_title('Bar Plot of Customers Long Term Application Acceptance by Contact')\n",
    "\n",
    "for p in ax.patches:\n",
    "   ax.annotate('{:.1f}'.format(p.get_height()), (p.get_x()+0.25, p.get_height()+0.01))\n",
    "\n",
    "# Setting the X and Y labels\n",
    "ax.set_xlabel('Contact')\n",
    "ax.set_ylabel('Count')\n",
    " \n",
    "# Show the plot\n",
    "plt.show()"
   ]
  },
  {
   "cell_type": "code",
   "execution_count": 15,
   "metadata": {},
   "outputs": [
    {
     "data": {
      "image/png": "[encoded data removed]",
      "text/plain": [
       "<Figure size 864x504 with 1 Axes>"
      ]
     },
     "metadata": {
      "needs_background": "light"
     },
     "output_type": "display_data"
    }
   ],
   "source": [
    "# Bar plot of count of accepted term deposit application by job\n",
    "ax = sns.countplot(x ='default', hue = \"deposit\", data = df)\n",
    "\n",
    "# Adding Title to the Plot\n",
    "ax.set_title('Bar Plot of Customers Long Term Application Acceptance by Credit Status')\n",
    "\n",
    "# Setting the X and Y labels\n",
    "ax.set_xlabel('Default')\n",
    "ax.set_ylabel('Count')\n",
    "\n",
    "# Show the plot\n",
    "plt.show()"
   ]
  },
  {
   "cell_type": "code",
   "execution_count": 16,
   "metadata": {},
   "outputs": [
    {
     "data": {
      "text/plain": [
       "no         32588\n",
       "unknown     8597\n",
       "yes            3\n",
       "Name: default, dtype: int64"
      ]
     },
     "execution_count": 16,
     "metadata": {},
     "output_type": "execute_result"
    }
   ],
   "source": [
    "df['default'].value_counts()"
   ]
  },
  {
   "cell_type": "markdown",
   "metadata": {},
   "source": [
    "Let's do some exploratory analysis on customers who signed on for the Long Term product and see what the breakdown is for features like education and marital status"
   ]
  },
  {
   "cell_type": "code",
   "execution_count": 17,
   "metadata": {},
   "outputs": [
    {
     "data": {
      "text/html": [
       "<div>\n",
       "<style scoped>\n",
       "    .dataframe tbody tr th:only-of-type {\n",
       "        vertical-align: middle;\n",
       "    }\n",
       "\n",
       "    .dataframe tbody tr th {\n",
       "        vertical-align: top;\n",
       "    }\n",
       "\n",
       "    .dataframe thead th {\n",
       "        text-align: right;\n",
       "    }\n",
       "</style>\n",
       "<table border=\"1\" class=\"dataframe\">\n",
       "  <thead>\n",
       "    <tr style=\"text-align: right;\">\n",
       "      <th></th>\n",
       "      <th>age</th>\n",
       "      <th>job</th>\n",
       "      <th>marital</th>\n",
       "      <th>education</th>\n",
       "      <th>default</th>\n",
       "      <th>housing</th>\n",
       "      <th>loan</th>\n",
       "      <th>contact</th>\n",
       "      <th>month</th>\n",
       "      <th>day_of_week</th>\n",
       "      <th>duration</th>\n",
       "      <th>campaign</th>\n",
       "      <th>pdays</th>\n",
       "      <th>previous</th>\n",
       "      <th>poutcome</th>\n",
       "      <th>emp.var.rate</th>\n",
       "      <th>cons.price.idx</th>\n",
       "      <th>cons.conf.idx</th>\n",
       "      <th>euribor3m</th>\n",
       "      <th>nr.employed</th>\n",
       "      <th>deposit</th>\n",
       "    </tr>\n",
       "  </thead>\n",
       "  <tbody>\n",
       "    <tr>\n",
       "      <th>75</th>\n",
       "      <td>41</td>\n",
       "      <td>blue-collar</td>\n",
       "      <td>divorced</td>\n",
       "      <td>basic.4y</td>\n",
       "      <td>unknown</td>\n",
       "      <td>yes</td>\n",
       "      <td>no</td>\n",
       "      <td>telephone</td>\n",
       "      <td>may</td>\n",
       "      <td>mon</td>\n",
       "      <td>1575</td>\n",
       "      <td>1</td>\n",
       "      <td>999</td>\n",
       "      <td>0</td>\n",
       "      <td>nonexistent</td>\n",
       "      <td>1.1</td>\n",
       "      <td>93.994</td>\n",
       "      <td>-36.4</td>\n",
       "      <td>4.857</td>\n",
       "      <td>5191.0</td>\n",
       "      <td>yes</td>\n",
       "    </tr>\n",
       "    <tr>\n",
       "      <th>83</th>\n",
       "      <td>49</td>\n",
       "      <td>entrepreneur</td>\n",
       "      <td>married</td>\n",
       "      <td>university.degree</td>\n",
       "      <td>unknown</td>\n",
       "      <td>yes</td>\n",
       "      <td>no</td>\n",
       "      <td>telephone</td>\n",
       "      <td>may</td>\n",
       "      <td>mon</td>\n",
       "      <td>1042</td>\n",
       "      <td>1</td>\n",
       "      <td>999</td>\n",
       "      <td>0</td>\n",
       "      <td>nonexistent</td>\n",
       "      <td>1.1</td>\n",
       "      <td>93.994</td>\n",
       "      <td>-36.4</td>\n",
       "      <td>4.857</td>\n",
       "      <td>5191.0</td>\n",
       "      <td>yes</td>\n",
       "    </tr>\n",
       "    <tr>\n",
       "      <th>88</th>\n",
       "      <td>49</td>\n",
       "      <td>technician</td>\n",
       "      <td>married</td>\n",
       "      <td>basic.9y</td>\n",
       "      <td>no</td>\n",
       "      <td>no</td>\n",
       "      <td>no</td>\n",
       "      <td>telephone</td>\n",
       "      <td>may</td>\n",
       "      <td>mon</td>\n",
       "      <td>1467</td>\n",
       "      <td>1</td>\n",
       "      <td>999</td>\n",
       "      <td>0</td>\n",
       "      <td>nonexistent</td>\n",
       "      <td>1.1</td>\n",
       "      <td>93.994</td>\n",
       "      <td>-36.4</td>\n",
       "      <td>4.857</td>\n",
       "      <td>5191.0</td>\n",
       "      <td>yes</td>\n",
       "    </tr>\n",
       "    <tr>\n",
       "      <th>129</th>\n",
       "      <td>41</td>\n",
       "      <td>technician</td>\n",
       "      <td>married</td>\n",
       "      <td>professional.course</td>\n",
       "      <td>unknown</td>\n",
       "      <td>yes</td>\n",
       "      <td>no</td>\n",
       "      <td>telephone</td>\n",
       "      <td>may</td>\n",
       "      <td>mon</td>\n",
       "      <td>579</td>\n",
       "      <td>1</td>\n",
       "      <td>999</td>\n",
       "      <td>0</td>\n",
       "      <td>nonexistent</td>\n",
       "      <td>1.1</td>\n",
       "      <td>93.994</td>\n",
       "      <td>-36.4</td>\n",
       "      <td>4.857</td>\n",
       "      <td>5191.0</td>\n",
       "      <td>yes</td>\n",
       "    </tr>\n",
       "    <tr>\n",
       "      <th>139</th>\n",
       "      <td>45</td>\n",
       "      <td>blue-collar</td>\n",
       "      <td>married</td>\n",
       "      <td>basic.9y</td>\n",
       "      <td>unknown</td>\n",
       "      <td>yes</td>\n",
       "      <td>no</td>\n",
       "      <td>telephone</td>\n",
       "      <td>may</td>\n",
       "      <td>mon</td>\n",
       "      <td>461</td>\n",
       "      <td>1</td>\n",
       "      <td>999</td>\n",
       "      <td>0</td>\n",
       "      <td>nonexistent</td>\n",
       "      <td>1.1</td>\n",
       "      <td>93.994</td>\n",
       "      <td>-36.4</td>\n",
       "      <td>4.857</td>\n",
       "      <td>5191.0</td>\n",
       "      <td>yes</td>\n",
       "    </tr>\n",
       "    <tr>\n",
       "      <th>182</th>\n",
       "      <td>42</td>\n",
       "      <td>blue-collar</td>\n",
       "      <td>married</td>\n",
       "      <td>basic.9y</td>\n",
       "      <td>no</td>\n",
       "      <td>yes</td>\n",
       "      <td>yes</td>\n",
       "      <td>telephone</td>\n",
       "      <td>may</td>\n",
       "      <td>mon</td>\n",
       "      <td>673</td>\n",
       "      <td>2</td>\n",
       "      <td>999</td>\n",
       "      <td>0</td>\n",
       "      <td>nonexistent</td>\n",
       "      <td>1.1</td>\n",
       "      <td>93.994</td>\n",
       "      <td>-36.4</td>\n",
       "      <td>4.857</td>\n",
       "      <td>5191.0</td>\n",
       "      <td>yes</td>\n",
       "    </tr>\n",
       "    <tr>\n",
       "      <th>286</th>\n",
       "      <td>39</td>\n",
       "      <td>housemaid</td>\n",
       "      <td>married</td>\n",
       "      <td>basic.9y</td>\n",
       "      <td>no</td>\n",
       "      <td>yes</td>\n",
       "      <td>no</td>\n",
       "      <td>telephone</td>\n",
       "      <td>may</td>\n",
       "      <td>mon</td>\n",
       "      <td>935</td>\n",
       "      <td>3</td>\n",
       "      <td>999</td>\n",
       "      <td>0</td>\n",
       "      <td>nonexistent</td>\n",
       "      <td>1.1</td>\n",
       "      <td>93.994</td>\n",
       "      <td>-36.4</td>\n",
       "      <td>4.857</td>\n",
       "      <td>5191.0</td>\n",
       "      <td>yes</td>\n",
       "    </tr>\n",
       "    <tr>\n",
       "      <th>388</th>\n",
       "      <td>28</td>\n",
       "      <td>unknown</td>\n",
       "      <td>single</td>\n",
       "      <td>unknown</td>\n",
       "      <td>unknown</td>\n",
       "      <td>yes</td>\n",
       "      <td>yes</td>\n",
       "      <td>telephone</td>\n",
       "      <td>may</td>\n",
       "      <td>tue</td>\n",
       "      <td>1201</td>\n",
       "      <td>1</td>\n",
       "      <td>999</td>\n",
       "      <td>0</td>\n",
       "      <td>nonexistent</td>\n",
       "      <td>1.1</td>\n",
       "      <td>93.994</td>\n",
       "      <td>-36.4</td>\n",
       "      <td>4.857</td>\n",
       "      <td>5191.0</td>\n",
       "      <td>yes</td>\n",
       "    </tr>\n",
       "    <tr>\n",
       "      <th>389</th>\n",
       "      <td>44</td>\n",
       "      <td>services</td>\n",
       "      <td>married</td>\n",
       "      <td>high.school</td>\n",
       "      <td>no</td>\n",
       "      <td>yes</td>\n",
       "      <td>no</td>\n",
       "      <td>telephone</td>\n",
       "      <td>may</td>\n",
       "      <td>tue</td>\n",
       "      <td>1030</td>\n",
       "      <td>1</td>\n",
       "      <td>999</td>\n",
       "      <td>0</td>\n",
       "      <td>nonexistent</td>\n",
       "      <td>1.1</td>\n",
       "      <td>93.994</td>\n",
       "      <td>-36.4</td>\n",
       "      <td>4.857</td>\n",
       "      <td>5191.0</td>\n",
       "      <td>yes</td>\n",
       "    </tr>\n",
       "    <tr>\n",
       "      <th>446</th>\n",
       "      <td>42</td>\n",
       "      <td>technician</td>\n",
       "      <td>married</td>\n",
       "      <td>professional.course</td>\n",
       "      <td>no</td>\n",
       "      <td>no</td>\n",
       "      <td>no</td>\n",
       "      <td>telephone</td>\n",
       "      <td>may</td>\n",
       "      <td>tue</td>\n",
       "      <td>1623</td>\n",
       "      <td>1</td>\n",
       "      <td>999</td>\n",
       "      <td>0</td>\n",
       "      <td>nonexistent</td>\n",
       "      <td>1.1</td>\n",
       "      <td>93.994</td>\n",
       "      <td>-36.4</td>\n",
       "      <td>4.857</td>\n",
       "      <td>5191.0</td>\n",
       "      <td>yes</td>\n",
       "    </tr>\n",
       "  </tbody>\n",
       "</table>\n",
       "</div>"
      ],
      "text/plain": [
       "     age           job   marital            education  default housing loan  \\\n",
       "75    41   blue-collar  divorced             basic.4y  unknown     yes   no   \n",
       "83    49  entrepreneur   married    university.degree  unknown     yes   no   \n",
       "88    49    technician   married             basic.9y       no      no   no   \n",
       "129   41    technician   married  professional.course  unknown     yes   no   \n",
       "139   45   blue-collar   married             basic.9y  unknown     yes   no   \n",
       "182   42   blue-collar   married             basic.9y       no     yes  yes   \n",
       "286   39     housemaid   married             basic.9y       no     yes   no   \n",
       "388   28       unknown    single              unknown  unknown     yes  yes   \n",
       "389   44      services   married          high.school       no     yes   no   \n",
       "446   42    technician   married  professional.course       no      no   no   \n",
       "\n",
       "       contact month day_of_week  duration  campaign  pdays  previous  \\\n",
       "75   telephone   may         mon      1575         1    999         0   \n",
       "83   telephone   may         mon      1042         1    999         0   \n",
       "88   telephone   may         mon      1467         1    999         0   \n",
       "129  telephone   may         mon       579         1    999         0   \n",
       "139  telephone   may         mon       461         1    999         0   \n",
       "182  telephone   may         mon       673         2    999         0   \n",
       "286  telephone   may         mon       935         3    999         0   \n",
       "388  telephone   may         tue      1201         1    999         0   \n",
       "389  telephone   may         tue      1030         1    999         0   \n",
       "446  telephone   may         tue      1623         1    999         0   \n",
       "\n",
       "        poutcome  emp.var.rate  cons.price.idx  cons.conf.idx  euribor3m  \\\n",
       "75   nonexistent           1.1          93.994          -36.4      4.857   \n",
       "83   nonexistent           1.1          93.994          -36.4      4.857   \n",
       "88   nonexistent           1.1          93.994          -36.4      4.857   \n",
       "129  nonexistent           1.1          93.994          -36.4      4.857   \n",
       "139  nonexistent           1.1          93.994          -36.4      4.857   \n",
       "182  nonexistent           1.1          93.994          -36.4      4.857   \n",
       "286  nonexistent           1.1          93.994          -36.4      4.857   \n",
       "388  nonexistent           1.1          93.994          -36.4      4.857   \n",
       "389  nonexistent           1.1          93.994          -36.4      4.857   \n",
       "446  nonexistent           1.1          93.994          -36.4      4.857   \n",
       "\n",
       "     nr.employed deposit  \n",
       "75        5191.0     yes  \n",
       "83        5191.0     yes  \n",
       "88        5191.0     yes  \n",
       "129       5191.0     yes  \n",
       "139       5191.0     yes  \n",
       "182       5191.0     yes  \n",
       "286       5191.0     yes  \n",
       "388       5191.0     yes  \n",
       "389       5191.0     yes  \n",
       "446       5191.0     yes  "
      ]
     },
     "execution_count": 17,
     "metadata": {},
     "output_type": "execute_result"
    }
   ],
   "source": [
    "# Create a new df with customers where deposit = yes\n",
    "#bank_df = df.query(\"deposit = yes\")\n",
    "value='yes'\n",
    "bank_df=df.query(\"deposit == @value\")\n",
    "bank_df.head(10)"
   ]
  },
  {
   "cell_type": "code",
   "execution_count": 18,
   "metadata": {},
   "outputs": [
    {
     "name": "stdout",
     "output_type": "stream",
     "text": [
      "Number of Successful campaign records (4640, 21)\n"
     ]
    }
   ],
   "source": [
    "print('Number of Successful campaign records', bank_df.shape)"
   ]
  },
  {
   "cell_type": "code",
   "execution_count": 19,
   "metadata": {},
   "outputs": [
    {
     "data": {
      "image/png": "[encoded data removed]",
      "text/plain": [
       "<Figure size 864x504 with 1 Axes>"
      ]
     },
     "metadata": {
      "needs_background": "light"
     },
     "output_type": "display_data"
    }
   ],
   "source": [
    "# Let plot a bar chart of the\n",
    "# count plot on two categorical variable\n",
    "\n",
    "plt.rcParams[\"figure.figsize\"] = [12, 7]\n",
    "plt.rcParams[\"figure.autolayout\"] = True\n",
    "ax = sns.countplot(x =bank_df['marital'], hue = bank_df[\"deposit\"], data = df)\n",
    "\n",
    "# Adding Title to the Plot\n",
    "ax.set_title('Bar Plot of Customers Long Term Application Acceptance by Marital Status - Deposit=Yes')\n",
    "\n",
    "for p in ax.patches:\n",
    "   ax.annotate('{:.1f}'.format(p.get_height()), (p.get_x()+0.25, p.get_height()+0.01))\n",
    "\n",
    "# Setting the X and Y labels\n",
    "ax.set_xlabel('Marital Status')\n",
    "ax.set_ylabel('Count')\n",
    " \n",
    "# Show the plot\n",
    "plt.show()"
   ]
  },
  {
   "cell_type": "code",
   "execution_count": 20,
   "metadata": {},
   "outputs": [
    {
     "data": {
      "image/png": "[encoded data removed]",
      "text/plain": [
       "<Figure size 864x504 with 1 Axes>"
      ]
     },
     "metadata": {
      "needs_background": "light"
     },
     "output_type": "display_data"
    }
   ],
   "source": [
    "# Bar plot of count of accepted term deposit application by Education\n",
    "ax = sns.countplot(y ='education', hue = \"deposit\", data = bank_df)\n",
    "\n",
    "# Adding Title to the Plot\n",
    "ax.set_title('Bar Plot of Customers Long Term Application Acceptance by Education - Deposit=Yes')\n",
    "\n",
    "# Setting the X and Y labels\n",
    "ax.set_xlabel('Contact')\n",
    "ax.set_ylabel('Education')\n",
    "\n",
    "# Show the plot\n",
    "plt.show()"
   ]
  },
  {
   "cell_type": "code",
   "execution_count": 21,
   "metadata": {},
   "outputs": [
    {
     "data": {
      "image/png": "[encoded data removed]",
      "text/plain": [
       "<Figure size 864x504 with 1 Axes>"
      ]
     },
     "metadata": {
      "needs_background": "light"
     },
     "output_type": "display_data"
    }
   ],
   "source": [
    "# Bar plot of count of accepted term deposit application by job\n",
    "ax = sns.countplot(x ='job', hue = \"deposit\", data = bank_df)\n",
    "\n",
    "# Adding Title to the Plot\n",
    "ax.set_title('Bar Plot of Customers Long Term Application Acceptance by Job - Deposit=Yes')\n",
    "\n",
    "# Setting the X and Y labels\n",
    "ax.set_xlabel('Job')\n",
    "ax.set_ylabel('Count')\n",
    "\n",
    "# Show the plot\n",
    "plt.show()"
   ]
  },
  {
   "cell_type": "code",
   "execution_count": 22,
   "metadata": {},
   "outputs": [
    {
     "data": {
      "image/png": "[encoded data removed]",
      "text/plain": [
       "<Figure size 864x504 with 1 Axes>"
      ]
     },
     "metadata": {
      "needs_background": "light"
     },
     "output_type": "display_data"
    }
   ],
   "source": [
    "plt.rcParams[\"figure.figsize\"] = [12, 7]\n",
    "plt.rcParams[\"figure.autolayout\"] = True\n",
    "ax = sns.countplot(x ='contact', hue = \"deposit\", data = bank_df)\n",
    "\n",
    "# Adding Title to the Plot\n",
    "ax.set_title('Bar Plot of Customers Long Term Application Acceptance by Contact - Deposit=Yes')\n",
    "\n",
    "for p in ax.patches:\n",
    "   ax.annotate('{:.1f}'.format(p.get_height()), (p.get_x()+0.25, p.get_height()+0.01))\n",
    "\n",
    "# Setting the X and Y labels\n",
    "ax.set_xlabel('Contact')\n",
    "ax.set_ylabel('Count')\n",
    " \n",
    "# Show the plot\n",
    "plt.show()"
   ]
  },
  {
   "cell_type": "markdown",
   "metadata": {},
   "source": [
    "#### Observations"
   ]
  },
  {
   "cell_type": "markdown",
   "metadata": {},
   "source": [
    "Reviewing the plots where the customer signed up for the Bank Product/Marketing campaign was successful, you can observe the following:\n",
    "- Marital Status - Bank was successful with customers that were married followed by single folks\n",
    "- On Education, university degree folks said yes to the bank loan product\n",
    "- For Job, bank had the most success with folks in admin role which is very broad, followed by Technician, then blue-collar\n",
    "- Finally, marketing campaign was more successful with folks that used Cellular phones"
   ]
  },
  {
   "cell_type": "code",
   "execution_count": null,
   "metadata": {},
   "outputs": [],
   "source": []
  },
  {
   "cell_type": "markdown",
   "metadata": {},
   "source": [
    "### Problem 4: Understanding the Task\n",
    "\n",
    "After examining the description and data, your goal now is to clearly state the *Business Objective* of the task.  State the objective below."
   ]
  },
  {
   "cell_type": "code",
   "execution_count": 23,
   "metadata": {
    "scrolled": true
   },
   "outputs": [
    {
     "name": "stdout",
     "output_type": "stream",
     "text": [
      "<class 'pandas.core.frame.DataFrame'>\n",
      "RangeIndex: 41188 entries, 0 to 41187\n",
      "Data columns (total 21 columns):\n",
      " #   Column          Non-Null Count  Dtype  \n",
      "---  ------          --------------  -----  \n",
      " 0   age             41188 non-null  int64  \n",
      " 1   job             41188 non-null  object \n",
      " 2   marital         41188 non-null  object \n",
      " 3   education       41188 non-null  object \n",
      " 4   default         41188 non-null  object \n",
      " 5   housing         41188 non-null  object \n",
      " 6   loan            41188 non-null  object \n",
      " 7   contact         41188 non-null  object \n",
      " 8   month           41188 non-null  object \n",
      " 9   day_of_week     41188 non-null  object \n",
      " 10  duration        41188 non-null  int64  \n",
      " 11  campaign        41188 non-null  int64  \n",
      " 12  pdays           41188 non-null  int64  \n",
      " 13  previous        41188 non-null  int64  \n",
      " 14  poutcome        41188 non-null  object \n",
      " 15  emp.var.rate    41188 non-null  float64\n",
      " 16  cons.price.idx  41188 non-null  float64\n",
      " 17  cons.conf.idx   41188 non-null  float64\n",
      " 18  euribor3m       41188 non-null  float64\n",
      " 19  nr.employed     41188 non-null  float64\n",
      " 20  deposit         41188 non-null  object \n",
      "dtypes: float64(5), int64(5), object(11)\n",
      "memory usage: 6.6+ MB\n"
     ]
    }
   ],
   "source": [
    "df.info()"
   ]
  },
  {
   "cell_type": "code",
   "execution_count": null,
   "metadata": {},
   "outputs": [],
   "source": []
  },
  {
   "cell_type": "markdown",
   "metadata": {},
   "source": [
    "This dataset was provided for a Portugese banking institution and is a collection of the results of multiple marketing campaigns.  The analysis of the data shows that the marketing campaign was not very successful in getting customers to sign up for the long term deposit product.\n",
    "\n",
    "From a business objective, the task of this Machine Learning project is to determine which factors could lead to a higher success rate, for example,\n",
    "- How does loan products have a positive impact on customer success rate?, for example, do we concentrate on customers with Housing loan?\n",
    "- Are we going to have a better success rate with customers with “university degree”?\n",
    "- How does the contact method (i.e., cellular) affect whether the success rate for long term loan products?"
   ]
  },
  {
   "cell_type": "code",
   "execution_count": null,
   "metadata": {},
   "outputs": [],
   "source": []
  },
  {
   "cell_type": "markdown",
   "metadata": {},
   "source": [
    "### Problem 5: Engineering Features\n",
    "\n",
    "Now that you understand your business objective, we will build a basic model to get started.  Before we can do this, we must work to encode the data.  Using just the bank information features (columns 1 - 7), prepare the features and target column for modeling with appropriate encoding and transformations."
   ]
  },
  {
   "cell_type": "code",
   "execution_count": 24,
   "metadata": {},
   "outputs": [
    {
     "data": {
      "text/html": [
       "<div>\n",
       "<style scoped>\n",
       "    .dataframe tbody tr th:only-of-type {\n",
       "        vertical-align: middle;\n",
       "    }\n",
       "\n",
       "    .dataframe tbody tr th {\n",
       "        vertical-align: top;\n",
       "    }\n",
       "\n",
       "    .dataframe thead th {\n",
       "        text-align: right;\n",
       "    }\n",
       "</style>\n",
       "<table border=\"1\" class=\"dataframe\">\n",
       "  <thead>\n",
       "    <tr style=\"text-align: right;\">\n",
       "      <th></th>\n",
       "      <th>job</th>\n",
       "      <th>marital</th>\n",
       "      <th>education</th>\n",
       "      <th>default</th>\n",
       "      <th>housing</th>\n",
       "      <th>loan</th>\n",
       "      <th>contact</th>\n",
       "    </tr>\n",
       "  </thead>\n",
       "  <tbody>\n",
       "    <tr>\n",
       "      <th>0</th>\n",
       "      <td>housemaid</td>\n",
       "      <td>married</td>\n",
       "      <td>basic.4y</td>\n",
       "      <td>no</td>\n",
       "      <td>no</td>\n",
       "      <td>no</td>\n",
       "      <td>telephone</td>\n",
       "    </tr>\n",
       "    <tr>\n",
       "      <th>1</th>\n",
       "      <td>services</td>\n",
       "      <td>married</td>\n",
       "      <td>high.school</td>\n",
       "      <td>unknown</td>\n",
       "      <td>no</td>\n",
       "      <td>no</td>\n",
       "      <td>telephone</td>\n",
       "    </tr>\n",
       "    <tr>\n",
       "      <th>2</th>\n",
       "      <td>services</td>\n",
       "      <td>married</td>\n",
       "      <td>high.school</td>\n",
       "      <td>no</td>\n",
       "      <td>yes</td>\n",
       "      <td>no</td>\n",
       "      <td>telephone</td>\n",
       "    </tr>\n",
       "    <tr>\n",
       "      <th>3</th>\n",
       "      <td>admin.</td>\n",
       "      <td>married</td>\n",
       "      <td>basic.6y</td>\n",
       "      <td>no</td>\n",
       "      <td>no</td>\n",
       "      <td>no</td>\n",
       "      <td>telephone</td>\n",
       "    </tr>\n",
       "    <tr>\n",
       "      <th>4</th>\n",
       "      <td>services</td>\n",
       "      <td>married</td>\n",
       "      <td>high.school</td>\n",
       "      <td>no</td>\n",
       "      <td>no</td>\n",
       "      <td>yes</td>\n",
       "      <td>telephone</td>\n",
       "    </tr>\n",
       "    <tr>\n",
       "      <th>5</th>\n",
       "      <td>services</td>\n",
       "      <td>married</td>\n",
       "      <td>basic.9y</td>\n",
       "      <td>unknown</td>\n",
       "      <td>no</td>\n",
       "      <td>no</td>\n",
       "      <td>telephone</td>\n",
       "    </tr>\n",
       "    <tr>\n",
       "      <th>6</th>\n",
       "      <td>admin.</td>\n",
       "      <td>married</td>\n",
       "      <td>professional.course</td>\n",
       "      <td>no</td>\n",
       "      <td>no</td>\n",
       "      <td>no</td>\n",
       "      <td>telephone</td>\n",
       "    </tr>\n",
       "    <tr>\n",
       "      <th>7</th>\n",
       "      <td>blue-collar</td>\n",
       "      <td>married</td>\n",
       "      <td>unknown</td>\n",
       "      <td>unknown</td>\n",
       "      <td>no</td>\n",
       "      <td>no</td>\n",
       "      <td>telephone</td>\n",
       "    </tr>\n",
       "    <tr>\n",
       "      <th>8</th>\n",
       "      <td>technician</td>\n",
       "      <td>single</td>\n",
       "      <td>professional.course</td>\n",
       "      <td>no</td>\n",
       "      <td>yes</td>\n",
       "      <td>no</td>\n",
       "      <td>telephone</td>\n",
       "    </tr>\n",
       "    <tr>\n",
       "      <th>9</th>\n",
       "      <td>services</td>\n",
       "      <td>single</td>\n",
       "      <td>high.school</td>\n",
       "      <td>no</td>\n",
       "      <td>yes</td>\n",
       "      <td>no</td>\n",
       "      <td>telephone</td>\n",
       "    </tr>\n",
       "  </tbody>\n",
       "</table>\n",
       "</div>"
      ],
      "text/plain": [
       "           job  marital            education  default housing loan    contact\n",
       "0    housemaid  married             basic.4y       no      no   no  telephone\n",
       "1     services  married          high.school  unknown      no   no  telephone\n",
       "2     services  married          high.school       no     yes   no  telephone\n",
       "3       admin.  married             basic.6y       no      no   no  telephone\n",
       "4     services  married          high.school       no      no  yes  telephone\n",
       "5     services  married             basic.9y  unknown      no   no  telephone\n",
       "6       admin.  married  professional.course       no      no   no  telephone\n",
       "7  blue-collar  married              unknown  unknown      no   no  telephone\n",
       "8   technician   single  professional.course       no     yes   no  telephone\n",
       "9     services   single          high.school       no     yes   no  telephone"
      ]
     },
     "execution_count": 24,
     "metadata": {},
     "output_type": "execute_result"
    }
   ],
   "source": [
    "# Create a dataset with columns 1-7 for features and deposit for target column\n",
    "\n",
    "# for the purposes of this re-use, create a list of features 1-7\n",
    "feature_cols = [\n",
    "    'job', 'marital', 'education', 'default', 'housing',\n",
    "    'loan', 'contact'\n",
    "]\n",
    "\n",
    "\n",
    "X = df[feature_cols]\n",
    "y = df['deposit']\n",
    "\n",
    "X.head(10)"
   ]
  },
  {
   "cell_type": "code",
   "execution_count": 25,
   "metadata": {},
   "outputs": [
    {
     "data": {
      "text/plain": [
       "cellular     26144\n",
       "telephone    15044\n",
       "Name: contact, dtype: int64"
      ]
     },
     "execution_count": 25,
     "metadata": {},
     "output_type": "execute_result"
    }
   ],
   "source": [
    "X['contact'].value_counts()"
   ]
  },
  {
   "cell_type": "markdown",
   "metadata": {},
   "source": [
    "Use ColumnTransformer to selectively apply data preparation transforms, it allows you to apply a specific transform or sequence of transforms to just the numerical columns, and a separate sequence of transforms to just the categorical columns."
   ]
  },
  {
   "cell_type": "code",
   "execution_count": 26,
   "metadata": {},
   "outputs": [
    {
     "data": {
      "text/plain": [
       "ColumnTransformer(remainder='passthrough',\n",
       "                  transformers=[('onehotencoder',\n",
       "                                 OneHotEncoder(handle_unknown='ignore'),\n",
       "                                 ['job', 'marital', 'education', 'default',\n",
       "                                  'contact']),\n",
       "                                ('ordinalencoder', OrdinalEncoder(),\n",
       "                                 ['housing', 'loan'])])"
      ]
     },
     "execution_count": 26,
     "metadata": {},
     "output_type": "execute_result"
    }
   ],
   "source": [
    "column_trans = make_column_transformer((OneHotEncoder(handle_unknown='ignore'),\n",
    "                                        ['job', 'marital', 'education','default','contact']),\n",
    "                                      (OrdinalEncoder(), ['housing','loan']),\n",
    "                                      remainder='passthrough')\n",
    "\n",
    "column_trans.fit(X)"
   ]
  },
  {
   "cell_type": "markdown",
   "metadata": {},
   "source": [
    "Use LabelEncoder to encode labels of the target column"
   ]
  },
  {
   "cell_type": "code",
   "execution_count": 27,
   "metadata": {},
   "outputs": [
    {
     "data": {
      "text/plain": [
       "array([0, 0, 0, ..., 0, 1, 0])"
      ]
     },
     "execution_count": 27,
     "metadata": {},
     "output_type": "execute_result"
    }
   ],
   "source": [
    "le = LabelEncoder()\n",
    "le.fit_transform(y)\n"
   ]
  },
  {
   "cell_type": "code",
   "execution_count": null,
   "metadata": {},
   "outputs": [],
   "source": []
  },
  {
   "cell_type": "markdown",
   "metadata": {},
   "source": [
    "### Problem 6: Train/Test Split\n",
    "\n",
    "With your data prepared, split it into a train and test set.\n",
    "Next, we will split the data into a training set and a test set using the train_test_split function. We will use 30% of the data as the test set:"
   ]
  },
  {
   "cell_type": "code",
   "execution_count": 28,
   "metadata": {},
   "outputs": [],
   "source": [
    "X_train, X_test, y_train, y_test = train_test_split(X, y, test_size=0.3, random_state=42)"
   ]
  },
  {
   "cell_type": "markdown",
   "metadata": {},
   "source": [
    "### Problem 7: A Baseline Model\n",
    "\n",
    "Before we build our first model, we want to establish a baseline.  What is the baseline performance that our classifier should aim to beat?"
   ]
  },
  {
   "cell_type": "code",
   "execution_count": 29,
   "metadata": {},
   "outputs": [],
   "source": [
    "#Building a decision tree baseline model\n",
    "from sklearn.pipeline import Pipeline\n",
    "\n",
    "dtc_pipe = Pipeline ([\n",
    "    ('transformer', column_trans),\n",
    "    ('scale', StandardScaler(with_mean=False)),\n",
    "    ('model', DecisionTreeClassifier(max_depth=5))\n",
    "])"
   ]
  },
  {
   "cell_type": "code",
   "execution_count": 30,
   "metadata": {},
   "outputs": [
    {
     "name": "stdout",
     "output_type": "stream",
     "text": [
      "CPU times: user 109 ms, sys: 5.03 ms, total: 114 ms\n",
      "Wall time: 114 ms\n"
     ]
    }
   ],
   "source": [
    "%%time\n",
    "# Train the classifiers\n",
    "dtc = dtc_pipe.fit(X_train, y_train)\n",
    "\n",
    "# use the model to predict the class labels of the test set:\n",
    "dtc_pred = dtc.predict(X_test)\n",
    "\n"
   ]
  },
  {
   "cell_type": "code",
   "execution_count": 31,
   "metadata": {},
   "outputs": [
    {
     "name": "stdout",
     "output_type": "stream",
     "text": [
      "Accuracy: 0.887432\n",
      "Precision: 0.443788\n",
      "Recall: 0.499909\n",
      "F1-score: 0.470180\n"
     ]
    }
   ],
   "source": [
    "# Evaluate the performance of the model, we will calculate the accuracy, precision, recall, and f1-score:\n",
    "from sklearn.metrics import accuracy_score, precision_score, recall_score, f1_score, confusion_matrix\n",
    "accuracy = accuracy_score(y_test, dtc_pred)\n",
    "precision = precision_score(y_test, dtc_pred, average='macro')\n",
    "recall = recall_score(y_test, dtc_pred, average='macro')\n",
    "f1 = f1_score(y_test, dtc_pred, average='macro')\n",
    "\n",
    "print(\"Accuracy: {:.6f}\".format(accuracy))\n",
    "print(\"Precision: {:.6f}\".format(precision))\n",
    "print(\"Recall: {:.6f}\".format(recall))\n",
    "print(\"F1-score: {:.6f}\".format(f1))"
   ]
  },
  {
   "cell_type": "markdown",
   "metadata": {},
   "source": [
    "To visualize the results, we can use a confusion matrix. A confusion matrix is a table that is used to define the performance of a classification algorithm. Each row of the matrix represents the instances in a predicted class while each column represents the instances in an actual class (or vice versa). The main diagonal of the matrix represents the correct predictions, while the off-diagonal elements represent the incorrect predictions. The overall performance of the model can be calculated by using metrics like accuracy, precision, recall and F1-score by combining the values of TP, FP, TN and FN."
   ]
  },
  {
   "cell_type": "code",
   "execution_count": 32,
   "metadata": {},
   "outputs": [
    {
     "data": {
      "image/png": "[encoded data removed]",
      "text/plain": [
       "<Figure size 864x504 with 2 Axes>"
      ]
     },
     "metadata": {
      "needs_background": "light"
     },
     "output_type": "display_data"
    }
   ],
   "source": [
    "import seaborn as sns\n",
    "ax= plt.subplot()\n",
    "conf_matrix = confusion_matrix(y_test, dtc_pred)\n",
    "sns.heatmap(conf_matrix, annot = True, cmap = 'Blues_r', fmt = 'd', ax=ax)\n",
    "\n",
    "# labels, title and ticks\n",
    "ax.set_xlabel('Actual labels');ax.set_ylabel('Predicted labels'); \n",
    "ax.set_title('Confusion Matrix of Decision Tree Classifier'); \n",
    "ax.xaxis.set_ticklabels(['No', 'Yes']); \n",
    "ax.yaxis.set_ticklabels(['No', 'Yes']);\n",
    "\n",
    "#plt.xlabel('Predicted')\n",
    "#plt.ylabel('Actual')\n",
    "plt.show()"
   ]
  },
  {
   "cell_type": "markdown",
   "metadata": {},
   "source": [
    "A Confusion matrix is an N x N matrix used for evaluating the performance of a classification model, where N is the number of target classes. The matrix compares the actual target values with those predicted by the machine learning model. A good model is one which has high TP and TN rates, while low FP and FN rates.\n",
    "\n",
    "With the confusion matrix above for the DecisionTreeClassifier, it has a high number of TP rates with no TN. This combined with an accuracy rate of 0.89 indicates that the model is good although the recall and precision values are at 0.5 and below 0.5 respectively. Definitions below:\n",
    "- A low recall score (<0.5) means your classifier has a high number of False negatives which can be an outcome of imbalanced class or untuned model hyperparameters\n",
    "- A low precision score (<0.5) means your classifier has a high number of False positives which can be an outcome of imbalanced class or untuned model hyperparameters.\n",
    "\n",
    "Confusion matrix above is slightly counter intuitive because this data set is heavily weighted towards customers that said No to the long term product hence the No as the True Positive above with a value of 10,967."
   ]
  },
  {
   "cell_type": "code",
   "execution_count": null,
   "metadata": {},
   "outputs": [],
   "source": []
  },
  {
   "cell_type": "markdown",
   "metadata": {},
   "source": [
    "### Problem 8: A Simple Model\n",
    "\n",
    "Use Logistic Regression to build a basic model on your data.  "
   ]
  },
  {
   "cell_type": "code",
   "execution_count": 33,
   "metadata": {},
   "outputs": [],
   "source": [
    "#Building a Logistic Regression simple model\n",
    "\n",
    "logr_pipe = Pipeline ([\n",
    "    ('transformer', column_trans),\n",
    "    ('scale', StandardScaler(with_mean=False)),\n",
    "    ('model', LogisticRegression())\n",
    "])"
   ]
  },
  {
   "cell_type": "code",
   "execution_count": 34,
   "metadata": {},
   "outputs": [
    {
     "name": "stdout",
     "output_type": "stream",
     "text": [
      "CPU times: user 178 ms, sys: 5.66 ms, total: 184 ms\n",
      "Wall time: 183 ms\n"
     ]
    }
   ],
   "source": [
    "%%time\n",
    "# Train the classifiers\n",
    "logr = logr_pipe.fit(X_train, y_train)\n",
    "\n",
    "# use the model to predict the class labels of the test set:\n",
    "logr_pred = logr.predict(X_test)"
   ]
  },
  {
   "cell_type": "markdown",
   "metadata": {},
   "source": [
    "A couple of metrics can be used to assess how well a logistic regression model fits our dataset, namely:\n",
    "- Sensitivity : the probability that the model predicts a positive outcome for an observation when indeed the outcome is positive. Known as \"True Positive Rate\"\n",
    "- Specificity : tThe probability that the model predicts a positive outcome for an observation when indeed the outcome is positive. Know as \"True Negative Rate\"\n",
    "\n",
    "A way to visualize these metrics is by creating a Receiver Operating Characteristic (ROC) Curve that displays the sensitivity and specificity of a logistic regression model."
   ]
  },
  {
   "cell_type": "code",
   "execution_count": 35,
   "metadata": {},
   "outputs": [
    {
     "data": {
      "image/png": "[encoded data removed]",
      "text/plain": [
       "<Figure size 864x504 with 1 Axes>"
      ]
     },
     "metadata": {
      "needs_background": "light"
     },
     "output_type": "display_data"
    }
   ],
   "source": [
    "#define metrics\n",
    "from sklearn import metrics\n",
    "y_pred_proba = logr.predict_proba(X_test)\n",
    "yes_probs = y_pred_proba[::,1]\n",
    "\n",
    "# Build confusion metrics for Yes\n",
    "#fpr, tpr, _ = metrics.roc_curve(y_test,  y_pred_proba, pos_label='yes')\n",
    "fpr, tpr, threshold = metrics.roc_curve(y_true=y_test,  y_score=yes_probs, pos_label='yes')\n",
    "fpr1, tpr1, threshold1 = metrics.roc_curve(y_true=y_test,  y_score=yes_probs, pos_label='no')\n",
    "\n",
    "#create ROC curve\n",
    "plt.plot(fpr,tpr, label=\"Yes\")\n",
    "plt.plot(fpr1,tpr1, label=\"No\")\n",
    "plt.legend(loc=\"upper left\")\n",
    "plt.title('Receiver Operating Characteristic Curve', size=18)\n",
    "plt.plot([0, 1], [0, 1], color='green', linestyle=':')\n",
    "plt.ylabel('True Positive Rate')\n",
    "plt.xlabel('False Positive Rate')\n",
    "plt.show()"
   ]
  },
  {
   "cell_type": "code",
   "execution_count": 36,
   "metadata": {},
   "outputs": [
    {
     "name": "stdout",
     "output_type": "stream",
     "text": [
      "Area under curve is 0.690000\n"
     ]
    }
   ],
   "source": [
    "# Let's see what's the area under the curve auc for our model\n",
    "from sklearn.metrics import roc_auc_score\n",
    "auc = roc_auc_score(y_true=y_test, y_score=yes_probs)\n",
    "print(\"Area under curve is {:.6f}\".format(round(auc, 2)))\n",
    "    \n"
   ]
  },
  {
   "cell_type": "markdown",
   "metadata": {},
   "source": [
    "With the ROC plot above, deposit = Yes is closer to top-left corner of the plt that indicates better performance than the Deposit = No. With the ROC AUC score of 0.69 which is over 0.5, this means that the classifer can detect more numbers of True positives and True negatives than False negatives and False positives."
   ]
  },
  {
   "cell_type": "code",
   "execution_count": null,
   "metadata": {},
   "outputs": [],
   "source": []
  },
  {
   "cell_type": "markdown",
   "metadata": {},
   "source": [
    "### Problem 9: Score the Model\n",
    "\n",
    "What is the accuracy of your model?"
   ]
  },
  {
   "cell_type": "code",
   "execution_count": 37,
   "metadata": {},
   "outputs": [
    {
     "name": "stdout",
     "output_type": "stream",
     "text": [
      "Accuracy: 0.887594\n",
      "Precision: 0.443797\n",
      "Recall: 0.500000\n",
      "F1-score: 0.470225\n"
     ]
    },
    {
     "name": "stderr",
     "output_type": "stream",
     "text": [
      "/Users/yemifalokun/opt/anaconda3/lib/python3.9/site-packages/sklearn/metrics/_classification.py:1318: UndefinedMetricWarning: Precision is ill-defined and being set to 0.0 in labels with no predicted samples. Use `zero_division` parameter to control this behavior.\n",
      "  _warn_prf(average, modifier, msg_start, len(result))\n"
     ]
    }
   ],
   "source": [
    "# Evaluate the performance of the model, we will calculate the accuracy, precision, recall, and f1-score:\n",
    "accuracy = accuracy_score(y_test, logr_pred)\n",
    "precision = precision_score(y_test, logr_pred, average='macro')\n",
    "recall = recall_score(y_test, logr_pred, average='macro')\n",
    "f1 = f1_score(y_test, logr_pred, average='macro')\n",
    "\n",
    "print(\"Accuracy: {:.6f}\".format(accuracy))\n",
    "print(\"Precision: {:.6f}\".format(precision))\n",
    "print(\"Recall: {:.6f}\".format(recall))\n",
    "print(\"F1-score: {:.6f}\".format(f1))"
   ]
  },
  {
   "cell_type": "markdown",
   "metadata": {},
   "source": [
    "Printing the results from the two models above:"
   ]
  },
  {
   "cell_type": "code",
   "execution_count": 38,
   "metadata": {},
   "outputs": [
    {
     "data": {
      "text/html": [
       "<div>\n",
       "<style scoped>\n",
       "    .dataframe tbody tr th:only-of-type {\n",
       "        vertical-align: middle;\n",
       "    }\n",
       "\n",
       "    .dataframe tbody tr th {\n",
       "        vertical-align: top;\n",
       "    }\n",
       "\n",
       "    .dataframe thead th {\n",
       "        text-align: right;\n",
       "    }\n",
       "</style>\n",
       "<table border=\"1\" class=\"dataframe\">\n",
       "  <thead>\n",
       "    <tr style=\"text-align: right;\">\n",
       "      <th></th>\n",
       "      <th>Model</th>\n",
       "      <th>Accuracy</th>\n",
       "      <th>Precision</th>\n",
       "      <th>Recall</th>\n",
       "      <th>F1_Score</th>\n",
       "      <th>Fit_Time (ms)</th>\n",
       "    </tr>\n",
       "  </thead>\n",
       "  <tbody>\n",
       "    <tr>\n",
       "      <th>0</th>\n",
       "      <td>Decision Tree</td>\n",
       "      <td>0.887513</td>\n",
       "      <td>0.443792</td>\n",
       "      <td>0.499954</td>\n",
       "      <td>0.470202</td>\n",
       "      <td>128</td>\n",
       "    </tr>\n",
       "    <tr>\n",
       "      <th>1</th>\n",
       "      <td>Logistic Regression</td>\n",
       "      <td>0.887594</td>\n",
       "      <td>0.443797</td>\n",
       "      <td>0.500000</td>\n",
       "      <td>0.470225</td>\n",
       "      <td>193</td>\n",
       "    </tr>\n",
       "  </tbody>\n",
       "</table>\n",
       "</div>"
      ],
      "text/plain": [
       "                 Model  Accuracy Precision    Recall  F1_Score Fit_Time (ms)\n",
       "0        Decision Tree  0.887513  0.443792  0.499954  0.470202           128\n",
       "1  Logistic Regression  0.887594  0.443797  0.500000  0.470225           193"
      ]
     },
     "execution_count": 38,
     "metadata": {},
     "output_type": "execute_result"
    }
   ],
   "source": [
    "pd.DataFrame({'Model': ['Decision Tree', 'Logistic Regression'], \n",
    "             'Accuracy': ['0.887513', '0.887594'],\n",
    "             'Precision': ['0.443792', '0.443797'],\n",
    "             'Recall': ['0.499954', '0.500000'],\n",
    "             'F1_Score': ['0.470202', '0.470225'],\n",
    "             'Fit_Time (ms)': ['128', '193']})"
   ]
  },
  {
   "cell_type": "markdown",
   "metadata": {},
   "source": [
    "Quick review of this results show that accuracy scores were very close with numbers over 85%, however the recall, precision and F1_Score were below 50%.\n",
    "\n",
    "This means the classifier has a high number of False negatives which can be an outcome of imbalanced class or untuned model hyperparameters. More likely because of the imbalanced dataset with a higher number of Deposit = No records."
   ]
  },
  {
   "cell_type": "code",
   "execution_count": null,
   "metadata": {},
   "outputs": [],
   "source": []
  },
  {
   "cell_type": "markdown",
   "metadata": {},
   "source": [
    "### Problem 10: Model Comparisons\n",
    "\n",
    "Now, we aim to compare the performance of the Logistic Regression model to our KNN algorithm, Decision Tree, and SVM models.  Using the default settings for each of the models, fit and score each.  Also, be sure to compare the fit time of each of the models.  Present your findings in a `DataFrame` similar to that below:\n",
    "\n",
    "| Model | Train Time | Train Accuracy | Test Accuracy |\n",
    "| ----- | ---------- | -------------  | -----------   |\n",
    "|     |    |.     |.     |"
   ]
  },
  {
   "cell_type": "code",
   "execution_count": 39,
   "metadata": {},
   "outputs": [
    {
     "name": "stdout",
     "output_type": "stream",
     "text": [
      "Training Accuracy Score 0.8872047448926502\n",
      "Test Accuracy Score 0.8875940762320952\n",
      "CPU times: user 308 ms, sys: 13.5 ms, total: 321 ms\n",
      "Wall time: 322 ms\n"
     ]
    }
   ],
   "source": [
    "%%time\n",
    "#Building a Logistic Regression  model\n",
    "\n",
    "lgr1_pipe = Pipeline ([\n",
    "    ('transformer', column_trans),\n",
    "    ('scale', StandardScaler(with_mean=False)),\n",
    "    ('model', LogisticRegression())\n",
    "])\n",
    "\n",
    "# Train the classifiers\n",
    "lgr1 = lgr1_pipe.fit(X_train, y_train)\n",
    "\n",
    "# use the model to predict the class labels of the test set:\n",
    "lgr1_pred = lgr1.predict(X_test)\n",
    "\n",
    "# Evaluate Training and Test Scores\n",
    "\n",
    "lgr1_train_score = lgr1.score(X_train, y_train)\n",
    "print(\"Training Accuracy Score\", lgr1_train_score)\n",
    "\n",
    "lgr1_test_score = lgr1.score(X_test, y_test)\n",
    "print(\"Test Accuracy Score\", lgr1_test_score)\n"
   ]
  },
  {
   "cell_type": "code",
   "execution_count": 40,
   "metadata": {},
   "outputs": [
    {
     "name": "stdout",
     "output_type": "stream",
     "text": [
      "Training Accuracy Score 0.8846033783080711\n",
      "Test Accuracy Score 0.8807963097839281\n",
      "CPU times: user 44.8 s, sys: 10.8 s, total: 55.7 s\n",
      "Wall time: 55.8 s\n"
     ]
    }
   ],
   "source": [
    "%%time\n",
    "\n",
    "#Building a KNN  model\n",
    "\n",
    "knn_pipe = Pipeline ([\n",
    "    ('transformer', column_trans),\n",
    "    ('scale', StandardScaler(with_mean=False)),\n",
    "    ('model', KNeighborsClassifier())\n",
    "])\n",
    "\n",
    "# Train the classifiers\n",
    "knn = knn_pipe.fit(X_train, y_train)\n",
    "\n",
    "# use the model to predict the class labels of the test set:\n",
    "knn_pred = knn.predict(X_test)\n",
    "\n",
    "# Evaluate Training and Test Scores\n",
    "\n",
    "knn_train_score = knn.score(X_train, y_train)\n",
    "print(\"Training Accuracy Score\", knn_train_score)\n",
    "\n",
    "knn_test_score = knn.score(X_test, y_test)\n",
    "print(\"Test Accuracy Score\", knn_test_score)\n",
    "\n"
   ]
  },
  {
   "cell_type": "code",
   "execution_count": 41,
   "metadata": {},
   "outputs": [
    {
     "name": "stdout",
     "output_type": "stream",
     "text": [
      "Training Accuracy Score 0.8911935069890049\n",
      "Test Accuracy Score 0.884761673545359\n",
      "CPU times: user 363 ms, sys: 13.1 ms, total: 376 ms\n",
      "Wall time: 376 ms\n"
     ]
    }
   ],
   "source": [
    "%%time\n",
    "#Building a Decision Tree  model\n",
    "\n",
    "dtc1_pipe = Pipeline ([\n",
    "    ('transformer', column_trans),\n",
    "    ('scale', StandardScaler(with_mean=False)),\n",
    "    ('model', DecisionTreeClassifier())\n",
    "])\n",
    "\n",
    "# Train the classifiers\n",
    "dtc1 = dtc1_pipe.fit(X_train, y_train)\n",
    "\n",
    "# use the model to predict the class labels of the test set:\n",
    "dtc1_pred = dtc1.predict(X_test)\n",
    "\n",
    "# Evaluate Training and Test Scores\n",
    "\n",
    "dtc1_train_score = dtc1.score(X_train, y_train)\n",
    "print(\"Training Accuracy Score\", dtc1_train_score)\n",
    "\n",
    "dtc1_test_score = dtc1.score(X_test, y_test)\n",
    "print(\"Test Accuracy Score\", dtc1_test_score)\n"
   ]
  },
  {
   "cell_type": "code",
   "execution_count": 42,
   "metadata": {},
   "outputs": [
    {
     "name": "stdout",
     "output_type": "stream",
     "text": [
      "Training Accuracy Score 0.8873087995560335\n",
      "Test Accuracy Score 0.8875131504410455\n",
      "CPU times: user 24 s, sys: 229 ms, total: 24.2 s\n",
      "Wall time: 24.4 s\n"
     ]
    }
   ],
   "source": [
    "%%time\n",
    "\n",
    "#Building a SVC model\n",
    "\n",
    "svm_pipe = Pipeline ([\n",
    "    ('transformer', column_trans),\n",
    "    ('scale', StandardScaler(with_mean=False)),\n",
    "    ('model', SVC())\n",
    "])\n",
    "\n",
    "# Train the classifiers\n",
    "svm = svm_pipe.fit(X_train, y_train)\n",
    "\n",
    "# use the model to predict the class labels of the test set:\n",
    "svm_pred = svm.predict(X_test)\n",
    "\n",
    "# Evaluate Training and Test Scores\n",
    "\n",
    "svm_train_score = svm.score(X_train, y_train)\n",
    "print(\"Training Accuracy Score\", svm_train_score)\n",
    "\n",
    "svm_test_score = svm.score(X_test, y_test)\n",
    "print(\"Test Accuracy Score\", svm_test_score)\n"
   ]
  },
  {
   "cell_type": "markdown",
   "metadata": {},
   "source": [
    "### Results from Models\n",
    "\n",
    "LR \\\n",
    "Training Accuracy Score 0.8872047448926502 \\\n",
    "Test Accuracy Score 0.8875940762320952 \\\n",
    "CPU times: user 308 ms, sys: 13.5 ms, total: 321 ms \\\n",
    "Wall time: 322 ms\n",
    "\n",
    "KNN \\\n",
    "Training Accuracy Score 0.8846033783080711 \\\n",
    "Test Accuracy Score 0.8807963097839281 \\\n",
    "CPU times: user 44.8 s, sys: 10.8 s, total: 55.7 s \\\n",
    "Wall time: 55.8 s\n",
    "\n",
    "DT \\\n",
    "Training Accuracy Score 0.8911935069890049 \\\n",
    "Test Accuracy Score 0.884761673545359 \\\n",
    "CPU times: user 363 ms, sys: 13.1 ms, total: 376 ms \\\n",
    "Wall time: 376 ms\n",
    "\n",
    "SVM \\\n",
    "Training Accuracy Score 0.8873087995560335 \\\n",
    "Test Accuracy Score 0.8875131504410455 \\\n",
    "CPU times: user 24 s, sys: 229 ms, total: 24.2 s \\\n",
    "Wall time: 24.4 s\n"
   ]
  },
  {
   "cell_type": "code",
   "execution_count": 55,
   "metadata": {},
   "outputs": [
    {
     "data": {
      "text/html": [
       "<div>\n",
       "<style scoped>\n",
       "    .dataframe tbody tr th:only-of-type {\n",
       "        vertical-align: middle;\n",
       "    }\n",
       "\n",
       "    .dataframe tbody tr th {\n",
       "        vertical-align: top;\n",
       "    }\n",
       "\n",
       "    .dataframe thead th {\n",
       "        text-align: right;\n",
       "    }\n",
       "</style>\n",
       "<table border=\"1\" class=\"dataframe\">\n",
       "  <thead>\n",
       "    <tr style=\"text-align: right;\">\n",
       "      <th></th>\n",
       "      <th>Model</th>\n",
       "      <th>Train Time (s)</th>\n",
       "      <th>Train Accuracy</th>\n",
       "      <th>Test Accuracy</th>\n",
       "    </tr>\n",
       "  </thead>\n",
       "  <tbody>\n",
       "    <tr>\n",
       "      <th>0</th>\n",
       "      <td>Logistic</td>\n",
       "      <td>0.322</td>\n",
       "      <td>0.8872047448926502</td>\n",
       "      <td>0.8875940762320952</td>\n",
       "    </tr>\n",
       "    <tr>\n",
       "      <th>1</th>\n",
       "      <td>KNN</td>\n",
       "      <td>55.8</td>\n",
       "      <td>0.8846033783080711</td>\n",
       "      <td>0.8807963097839281</td>\n",
       "    </tr>\n",
       "    <tr>\n",
       "      <th>2</th>\n",
       "      <td>Decision Tree</td>\n",
       "      <td>0.376</td>\n",
       "      <td>0.8911935069890049</td>\n",
       "      <td>0.884761673545359</td>\n",
       "    </tr>\n",
       "    <tr>\n",
       "      <th>3</th>\n",
       "      <td>SVM</td>\n",
       "      <td>24.4</td>\n",
       "      <td>0.8873087995560335</td>\n",
       "      <td>0.8875131504410455</td>\n",
       "    </tr>\n",
       "  </tbody>\n",
       "</table>\n",
       "</div>"
      ],
      "text/plain": [
       "           Model Train Time (s)      Train Accuracy       Test Accuracy\n",
       "0       Logistic          0.322  0.8872047448926502  0.8875940762320952\n",
       "1            KNN           55.8  0.8846033783080711  0.8807963097839281\n",
       "2  Decision Tree          0.376  0.8911935069890049   0.884761673545359\n",
       "3            SVM           24.4  0.8873087995560335  0.8875131504410455"
      ]
     },
     "execution_count": 55,
     "metadata": {},
     "output_type": "execute_result"
    }
   ],
   "source": [
    "# Display results in a Dataframe\n",
    "pd.DataFrame({'Model': ['Logistic', 'KNN','Decision Tree', 'SVM'], \n",
    "             'Train Time (s)': ['0.322', '55.8', '0.376','24.4'],\n",
    "             'Train Accuracy': ['0.8872047448926502', '0.8846033783080711', '0.8911935069890049','0.8873087995560335'],\n",
    "             'Test Accuracy': ['0.8875940762320952', '0.8807963097839281', '0.884761673545359','0.8875131504410455']})"
   ]
  },
  {
   "cell_type": "markdown",
   "metadata": {},
   "source": [
    "Looking at the results from the model comparison, Logistic Regression had the best numbers across the three metrics with lowest train time in seconds, highest training and testing accuracy scores."
   ]
  },
  {
   "cell_type": "code",
   "execution_count": null,
   "metadata": {},
   "outputs": [],
   "source": []
  },
  {
   "cell_type": "markdown",
   "metadata": {},
   "source": [
    "### Problem 11: Improving the Model\n",
    "\n",
    "Now that we have some basic models on the board, we want to try to improve these.  Below, we list a few things to explore in this pursuit.\n",
    "\n",
    "- More feature engineering and exploration.  For example, should we keep the gender feature?  Why or why not?\n",
    "- Hyperparameter tuning and grid search.  All of our models have additional hyperparameters to tune and explore.  For example the number of neighbors in KNN or the maximum depth of a Decision Tree.  \n",
    "- Adjust your performance metric"
   ]
  },
  {
   "cell_type": "markdown",
   "metadata": {},
   "source": [
    "Looking at the features and exploration statement above, it mentions if we should keep the gender feature. Not sure if this is a trick question because when you review the list of features above, the only closely aligned gender feature is marital status and to be honest it's a stretch.\n",
    "\n",
    "This dataset is so imbalanced when you look at the Exploratory section of this Notebook, using the features to see if we can get a higher percentage of successful sign up for long term product did not provide a positive result with the exception of customer that have housing loan with a number of 52.4%"
   ]
  },
  {
   "cell_type": "markdown",
   "metadata": {},
   "source": [
    "Using Grid Search to create models with the different parameters and evaluate the performance metrics"
   ]
  },
  {
   "cell_type": "code",
   "execution_count": 44,
   "metadata": {},
   "outputs": [
    {
     "data": {
      "text/plain": [
       "dict_keys(['memory', 'steps', 'verbose', 'transformer', 'scale', 'model', 'transformer__n_jobs', 'transformer__remainder', 'transformer__sparse_threshold', 'transformer__transformer_weights', 'transformer__transformers', 'transformer__verbose', 'transformer__verbose_feature_names_out', 'transformer__onehotencoder', 'transformer__ordinalencoder', 'transformer__onehotencoder__categories', 'transformer__onehotencoder__drop', 'transformer__onehotencoder__dtype', 'transformer__onehotencoder__handle_unknown', 'transformer__onehotencoder__sparse', 'transformer__ordinalencoder__categories', 'transformer__ordinalencoder__dtype', 'transformer__ordinalencoder__handle_unknown', 'transformer__ordinalencoder__unknown_value', 'scale__copy', 'scale__with_mean', 'scale__with_std', 'model__C', 'model__class_weight', 'model__dual', 'model__fit_intercept', 'model__intercept_scaling', 'model__l1_ratio', 'model__max_iter', 'model__multi_class', 'model__n_jobs', 'model__penalty', 'model__random_state', 'model__solver', 'model__tol', 'model__verbose', 'model__warm_start'])"
      ]
     },
     "execution_count": 44,
     "metadata": {},
     "output_type": "execute_result"
    }
   ],
   "source": [
    "#Looking up parameters that can be passed to the pipeline\n",
    "lgr1_pipe.get_params().keys()"
   ]
  },
  {
   "cell_type": "code",
   "execution_count": 45,
   "metadata": {},
   "outputs": [
    {
     "name": "stderr",
     "output_type": "stream",
     "text": [
      "/Users/yemifalokun/opt/anaconda3/lib/python3.9/site-packages/sklearn/model_selection/_validation.py:372: FitFailedWarning: \n",
      "140 fits failed out of a total of 420.\n",
      "The score on these train-test partitions for these parameters will be set to nan.\n",
      "If these failures are not expected, you can try to debug them by setting error_score='raise'.\n",
      "\n",
      "Below are more details about the failures:\n",
      "--------------------------------------------------------------------------------\n",
      "70 fits failed with the following error:\n",
      "Traceback (most recent call last):\n",
      "  File \"/Users/yemifalokun/opt/anaconda3/lib/python3.9/site-packages/sklearn/model_selection/_validation.py\", line 680, in _fit_and_score\n",
      "    estimator.fit(X_train, y_train, **fit_params)\n",
      "  File \"/Users/yemifalokun/opt/anaconda3/lib/python3.9/site-packages/sklearn/pipeline.py\", line 394, in fit\n",
      "    self._final_estimator.fit(Xt, y, **fit_params_last_step)\n",
      "  File \"/Users/yemifalokun/opt/anaconda3/lib/python3.9/site-packages/sklearn/linear_model/_logistic.py\", line 1461, in fit\n",
      "    solver = _check_solver(self.solver, self.penalty, self.dual)\n",
      "  File \"/Users/yemifalokun/opt/anaconda3/lib/python3.9/site-packages/sklearn/linear_model/_logistic.py\", line 447, in _check_solver\n",
      "    raise ValueError(\n",
      "ValueError: Solver newton-cg supports only 'l2' or 'none' penalties, got l1 penalty.\n",
      "\n",
      "--------------------------------------------------------------------------------\n",
      "70 fits failed with the following error:\n",
      "Traceback (most recent call last):\n",
      "  File \"/Users/yemifalokun/opt/anaconda3/lib/python3.9/site-packages/sklearn/model_selection/_validation.py\", line 680, in _fit_and_score\n",
      "    estimator.fit(X_train, y_train, **fit_params)\n",
      "  File \"/Users/yemifalokun/opt/anaconda3/lib/python3.9/site-packages/sklearn/pipeline.py\", line 394, in fit\n",
      "    self._final_estimator.fit(Xt, y, **fit_params_last_step)\n",
      "  File \"/Users/yemifalokun/opt/anaconda3/lib/python3.9/site-packages/sklearn/linear_model/_logistic.py\", line 1461, in fit\n",
      "    solver = _check_solver(self.solver, self.penalty, self.dual)\n",
      "  File \"/Users/yemifalokun/opt/anaconda3/lib/python3.9/site-packages/sklearn/linear_model/_logistic.py\", line 447, in _check_solver\n",
      "    raise ValueError(\n",
      "ValueError: Solver lbfgs supports only 'l2' or 'none' penalties, got l1 penalty.\n",
      "\n",
      "  warnings.warn(some_fits_failed_message, FitFailedWarning)\n",
      "/Users/yemifalokun/opt/anaconda3/lib/python3.9/site-packages/sklearn/model_selection/_search.py:969: UserWarning: One or more of the test scores are non-finite: [       nan        nan 0.88723944 0.88720475 0.88720475 0.88720475\n",
      "        nan        nan 0.88723944 0.88720475 0.88720475 0.88720475\n",
      "        nan        nan 0.88720475 0.88720475 0.88720475 0.88720475\n",
      "        nan        nan 0.88720475 0.88720475 0.88720475 0.88720475\n",
      "        nan        nan 0.88720475 0.88720475 0.88720475 0.88720475\n",
      "        nan        nan 0.88720475 0.88720475 0.88720475 0.88720475\n",
      "        nan        nan 0.88720475 0.88720475 0.88720475 0.88720475]\n",
      "  warnings.warn(\n"
     ]
    },
    {
     "name": "stdout",
     "output_type": "stream",
     "text": [
      "\n",
      " Logistic Regression - Grid Search best score -\n",
      "0.8872394393842521\n",
      "\n",
      "Grid Search best parameters -\n",
      "{'model__C': 0.001, 'model__penalty': 'l1', 'model__solver': 'liblinear'}\n",
      "\\Grid Search CV Results -\n",
      "{'mean_fit_time': array([0.04831541, 0.04861314, 0.09593046, 0.18719749, 0.10556047,\n",
      "       0.08948891, 0.04416492, 0.04429035, 0.16141417, 0.19593701,\n",
      "       0.12853899, 0.09083104, 0.04532602, 0.04247251, 0.83944643,\n",
      "       0.21465166, 0.13960712, 0.09894607, 0.04548094, 0.04497371,\n",
      "       0.8291836 , 0.21689205, 0.16571074, 0.1055274 , 0.04588275,\n",
      "       0.04418578, 0.12660463, 0.24927387, 0.13934252, 0.11040139,\n",
      "       0.04732721, 0.0466754 , 0.09064693, 0.27397161, 0.12068717,\n",
      "       0.10683162, 0.04656637, 0.0458035 , 0.09356773, 0.26753798,\n",
      "       0.11860712, 0.10420101]), 'std_fit_time': array([0.00390672, 0.00293431, 0.00303528, 0.00283465, 0.00330671,\n",
      "       0.00360159, 0.00106726, 0.00161437, 0.01610705, 0.01433327,\n",
      "       0.00388473, 0.00343509, 0.00122137, 0.00108567, 0.23878333,\n",
      "       0.01916364, 0.00710993, 0.00221561, 0.00057942, 0.00116309,\n",
      "       0.51029232, 0.01585155, 0.04203176, 0.00672185, 0.0015357 ,\n",
      "       0.00082739, 0.06796704, 0.01850813, 0.0222143 , 0.00629974,\n",
      "       0.00166899, 0.00185047, 0.00563858, 0.02951416, 0.00608707,\n",
      "       0.00551698, 0.00066485, 0.00140412, 0.00230245, 0.0078713 ,\n",
      "       0.00295593, 0.00344237]), 'mean_score_time': array([0.        , 0.        , 0.01078629, 0.01042895, 0.01012223,\n",
      "       0.01030974, 0.        , 0.        , 0.01037297, 0.01005328,\n",
      "       0.01048262, 0.01025786, 0.        , 0.        , 0.01013577,\n",
      "       0.00998566, 0.0102984 , 0.01057549, 0.        , 0.        ,\n",
      "       0.01058989, 0.01036887, 0.01199858, 0.0104353 , 0.        ,\n",
      "       0.        , 0.0113095 , 0.01122887, 0.01326041, 0.01180875,\n",
      "       0.        , 0.        , 0.01031723, 0.01077585, 0.01079824,\n",
      "       0.01110842, 0.        , 0.        , 0.0107512 , 0.01078215,\n",
      "       0.01090875, 0.01082523]), 'std_score_time': array([0.        , 0.        , 0.00020352, 0.00033525, 0.00054667,\n",
      "       0.0003222 , 0.        , 0.        , 0.00057715, 0.00046418,\n",
      "       0.00044282, 0.00038893, 0.        , 0.        , 0.00029712,\n",
      "       0.00035417, 0.00038666, 0.00029641, 0.        , 0.        ,\n",
      "       0.00046553, 0.00023678, 0.00419752, 0.00040643, 0.        ,\n",
      "       0.        , 0.00236291, 0.00062461, 0.00271172, 0.00162676,\n",
      "       0.        , 0.        , 0.00023864, 0.00050302, 0.00049232,\n",
      "       0.00085475, 0.        , 0.        , 0.00019235, 0.00039861,\n",
      "       0.00033912, 0.00022704]), 'param_model__C': masked_array(data=[0.001, 0.001, 0.001, 0.001, 0.001, 0.001, 0.01, 0.01,\n",
      "                   0.01, 0.01, 0.01, 0.01, 0.1, 0.1, 0.1, 0.1, 0.1, 0.1,\n",
      "                   1.0, 1.0, 1.0, 1.0, 1.0, 1.0, 10.0, 10.0, 10.0, 10.0,\n",
      "                   10.0, 10.0, 100.0, 100.0, 100.0, 100.0, 100.0, 100.0,\n",
      "                   1000.0, 1000.0, 1000.0, 1000.0, 1000.0, 1000.0],\n",
      "             mask=[False, False, False, False, False, False, False, False,\n",
      "                   False, False, False, False, False, False, False, False,\n",
      "                   False, False, False, False, False, False, False, False,\n",
      "                   False, False, False, False, False, False, False, False,\n",
      "                   False, False, False, False, False, False, False, False,\n",
      "                   False, False],\n",
      "       fill_value='?',\n",
      "            dtype=object), 'param_model__penalty': masked_array(data=['l1', 'l1', 'l1', 'l2', 'l2', 'l2', 'l1', 'l1', 'l1',\n",
      "                   'l2', 'l2', 'l2', 'l1', 'l1', 'l1', 'l2', 'l2', 'l2',\n",
      "                   'l1', 'l1', 'l1', 'l2', 'l2', 'l2', 'l1', 'l1', 'l1',\n",
      "                   'l2', 'l2', 'l2', 'l1', 'l1', 'l1', 'l2', 'l2', 'l2',\n",
      "                   'l1', 'l1', 'l1', 'l2', 'l2', 'l2'],\n",
      "             mask=[False, False, False, False, False, False, False, False,\n",
      "                   False, False, False, False, False, False, False, False,\n",
      "                   False, False, False, False, False, False, False, False,\n",
      "                   False, False, False, False, False, False, False, False,\n",
      "                   False, False, False, False, False, False, False, False,\n",
      "                   False, False],\n",
      "       fill_value='?',\n",
      "            dtype=object), 'param_model__solver': masked_array(data=['newton-cg', 'lbfgs', 'liblinear', 'newton-cg',\n",
      "                   'lbfgs', 'liblinear', 'newton-cg', 'lbfgs',\n",
      "                   'liblinear', 'newton-cg', 'lbfgs', 'liblinear',\n",
      "                   'newton-cg', 'lbfgs', 'liblinear', 'newton-cg',\n",
      "                   'lbfgs', 'liblinear', 'newton-cg', 'lbfgs',\n",
      "                   'liblinear', 'newton-cg', 'lbfgs', 'liblinear',\n",
      "                   'newton-cg', 'lbfgs', 'liblinear', 'newton-cg',\n",
      "                   'lbfgs', 'liblinear', 'newton-cg', 'lbfgs',\n",
      "                   'liblinear', 'newton-cg', 'lbfgs', 'liblinear',\n",
      "                   'newton-cg', 'lbfgs', 'liblinear', 'newton-cg',\n",
      "                   'lbfgs', 'liblinear'],\n",
      "             mask=[False, False, False, False, False, False, False, False,\n",
      "                   False, False, False, False, False, False, False, False,\n",
      "                   False, False, False, False, False, False, False, False,\n",
      "                   False, False, False, False, False, False, False, False,\n",
      "                   False, False, False, False, False, False, False, False,\n",
      "                   False, False],\n",
      "       fill_value='?',\n",
      "            dtype=object), 'params': [{'model__C': 0.001, 'model__penalty': 'l1', 'model__solver': 'newton-cg'}, {'model__C': 0.001, 'model__penalty': 'l1', 'model__solver': 'lbfgs'}, {'model__C': 0.001, 'model__penalty': 'l1', 'model__solver': 'liblinear'}, {'model__C': 0.001, 'model__penalty': 'l2', 'model__solver': 'newton-cg'}, {'model__C': 0.001, 'model__penalty': 'l2', 'model__solver': 'lbfgs'}, {'model__C': 0.001, 'model__penalty': 'l2', 'model__solver': 'liblinear'}, {'model__C': 0.01, 'model__penalty': 'l1', 'model__solver': 'newton-cg'}, {'model__C': 0.01, 'model__penalty': 'l1', 'model__solver': 'lbfgs'}, {'model__C': 0.01, 'model__penalty': 'l1', 'model__solver': 'liblinear'}, {'model__C': 0.01, 'model__penalty': 'l2', 'model__solver': 'newton-cg'}, {'model__C': 0.01, 'model__penalty': 'l2', 'model__solver': 'lbfgs'}, {'model__C': 0.01, 'model__penalty': 'l2', 'model__solver': 'liblinear'}, {'model__C': 0.1, 'model__penalty': 'l1', 'model__solver': 'newton-cg'}, {'model__C': 0.1, 'model__penalty': 'l1', 'model__solver': 'lbfgs'}, {'model__C': 0.1, 'model__penalty': 'l1', 'model__solver': 'liblinear'}, {'model__C': 0.1, 'model__penalty': 'l2', 'model__solver': 'newton-cg'}, {'model__C': 0.1, 'model__penalty': 'l2', 'model__solver': 'lbfgs'}, {'model__C': 0.1, 'model__penalty': 'l2', 'model__solver': 'liblinear'}, {'model__C': 1.0, 'model__penalty': 'l1', 'model__solver': 'newton-cg'}, {'model__C': 1.0, 'model__penalty': 'l1', 'model__solver': 'lbfgs'}, {'model__C': 1.0, 'model__penalty': 'l1', 'model__solver': 'liblinear'}, {'model__C': 1.0, 'model__penalty': 'l2', 'model__solver': 'newton-cg'}, {'model__C': 1.0, 'model__penalty': 'l2', 'model__solver': 'lbfgs'}, {'model__C': 1.0, 'model__penalty': 'l2', 'model__solver': 'liblinear'}, {'model__C': 10.0, 'model__penalty': 'l1', 'model__solver': 'newton-cg'}, {'model__C': 10.0, 'model__penalty': 'l1', 'model__solver': 'lbfgs'}, {'model__C': 10.0, 'model__penalty': 'l1', 'model__solver': 'liblinear'}, {'model__C': 10.0, 'model__penalty': 'l2', 'model__solver': 'newton-cg'}, {'model__C': 10.0, 'model__penalty': 'l2', 'model__solver': 'lbfgs'}, {'model__C': 10.0, 'model__penalty': 'l2', 'model__solver': 'liblinear'}, {'model__C': 100.0, 'model__penalty': 'l1', 'model__solver': 'newton-cg'}, {'model__C': 100.0, 'model__penalty': 'l1', 'model__solver': 'lbfgs'}, {'model__C': 100.0, 'model__penalty': 'l1', 'model__solver': 'liblinear'}, {'model__C': 100.0, 'model__penalty': 'l2', 'model__solver': 'newton-cg'}, {'model__C': 100.0, 'model__penalty': 'l2', 'model__solver': 'lbfgs'}, {'model__C': 100.0, 'model__penalty': 'l2', 'model__solver': 'liblinear'}, {'model__C': 1000.0, 'model__penalty': 'l1', 'model__solver': 'newton-cg'}, {'model__C': 1000.0, 'model__penalty': 'l1', 'model__solver': 'lbfgs'}, {'model__C': 1000.0, 'model__penalty': 'l1', 'model__solver': 'liblinear'}, {'model__C': 1000.0, 'model__penalty': 'l2', 'model__solver': 'newton-cg'}, {'model__C': 1000.0, 'model__penalty': 'l2', 'model__solver': 'lbfgs'}, {'model__C': 1000.0, 'model__penalty': 'l2', 'model__solver': 'liblinear'}], 'split0_test_score': array([       nan,        nan, 0.88696255, 0.88696255, 0.88696255,\n",
      "       0.88696255,        nan,        nan, 0.88696255, 0.88696255,\n",
      "       0.88696255, 0.88696255,        nan,        nan, 0.88696255,\n",
      "       0.88696255, 0.88696255, 0.88696255,        nan,        nan,\n",
      "       0.88696255, 0.88696255, 0.88696255, 0.88696255,        nan,\n",
      "              nan, 0.88696255, 0.88696255, 0.88696255, 0.88696255,\n",
      "              nan,        nan, 0.88696255, 0.88696255, 0.88696255,\n",
      "       0.88696255,        nan,        nan, 0.88696255, 0.88696255,\n",
      "       0.88696255, 0.88696255]), 'split1_test_score': array([      nan,       nan, 0.8872702, 0.8872702, 0.8872702, 0.8872702,\n",
      "             nan,       nan, 0.8872702, 0.8872702, 0.8872702, 0.8872702,\n",
      "             nan,       nan, 0.8872702, 0.8872702, 0.8872702, 0.8872702,\n",
      "             nan,       nan, 0.8872702, 0.8872702, 0.8872702, 0.8872702,\n",
      "             nan,       nan, 0.8872702, 0.8872702, 0.8872702, 0.8872702,\n",
      "             nan,       nan, 0.8872702, 0.8872702, 0.8872702, 0.8872702,\n",
      "             nan,       nan, 0.8872702, 0.8872702, 0.8872702, 0.8872702]), 'split2_test_score': array([      nan,       nan, 0.8872702, 0.8872702, 0.8872702, 0.8872702,\n",
      "             nan,       nan, 0.8872702, 0.8872702, 0.8872702, 0.8872702,\n",
      "             nan,       nan, 0.8872702, 0.8872702, 0.8872702, 0.8872702,\n",
      "             nan,       nan, 0.8872702, 0.8872702, 0.8872702, 0.8872702,\n",
      "             nan,       nan, 0.8872702, 0.8872702, 0.8872702, 0.8872702,\n",
      "             nan,       nan, 0.8872702, 0.8872702, 0.8872702, 0.8872702,\n",
      "             nan,       nan, 0.8872702, 0.8872702, 0.8872702, 0.8872702]), 'split3_test_score': array([      nan,       nan, 0.8872702, 0.8872702, 0.8872702, 0.8872702,\n",
      "             nan,       nan, 0.8872702, 0.8872702, 0.8872702, 0.8872702,\n",
      "             nan,       nan, 0.8872702, 0.8872702, 0.8872702, 0.8872702,\n",
      "             nan,       nan, 0.8872702, 0.8872702, 0.8872702, 0.8872702,\n",
      "             nan,       nan, 0.8872702, 0.8872702, 0.8872702, 0.8872702,\n",
      "             nan,       nan, 0.8872702, 0.8872702, 0.8872702, 0.8872702,\n",
      "             nan,       nan, 0.8872702, 0.8872702, 0.8872702, 0.8872702]), 'split4_test_score': array([      nan,       nan, 0.8872702, 0.8872702, 0.8872702, 0.8872702,\n",
      "             nan,       nan, 0.8872702, 0.8872702, 0.8872702, 0.8872702,\n",
      "             nan,       nan, 0.8872702, 0.8872702, 0.8872702, 0.8872702,\n",
      "             nan,       nan, 0.8872702, 0.8872702, 0.8872702, 0.8872702,\n",
      "             nan,       nan, 0.8872702, 0.8872702, 0.8872702, 0.8872702,\n",
      "             nan,       nan, 0.8872702, 0.8872702, 0.8872702, 0.8872702,\n",
      "             nan,       nan, 0.8872702, 0.8872702, 0.8872702, 0.8872702]), 'split5_test_score': array([      nan,       nan, 0.8872702, 0.8872702, 0.8872702, 0.8872702,\n",
      "             nan,       nan, 0.8872702, 0.8872702, 0.8872702, 0.8872702,\n",
      "             nan,       nan, 0.8872702, 0.8872702, 0.8872702, 0.8872702,\n",
      "             nan,       nan, 0.8872702, 0.8872702, 0.8872702, 0.8872702,\n",
      "             nan,       nan, 0.8872702, 0.8872702, 0.8872702, 0.8872702,\n",
      "             nan,       nan, 0.8872702, 0.8872702, 0.8872702, 0.8872702,\n",
      "             nan,       nan, 0.8872702, 0.8872702, 0.8872702, 0.8872702]), 'split6_test_score': array([      nan,       nan, 0.8872702, 0.8872702, 0.8872702, 0.8872702,\n",
      "             nan,       nan, 0.8872702, 0.8872702, 0.8872702, 0.8872702,\n",
      "             nan,       nan, 0.8872702, 0.8872702, 0.8872702, 0.8872702,\n",
      "             nan,       nan, 0.8872702, 0.8872702, 0.8872702, 0.8872702,\n",
      "             nan,       nan, 0.8872702, 0.8872702, 0.8872702, 0.8872702,\n",
      "             nan,       nan, 0.8872702, 0.8872702, 0.8872702, 0.8872702,\n",
      "             nan,       nan, 0.8872702, 0.8872702, 0.8872702, 0.8872702]), 'split7_test_score': array([      nan,       nan, 0.8872702, 0.8872702, 0.8872702, 0.8872702,\n",
      "             nan,       nan, 0.8872702, 0.8872702, 0.8872702, 0.8872702,\n",
      "             nan,       nan, 0.8872702, 0.8872702, 0.8872702, 0.8872702,\n",
      "             nan,       nan, 0.8872702, 0.8872702, 0.8872702, 0.8872702,\n",
      "             nan,       nan, 0.8872702, 0.8872702, 0.8872702, 0.8872702,\n",
      "             nan,       nan, 0.8872702, 0.8872702, 0.8872702, 0.8872702,\n",
      "             nan,       nan, 0.8872702, 0.8872702, 0.8872702, 0.8872702]), 'split8_test_score': array([      nan,       nan, 0.8872702, 0.8872702, 0.8872702, 0.8872702,\n",
      "             nan,       nan, 0.8872702, 0.8872702, 0.8872702, 0.8872702,\n",
      "             nan,       nan, 0.8872702, 0.8872702, 0.8872702, 0.8872702,\n",
      "             nan,       nan, 0.8872702, 0.8872702, 0.8872702, 0.8872702,\n",
      "             nan,       nan, 0.8872702, 0.8872702, 0.8872702, 0.8872702,\n",
      "             nan,       nan, 0.8872702, 0.8872702, 0.8872702, 0.8872702,\n",
      "             nan,       nan, 0.8872702, 0.8872702, 0.8872702, 0.8872702]), 'split9_test_score': array([       nan,        nan, 0.8872702 , 0.88692334, 0.88692334,\n",
      "       0.88692334,        nan,        nan, 0.8872702 , 0.88692334,\n",
      "       0.88692334, 0.88692334,        nan,        nan, 0.88692334,\n",
      "       0.88692334, 0.88692334, 0.88692334,        nan,        nan,\n",
      "       0.88692334, 0.88692334, 0.88692334, 0.88692334,        nan,\n",
      "              nan, 0.88692334, 0.88692334, 0.88692334, 0.88692334,\n",
      "              nan,        nan, 0.88692334, 0.88692334, 0.88692334,\n",
      "       0.88692334,        nan,        nan, 0.88692334, 0.88692334,\n",
      "       0.88692334, 0.88692334]), 'mean_test_score': array([       nan,        nan, 0.88723944, 0.88720475, 0.88720475,\n",
      "       0.88720475,        nan,        nan, 0.88723944, 0.88720475,\n",
      "       0.88720475, 0.88720475,        nan,        nan, 0.88720475,\n",
      "       0.88720475, 0.88720475, 0.88720475,        nan,        nan,\n",
      "       0.88720475, 0.88720475, 0.88720475, 0.88720475,        nan,\n",
      "              nan, 0.88720475, 0.88720475, 0.88720475, 0.88720475,\n",
      "              nan,        nan, 0.88720475, 0.88720475, 0.88720475,\n",
      "       0.88720475,        nan,        nan, 0.88720475, 0.88720475,\n",
      "       0.88720475, 0.88720475]), 'std_test_score': array([           nan,            nan, 9.22957911e-05, 1.31195974e-04,\n",
      "       1.31195974e-04, 1.31195974e-04,            nan,            nan,\n",
      "       9.22957911e-05, 1.31195974e-04, 1.31195974e-04, 1.31195974e-04,\n",
      "                  nan,            nan, 1.31195974e-04, 1.31195974e-04,\n",
      "       1.31195974e-04, 1.31195974e-04,            nan,            nan,\n",
      "       1.31195974e-04, 1.31195974e-04, 1.31195974e-04, 1.31195974e-04,\n",
      "                  nan,            nan, 1.31195974e-04, 1.31195974e-04,\n",
      "       1.31195974e-04, 1.31195974e-04,            nan,            nan,\n",
      "       1.31195974e-04, 1.31195974e-04, 1.31195974e-04, 1.31195974e-04,\n",
      "                  nan,            nan, 1.31195974e-04, 1.31195974e-04,\n",
      "       1.31195974e-04, 1.31195974e-04]), 'rank_test_score': array([42, 29,  1,  3,  3,  3, 32, 41,  1,  3,  3,  3, 36, 39,  3,  3,  3,\n",
      "        3, 33, 40,  3,  3,  3,  3, 38, 37,  3,  3,  3,  3, 35, 34,  3,  3,\n",
      "        3,  3, 31, 30,  3,  3,  3,  3], dtype=int32)}\n",
      "Best parameters set:\n",
      "[('transformer', ColumnTransformer(remainder='passthrough',\n",
      "                  transformers=[('onehotencoder',\n",
      "                                 OneHotEncoder(handle_unknown='ignore'),\n",
      "                                 ['job', 'marital', 'education', 'default',\n",
      "                                  'contact']),\n",
      "                                ('ordinalencoder', OrdinalEncoder(),\n",
      "                                 ['housing', 'loan'])])), ('scale', StandardScaler(with_mean=False)), ('model', LogisticRegression(C=0.001, penalty='l1', solver='liblinear'))]\n",
      "Test accuracy: 0.888\n",
      "Best cross-validation score: 0.8872394393842521\n",
      "Test Score : 0.8875940762320952\n",
      "CPU times: user 1min 2s, sys: 1.87 s, total: 1min 4s\n",
      "Wall time: 1min 4s\n"
     ]
    }
   ],
   "source": [
    "%%time\n",
    "#Building a Logistic Regression  model\n",
    "\n",
    "# parameter grid\n",
    "parameters = {\n",
    "    'model__penalty' : ['l1','l2'], \n",
    "    'model__C'       : np.logspace(-3,3,7),\n",
    "    'model__solver'  : ['newton-cg', 'lbfgs', 'liblinear'],\n",
    "}\n",
    "\n",
    "#\n",
    "# Create an instance of GridSearch Cross-validation estimator\n",
    "#\n",
    "gsLR = GridSearchCV(estimator=lgr1_pipe,\n",
    "            param_grid=parameters,\n",
    "            scoring='accuracy',\n",
    "            cv=10)\n",
    "\n",
    "# Train the LogisticRegression Classifier\n",
    "#\n",
    "gsLR = gsLR.fit(X_train, y_train)\n",
    "gsLR_predicted = gsLR.predict(X_test)\n",
    "\n",
    "#\n",
    "# Print the training score of the best model\n",
    "#\n",
    "print('\\n Logistic Regression - Grid Search best score -')\n",
    "print(gsLR.best_score_)\n",
    "\n",
    "#\n",
    "# Print the model parameters of the best model\n",
    "#\n",
    "print('\\nGrid Search best parameters -')\n",
    "print(gsLR.best_params_)\n",
    "\n",
    "print('\\Grid Search CV Results -')\n",
    "print(gsLR.cv_results_)\n",
    "\n",
    "print(\"Best parameters set:\")\n",
    "print(gsLR.best_estimator_.steps)\n",
    "\n",
    "#\n",
    "# Print the test score of the best model\n",
    "#\n",
    "clfLR = gsLR.best_estimator_\n",
    "print('Test accuracy: %.3f' % clfLR.score(X_test, y_test))\n",
    "\n",
    "print(\"Best cross-validation score:\", gsLR.best_score_)\n",
    "\n",
    "score = gsLR.score(X_test, y_test)\n",
    "print(\"Test Score :\", score)"
   ]
  },
  {
   "cell_type": "code",
   "execution_count": 46,
   "metadata": {},
   "outputs": [
    {
     "data": {
      "text/plain": [
       "dict_keys(['memory', 'steps', 'verbose', 'transformer', 'scale', 'model', 'transformer__n_jobs', 'transformer__remainder', 'transformer__sparse_threshold', 'transformer__transformer_weights', 'transformer__transformers', 'transformer__verbose', 'transformer__verbose_feature_names_out', 'transformer__onehotencoder', 'transformer__ordinalencoder', 'transformer__onehotencoder__categories', 'transformer__onehotencoder__drop', 'transformer__onehotencoder__dtype', 'transformer__onehotencoder__handle_unknown', 'transformer__onehotencoder__sparse', 'transformer__ordinalencoder__categories', 'transformer__ordinalencoder__dtype', 'transformer__ordinalencoder__handle_unknown', 'transformer__ordinalencoder__unknown_value', 'scale__copy', 'scale__with_mean', 'scale__with_std', 'model__algorithm', 'model__leaf_size', 'model__metric', 'model__metric_params', 'model__n_jobs', 'model__n_neighbors', 'model__p', 'model__weights'])"
      ]
     },
     "execution_count": 46,
     "metadata": {},
     "output_type": "execute_result"
    }
   ],
   "source": [
    "#Looking up parameters that can be passed to the pipeline\n",
    "knn_pipe.get_params().keys()"
   ]
  },
  {
   "cell_type": "code",
   "execution_count": 47,
   "metadata": {},
   "outputs": [
    {
     "name": "stdout",
     "output_type": "stream",
     "text": [
      "\n",
      "K Nearest Neighbor - Grid Search best score -\n",
      "0.8855397848500199\n",
      "\n",
      "Grid Search best parameters -\n",
      "{'model__n_neighbors': 17}\n",
      "\\Grid Search CV Results -\n",
      "{'mean_fit_time': array([0.06667397, 0.0668962 , 0.06980889, 0.06664913, 0.0671778 ,\n",
      "       0.06700094, 0.06819191, 0.06967008, 0.06809483]), 'std_fit_time': array([0.00057773, 0.00166277, 0.01137868, 0.00080358, 0.00210722,\n",
      "       0.00171569, 0.00231438, 0.00779053, 0.00375211]), 'mean_score_time': array([2.59180632, 2.79024239, 2.8491276 , 2.86508319, 2.85823584,\n",
      "       2.91007819, 2.88023579, 2.98775585, 2.86385586]), 'std_score_time': array([0.02116439, 0.02109975, 0.0623258 , 0.06423897, 0.06133895,\n",
      "       0.0930237 , 0.06009601, 0.22042125, 0.05623078]), 'param_model__n_neighbors': masked_array(data=[1, 3, 5, 7, 9, 11, 13, 15, 17],\n",
      "             mask=[False, False, False, False, False, False, False, False,\n",
      "                   False],\n",
      "       fill_value='?',\n",
      "            dtype=object), 'params': [{'model__n_neighbors': 1}, {'model__n_neighbors': 3}, {'model__n_neighbors': 5}, {'model__n_neighbors': 7}, {'model__n_neighbors': 9}, {'model__n_neighbors': 11}, {'model__n_neighbors': 13}, {'model__n_neighbors': 15}, {'model__n_neighbors': 17}], 'split0_test_score': array([0.80409154, 0.86893204, 0.860957  , 0.88280166, 0.88592233,\n",
      "       0.88626907, 0.88696255, 0.88765603, 0.88800277]), 'split1_test_score': array([0.82830385, 0.8713146 , 0.87478321, 0.87825182, 0.88449532,\n",
      "       0.88449532, 0.88518904, 0.88414846, 0.88484218]), 'split2_test_score': array([0.83558793, 0.86819285, 0.88067985, 0.87998613, 0.88033299,\n",
      "       0.88241415, 0.88345473, 0.88310787, 0.88518904]), 'split3_test_score': array([0.83593479, 0.86853972, 0.87859868, 0.88276101, 0.88414846,\n",
      "       0.88414846, 0.8855359 , 0.88622962, 0.88588276]), 'split4_test_score': array([0.84079084, 0.87547693, 0.86611169, 0.86923344, 0.87200832,\n",
      "       0.8872702 , 0.88692334, 0.88761707, 0.88865765]), 'split5_test_score': array([0.83975026, 0.87270205, 0.8775581 , 0.8775581 , 0.88102671,\n",
      "       0.88518904, 0.88484218, 0.88518904, 0.88449532]), 'split6_test_score': array([0.82934443, 0.86853972, 0.87547693, 0.88067985, 0.88241415,\n",
      "       0.8838016 , 0.88414846, 0.88137357, 0.88102671]), 'split7_test_score': array([0.84009712, 0.87651752, 0.87998613, 0.88033299, 0.88588276,\n",
      "       0.88622962, 0.88588276, 0.88622962, 0.88518904]), 'split8_test_score': array([0.83628165, 0.87443635, 0.87339577, 0.87374263, 0.88241415,\n",
      "       0.88657648, 0.88761707, 0.88796393, 0.88692334]), 'split9_test_score': array([0.83281304, 0.86888658, 0.87790496, 0.88345473, 0.88276101,\n",
      "       0.88518904, 0.88414846, 0.88484218, 0.88518904]), 'mean_test_score': array([0.83229955, 0.87135384, 0.87454523, 0.87888024, 0.88214062,\n",
      "       0.8851583 , 0.88547045, 0.88543574, 0.88553978]), 'std_test_score': array([0.01024186, 0.00304578, 0.006017  , 0.00423715, 0.00381559,\n",
      "       0.00140304, 0.00130965, 0.00203299, 0.00200334]), 'rank_test_score': array([9, 8, 7, 6, 5, 4, 2, 3, 1], dtype=int32)}\n",
      "Best parameters set:\n",
      "[('transformer', ColumnTransformer(remainder='passthrough',\n",
      "                  transformers=[('onehotencoder',\n",
      "                                 OneHotEncoder(handle_unknown='ignore'),\n",
      "                                 ['job', 'marital', 'education', 'default',\n",
      "                                  'contact']),\n",
      "                                ('ordinalencoder', OrdinalEncoder(),\n",
      "                                 ['housing', 'loan'])])), ('scale', StandardScaler(with_mean=False)), ('model', KNeighborsClassifier(n_neighbors=17))]\n",
      "Test accuracy: 0.889\n",
      "Best cross-validation score: 0.8855397848500199\n",
      "Test Score : 0.88864611151574\n",
      "CPU times: user 4min 1s, sys: 59.1 s, total: 5min\n",
      "Wall time: 5min 2s\n"
     ]
    }
   ],
   "source": [
    "%%time\n",
    "#Building a KNN Grid Search\n",
    "\n",
    "# parameter grid\n",
    "param_grid = {\"model__n_neighbors\": range(1, 18, 2)}\n",
    "\n",
    "# Perform grid search with cross-validation\n",
    "gsknn = GridSearchCV(knn_pipe, param_grid, cv=10, scoring='accuracy')\n",
    "gsknn.fit(X_train, y_train)\n",
    "\n",
    "gsknn_predicted = gsknn.predict(X_test)\n",
    "\n",
    "#\n",
    "# Print the training score of the best model\n",
    "#\n",
    "print('\\nK Nearest Neighbor - Grid Search best score -')\n",
    "print(gsknn.best_score_)\n",
    "\n",
    "#\n",
    "# Print the model parameters of the best model\n",
    "#\n",
    "print('\\nGrid Search best parameters -')\n",
    "print(gsknn.best_params_)\n",
    "\n",
    "print('\\Grid Search CV Results -')\n",
    "print(gsknn.cv_results_)\n",
    "\n",
    "print(\"Best parameters set:\")\n",
    "print(gsknn.best_estimator_.steps)\n",
    "\n",
    "#\n",
    "# Print the test score of the best model\n",
    "#\n",
    "clfknn = gsknn.best_estimator_\n",
    "print('Test accuracy: %.3f' % clfknn.score(X_test, y_test))\n",
    "\n",
    "print(\"Best cross-validation score:\", gsknn.best_score_)\n",
    "\n",
    "scoreknn = gsknn.score(X_test, y_test)\n",
    "print(\"Test Score :\", scoreknn)\n"
   ]
  },
  {
   "cell_type": "code",
   "execution_count": 48,
   "metadata": {},
   "outputs": [
    {
     "data": {
      "text/plain": [
       "dict_keys(['memory', 'steps', 'verbose', 'transformer', 'scale', 'model', 'transformer__n_jobs', 'transformer__remainder', 'transformer__sparse_threshold', 'transformer__transformer_weights', 'transformer__transformers', 'transformer__verbose', 'transformer__verbose_feature_names_out', 'transformer__onehotencoder', 'transformer__ordinalencoder', 'transformer__onehotencoder__categories', 'transformer__onehotencoder__drop', 'transformer__onehotencoder__dtype', 'transformer__onehotencoder__handle_unknown', 'transformer__onehotencoder__sparse', 'transformer__ordinalencoder__categories', 'transformer__ordinalencoder__dtype', 'transformer__ordinalencoder__handle_unknown', 'transformer__ordinalencoder__unknown_value', 'scale__copy', 'scale__with_mean', 'scale__with_std', 'model__ccp_alpha', 'model__class_weight', 'model__criterion', 'model__max_depth', 'model__max_features', 'model__max_leaf_nodes', 'model__min_impurity_decrease', 'model__min_samples_leaf', 'model__min_samples_split', 'model__min_weight_fraction_leaf', 'model__random_state', 'model__splitter'])"
      ]
     },
     "execution_count": 48,
     "metadata": {},
     "output_type": "execute_result"
    }
   ],
   "source": [
    "#Looking up parameters that can be passed to the pipeline\n",
    "dtc1_pipe.get_params().keys()"
   ]
  },
  {
   "cell_type": "code",
   "execution_count": 49,
   "metadata": {},
   "outputs": [
    {
     "name": "stdout",
     "output_type": "stream",
     "text": [
      "Fitting 10 folds for each of 18 candidates, totalling 180 fits\n",
      "[CV] END model__criterion=entropy, model__max_depth=1, model__min_samples_leaf=1; total time=   0.1s\n",
      "[CV] END model__criterion=entropy, model__max_depth=1, model__min_samples_leaf=1; total time=   0.1s\n",
      "[CV] END model__criterion=entropy, model__max_depth=1, model__min_samples_leaf=1; total time=   0.1s\n",
      "[CV] END model__criterion=entropy, model__max_depth=1, model__min_samples_leaf=1; total time=   0.1s\n",
      "[CV] END model__criterion=entropy, model__max_depth=1, model__min_samples_leaf=1; total time=   0.1s\n",
      "[CV] END model__criterion=entropy, model__max_depth=1, model__min_samples_leaf=1; total time=   0.1s\n",
      "[CV] END model__criterion=entropy, model__max_depth=1, model__min_samples_leaf=1; total time=   0.1s\n",
      "[CV] END model__criterion=entropy, model__max_depth=1, model__min_samples_leaf=1; total time=   0.1s\n",
      "[CV] END model__criterion=entropy, model__max_depth=1, model__min_samples_leaf=1; total time=   0.1s\n",
      "[CV] END model__criterion=entropy, model__max_depth=1, model__min_samples_leaf=1; total time=   0.1s\n",
      "[CV] END model__criterion=entropy, model__max_depth=1, model__min_samples_leaf=2; total time=   0.1s\n",
      "[CV] END model__criterion=entropy, model__max_depth=1, model__min_samples_leaf=2; total time=   0.1s\n",
      "[CV] END model__criterion=entropy, model__max_depth=1, model__min_samples_leaf=2; total time=   0.1s\n",
      "[CV] END model__criterion=entropy, model__max_depth=1, model__min_samples_leaf=2; total time=   0.1s\n",
      "[CV] END model__criterion=entropy, model__max_depth=1, model__min_samples_leaf=2; total time=   0.1s\n",
      "[CV] END model__criterion=entropy, model__max_depth=1, model__min_samples_leaf=2; total time=   0.1s\n",
      "[CV] END model__criterion=entropy, model__max_depth=1, model__min_samples_leaf=2; total time=   0.1s\n",
      "[CV] END model__criterion=entropy, model__max_depth=1, model__min_samples_leaf=2; total time=   0.1s\n",
      "[CV] END model__criterion=entropy, model__max_depth=1, model__min_samples_leaf=2; total time=   0.1s\n",
      "[CV] END model__criterion=entropy, model__max_depth=1, model__min_samples_leaf=2; total time=   0.1s\n",
      "[CV] END model__criterion=entropy, model__max_depth=1, model__min_samples_leaf=3; total time=   0.1s\n",
      "[CV] END model__criterion=entropy, model__max_depth=1, model__min_samples_leaf=3; total time=   0.1s\n",
      "[CV] END model__criterion=entropy, model__max_depth=1, model__min_samples_leaf=3; total time=   0.1s\n",
      "[CV] END model__criterion=entropy, model__max_depth=1, model__min_samples_leaf=3; total time=   0.1s\n",
      "[CV] END model__criterion=entropy, model__max_depth=1, model__min_samples_leaf=3; total time=   0.1s\n",
      "[CV] END model__criterion=entropy, model__max_depth=1, model__min_samples_leaf=3; total time=   0.1s\n",
      "[CV] END model__criterion=entropy, model__max_depth=1, model__min_samples_leaf=3; total time=   0.1s\n",
      "[CV] END model__criterion=entropy, model__max_depth=1, model__min_samples_leaf=3; total time=   0.1s\n",
      "[CV] END model__criterion=entropy, model__max_depth=1, model__min_samples_leaf=3; total time=   0.1s\n",
      "[CV] END model__criterion=entropy, model__max_depth=1, model__min_samples_leaf=3; total time=   0.1s\n",
      "[CV] END model__criterion=entropy, model__max_depth=2, model__min_samples_leaf=1; total time=   0.1s\n",
      "[CV] END model__criterion=entropy, model__max_depth=2, model__min_samples_leaf=1; total time=   0.1s\n",
      "[CV] END model__criterion=entropy, model__max_depth=2, model__min_samples_leaf=1; total time=   0.1s\n",
      "[CV] END model__criterion=entropy, model__max_depth=2, model__min_samples_leaf=1; total time=   0.1s\n",
      "[CV] END model__criterion=entropy, model__max_depth=2, model__min_samples_leaf=1; total time=   0.1s\n",
      "[CV] END model__criterion=entropy, model__max_depth=2, model__min_samples_leaf=1; total time=   0.1s\n",
      "[CV] END model__criterion=entropy, model__max_depth=2, model__min_samples_leaf=1; total time=   0.1s\n",
      "[CV] END model__criterion=entropy, model__max_depth=2, model__min_samples_leaf=1; total time=   0.1s\n",
      "[CV] END model__criterion=entropy, model__max_depth=2, model__min_samples_leaf=1; total time=   0.1s\n",
      "[CV] END model__criterion=entropy, model__max_depth=2, model__min_samples_leaf=1; total time=   0.1s\n",
      "[CV] END model__criterion=entropy, model__max_depth=2, model__min_samples_leaf=2; total time=   0.1s\n",
      "[CV] END model__criterion=entropy, model__max_depth=2, model__min_samples_leaf=2; total time=   0.1s\n",
      "[CV] END model__criterion=entropy, model__max_depth=2, model__min_samples_leaf=2; total time=   0.1s\n",
      "[CV] END model__criterion=entropy, model__max_depth=2, model__min_samples_leaf=2; total time=   0.1s\n",
      "[CV] END model__criterion=entropy, model__max_depth=2, model__min_samples_leaf=2; total time=   0.1s\n",
      "[CV] END model__criterion=entropy, model__max_depth=2, model__min_samples_leaf=2; total time=   0.1s\n",
      "[CV] END model__criterion=entropy, model__max_depth=2, model__min_samples_leaf=2; total time=   0.1s\n",
      "[CV] END model__criterion=entropy, model__max_depth=2, model__min_samples_leaf=2; total time=   0.1s\n",
      "[CV] END model__criterion=entropy, model__max_depth=2, model__min_samples_leaf=2; total time=   0.1s\n",
      "[CV] END model__criterion=entropy, model__max_depth=2, model__min_samples_leaf=2; total time=   0.1s\n",
      "[CV] END model__criterion=entropy, model__max_depth=2, model__min_samples_leaf=3; total time=   0.1s\n",
      "[CV] END model__criterion=entropy, model__max_depth=2, model__min_samples_leaf=3; total time=   0.1s\n",
      "[CV] END model__criterion=entropy, model__max_depth=2, model__min_samples_leaf=3; total time=   0.1s\n",
      "[CV] END model__criterion=entropy, model__max_depth=2, model__min_samples_leaf=3; total time=   0.1s\n",
      "[CV] END model__criterion=entropy, model__max_depth=2, model__min_samples_leaf=3; total time=   0.1s\n",
      "[CV] END model__criterion=entropy, model__max_depth=2, model__min_samples_leaf=3; total time=   0.1s\n",
      "[CV] END model__criterion=entropy, model__max_depth=2, model__min_samples_leaf=3; total time=   0.1s\n",
      "[CV] END model__criterion=entropy, model__max_depth=2, model__min_samples_leaf=3; total time=   0.1s\n",
      "[CV] END model__criterion=entropy, model__max_depth=2, model__min_samples_leaf=3; total time=   0.1s\n",
      "[CV] END model__criterion=entropy, model__max_depth=2, model__min_samples_leaf=3; total time=   0.1s\n",
      "[CV] END model__criterion=entropy, model__max_depth=3, model__min_samples_leaf=1; total time=   0.1s\n",
      "[CV] END model__criterion=entropy, model__max_depth=3, model__min_samples_leaf=1; total time=   0.1s\n",
      "[CV] END model__criterion=entropy, model__max_depth=3, model__min_samples_leaf=1; total time=   0.1s\n",
      "[CV] END model__criterion=entropy, model__max_depth=3, model__min_samples_leaf=1; total time=   0.1s\n",
      "[CV] END model__criterion=entropy, model__max_depth=3, model__min_samples_leaf=1; total time=   0.1s\n",
      "[CV] END model__criterion=entropy, model__max_depth=3, model__min_samples_leaf=1; total time=   0.1s\n",
      "[CV] END model__criterion=entropy, model__max_depth=3, model__min_samples_leaf=1; total time=   0.1s\n",
      "[CV] END model__criterion=entropy, model__max_depth=3, model__min_samples_leaf=1; total time=   0.1s\n",
      "[CV] END model__criterion=entropy, model__max_depth=3, model__min_samples_leaf=1; total time=   0.1s\n",
      "[CV] END model__criterion=entropy, model__max_depth=3, model__min_samples_leaf=1; total time=   0.1s\n",
      "[CV] END model__criterion=entropy, model__max_depth=3, model__min_samples_leaf=2; total time=   0.1s\n",
      "[CV] END model__criterion=entropy, model__max_depth=3, model__min_samples_leaf=2; total time=   0.1s\n",
      "[CV] END model__criterion=entropy, model__max_depth=3, model__min_samples_leaf=2; total time=   0.1s\n",
      "[CV] END model__criterion=entropy, model__max_depth=3, model__min_samples_leaf=2; total time=   0.1s\n",
      "[CV] END model__criterion=entropy, model__max_depth=3, model__min_samples_leaf=2; total time=   0.1s\n",
      "[CV] END model__criterion=entropy, model__max_depth=3, model__min_samples_leaf=2; total time=   0.1s\n",
      "[CV] END model__criterion=entropy, model__max_depth=3, model__min_samples_leaf=2; total time=   0.1s\n",
      "[CV] END model__criterion=entropy, model__max_depth=3, model__min_samples_leaf=2; total time=   0.1s\n",
      "[CV] END model__criterion=entropy, model__max_depth=3, model__min_samples_leaf=2; total time=   0.1s\n",
      "[CV] END model__criterion=entropy, model__max_depth=3, model__min_samples_leaf=2; total time=   0.1s\n",
      "[CV] END model__criterion=entropy, model__max_depth=3, model__min_samples_leaf=3; total time=   0.1s\n",
      "[CV] END model__criterion=entropy, model__max_depth=3, model__min_samples_leaf=3; total time=   0.1s\n"
     ]
    },
    {
     "name": "stdout",
     "output_type": "stream",
     "text": [
      "[CV] END model__criterion=entropy, model__max_depth=3, model__min_samples_leaf=3; total time=   0.1s\n",
      "[CV] END model__criterion=entropy, model__max_depth=3, model__min_samples_leaf=3; total time=   0.1s\n",
      "[CV] END model__criterion=entropy, model__max_depth=3, model__min_samples_leaf=3; total time=   0.1s\n",
      "[CV] END model__criterion=entropy, model__max_depth=3, model__min_samples_leaf=3; total time=   0.1s\n",
      "[CV] END model__criterion=entropy, model__max_depth=3, model__min_samples_leaf=3; total time=   0.1s\n",
      "[CV] END model__criterion=entropy, model__max_depth=3, model__min_samples_leaf=3; total time=   0.1s\n",
      "[CV] END model__criterion=entropy, model__max_depth=3, model__min_samples_leaf=3; total time=   0.1s\n",
      "[CV] END model__criterion=entropy, model__max_depth=3, model__min_samples_leaf=3; total time=   0.1s\n",
      "[CV] END model__criterion=gini, model__max_depth=1, model__min_samples_leaf=1; total time=   0.1s\n",
      "[CV] END model__criterion=gini, model__max_depth=1, model__min_samples_leaf=1; total time=   0.1s\n",
      "[CV] END model__criterion=gini, model__max_depth=1, model__min_samples_leaf=1; total time=   0.1s\n",
      "[CV] END model__criterion=gini, model__max_depth=1, model__min_samples_leaf=1; total time=   0.1s\n",
      "[CV] END model__criterion=gini, model__max_depth=1, model__min_samples_leaf=1; total time=   0.1s\n",
      "[CV] END model__criterion=gini, model__max_depth=1, model__min_samples_leaf=1; total time=   0.1s\n",
      "[CV] END model__criterion=gini, model__max_depth=1, model__min_samples_leaf=1; total time=   0.1s\n",
      "[CV] END model__criterion=gini, model__max_depth=1, model__min_samples_leaf=1; total time=   0.1s\n",
      "[CV] END model__criterion=gini, model__max_depth=1, model__min_samples_leaf=1; total time=   0.1s\n",
      "[CV] END model__criterion=gini, model__max_depth=1, model__min_samples_leaf=1; total time=   0.1s\n",
      "[CV] END model__criterion=gini, model__max_depth=1, model__min_samples_leaf=2; total time=   0.1s\n",
      "[CV] END model__criterion=gini, model__max_depth=1, model__min_samples_leaf=2; total time=   0.1s\n",
      "[CV] END model__criterion=gini, model__max_depth=1, model__min_samples_leaf=2; total time=   0.1s\n",
      "[CV] END model__criterion=gini, model__max_depth=1, model__min_samples_leaf=2; total time=   0.1s\n",
      "[CV] END model__criterion=gini, model__max_depth=1, model__min_samples_leaf=2; total time=   0.1s\n",
      "[CV] END model__criterion=gini, model__max_depth=1, model__min_samples_leaf=2; total time=   0.1s\n",
      "[CV] END model__criterion=gini, model__max_depth=1, model__min_samples_leaf=2; total time=   0.1s\n",
      "[CV] END model__criterion=gini, model__max_depth=1, model__min_samples_leaf=2; total time=   0.1s\n",
      "[CV] END model__criterion=gini, model__max_depth=1, model__min_samples_leaf=2; total time=   0.1s\n",
      "[CV] END model__criterion=gini, model__max_depth=1, model__min_samples_leaf=2; total time=   0.1s\n",
      "[CV] END model__criterion=gini, model__max_depth=1, model__min_samples_leaf=3; total time=   0.1s\n",
      "[CV] END model__criterion=gini, model__max_depth=1, model__min_samples_leaf=3; total time=   0.1s\n",
      "[CV] END model__criterion=gini, model__max_depth=1, model__min_samples_leaf=3; total time=   0.1s\n",
      "[CV] END model__criterion=gini, model__max_depth=1, model__min_samples_leaf=3; total time=   0.1s\n",
      "[CV] END model__criterion=gini, model__max_depth=1, model__min_samples_leaf=3; total time=   0.1s\n",
      "[CV] END model__criterion=gini, model__max_depth=1, model__min_samples_leaf=3; total time=   0.1s\n",
      "[CV] END model__criterion=gini, model__max_depth=1, model__min_samples_leaf=3; total time=   0.1s\n",
      "[CV] END model__criterion=gini, model__max_depth=1, model__min_samples_leaf=3; total time=   0.1s\n",
      "[CV] END model__criterion=gini, model__max_depth=1, model__min_samples_leaf=3; total time=   0.1s\n",
      "[CV] END model__criterion=gini, model__max_depth=1, model__min_samples_leaf=3; total time=   0.1s\n",
      "[CV] END model__criterion=gini, model__max_depth=2, model__min_samples_leaf=1; total time=   0.1s\n",
      "[CV] END model__criterion=gini, model__max_depth=2, model__min_samples_leaf=1; total time=   0.1s\n",
      "[CV] END model__criterion=gini, model__max_depth=2, model__min_samples_leaf=1; total time=   0.1s\n",
      "[CV] END model__criterion=gini, model__max_depth=2, model__min_samples_leaf=1; total time=   0.1s\n",
      "[CV] END model__criterion=gini, model__max_depth=2, model__min_samples_leaf=1; total time=   0.1s\n",
      "[CV] END model__criterion=gini, model__max_depth=2, model__min_samples_leaf=1; total time=   0.1s\n",
      "[CV] END model__criterion=gini, model__max_depth=2, model__min_samples_leaf=1; total time=   0.1s\n",
      "[CV] END model__criterion=gini, model__max_depth=2, model__min_samples_leaf=1; total time=   0.1s\n",
      "[CV] END model__criterion=gini, model__max_depth=2, model__min_samples_leaf=1; total time=   0.1s\n",
      "[CV] END model__criterion=gini, model__max_depth=2, model__min_samples_leaf=1; total time=   0.1s\n",
      "[CV] END model__criterion=gini, model__max_depth=2, model__min_samples_leaf=2; total time=   0.1s\n",
      "[CV] END model__criterion=gini, model__max_depth=2, model__min_samples_leaf=2; total time=   0.1s\n",
      "[CV] END model__criterion=gini, model__max_depth=2, model__min_samples_leaf=2; total time=   0.1s\n",
      "[CV] END model__criterion=gini, model__max_depth=2, model__min_samples_leaf=2; total time=   0.1s\n",
      "[CV] END model__criterion=gini, model__max_depth=2, model__min_samples_leaf=2; total time=   0.1s\n",
      "[CV] END model__criterion=gini, model__max_depth=2, model__min_samples_leaf=2; total time=   0.1s\n",
      "[CV] END model__criterion=gini, model__max_depth=2, model__min_samples_leaf=2; total time=   0.1s\n",
      "[CV] END model__criterion=gini, model__max_depth=2, model__min_samples_leaf=2; total time=   0.1s\n",
      "[CV] END model__criterion=gini, model__max_depth=2, model__min_samples_leaf=2; total time=   0.1s\n",
      "[CV] END model__criterion=gini, model__max_depth=2, model__min_samples_leaf=2; total time=   0.1s\n",
      "[CV] END model__criterion=gini, model__max_depth=2, model__min_samples_leaf=3; total time=   0.1s\n",
      "[CV] END model__criterion=gini, model__max_depth=2, model__min_samples_leaf=3; total time=   0.1s\n",
      "[CV] END model__criterion=gini, model__max_depth=2, model__min_samples_leaf=3; total time=   0.1s\n",
      "[CV] END model__criterion=gini, model__max_depth=2, model__min_samples_leaf=3; total time=   0.1s\n",
      "[CV] END model__criterion=gini, model__max_depth=2, model__min_samples_leaf=3; total time=   0.1s\n",
      "[CV] END model__criterion=gini, model__max_depth=2, model__min_samples_leaf=3; total time=   0.1s\n",
      "[CV] END model__criterion=gini, model__max_depth=2, model__min_samples_leaf=3; total time=   0.1s\n",
      "[CV] END model__criterion=gini, model__max_depth=2, model__min_samples_leaf=3; total time=   0.1s\n",
      "[CV] END model__criterion=gini, model__max_depth=2, model__min_samples_leaf=3; total time=   0.1s\n",
      "[CV] END model__criterion=gini, model__max_depth=2, model__min_samples_leaf=3; total time=   0.1s\n",
      "[CV] END model__criterion=gini, model__max_depth=3, model__min_samples_leaf=1; total time=   0.1s\n",
      "[CV] END model__criterion=gini, model__max_depth=3, model__min_samples_leaf=1; total time=   0.1s\n",
      "[CV] END model__criterion=gini, model__max_depth=3, model__min_samples_leaf=1; total time=   0.1s\n",
      "[CV] END model__criterion=gini, model__max_depth=3, model__min_samples_leaf=1; total time=   0.1s\n",
      "[CV] END model__criterion=gini, model__max_depth=3, model__min_samples_leaf=1; total time=   0.1s\n",
      "[CV] END model__criterion=gini, model__max_depth=3, model__min_samples_leaf=1; total time=   0.1s\n",
      "[CV] END model__criterion=gini, model__max_depth=3, model__min_samples_leaf=1; total time=   0.1s\n",
      "[CV] END model__criterion=gini, model__max_depth=3, model__min_samples_leaf=1; total time=   0.1s\n",
      "[CV] END model__criterion=gini, model__max_depth=3, model__min_samples_leaf=1; total time=   0.1s\n",
      "[CV] END model__criterion=gini, model__max_depth=3, model__min_samples_leaf=1; total time=   0.1s\n",
      "[CV] END model__criterion=gini, model__max_depth=3, model__min_samples_leaf=2; total time=   0.1s\n",
      "[CV] END model__criterion=gini, model__max_depth=3, model__min_samples_leaf=2; total time=   0.1s\n",
      "[CV] END model__criterion=gini, model__max_depth=3, model__min_samples_leaf=2; total time=   0.1s\n",
      "[CV] END model__criterion=gini, model__max_depth=3, model__min_samples_leaf=2; total time=   0.1s\n",
      "[CV] END model__criterion=gini, model__max_depth=3, model__min_samples_leaf=2; total time=   0.1s\n",
      "[CV] END model__criterion=gini, model__max_depth=3, model__min_samples_leaf=2; total time=   0.1s\n"
     ]
    },
    {
     "name": "stdout",
     "output_type": "stream",
     "text": [
      "[CV] END model__criterion=gini, model__max_depth=3, model__min_samples_leaf=2; total time=   0.1s\n",
      "[CV] END model__criterion=gini, model__max_depth=3, model__min_samples_leaf=2; total time=   0.1s\n",
      "[CV] END model__criterion=gini, model__max_depth=3, model__min_samples_leaf=2; total time=   0.1s\n",
      "[CV] END model__criterion=gini, model__max_depth=3, model__min_samples_leaf=2; total time=   0.1s\n",
      "[CV] END model__criterion=gini, model__max_depth=3, model__min_samples_leaf=3; total time=   0.1s\n",
      "[CV] END model__criterion=gini, model__max_depth=3, model__min_samples_leaf=3; total time=   0.1s\n",
      "[CV] END model__criterion=gini, model__max_depth=3, model__min_samples_leaf=3; total time=   0.1s\n",
      "[CV] END model__criterion=gini, model__max_depth=3, model__min_samples_leaf=3; total time=   0.1s\n",
      "[CV] END model__criterion=gini, model__max_depth=3, model__min_samples_leaf=3; total time=   0.1s\n",
      "[CV] END model__criterion=gini, model__max_depth=3, model__min_samples_leaf=3; total time=   0.1s\n",
      "[CV] END model__criterion=gini, model__max_depth=3, model__min_samples_leaf=3; total time=   0.1s\n",
      "[CV] END model__criterion=gini, model__max_depth=3, model__min_samples_leaf=3; total time=   0.1s\n",
      "[CV] END model__criterion=gini, model__max_depth=3, model__min_samples_leaf=3; total time=   0.1s\n",
      "[CV] END model__criterion=gini, model__max_depth=3, model__min_samples_leaf=3; total time=   0.1s\n",
      "\n",
      "Decision Tree Classifier - Grid Search best score -\n",
      "0.8872394393842521\n",
      "\n",
      "Grid Search best parameters -\n",
      "{'model__criterion': 'entropy', 'model__max_depth': 1, 'model__min_samples_leaf': 1}\n",
      "\\Grid Search CV Results -\n",
      "{'mean_fit_time': array([0.0711616 , 0.0704798 , 0.07097476, 0.0735266 , 0.07347305,\n",
      "       0.07346554, 0.07654026, 0.07851996, 0.07646813, 0.07074826,\n",
      "       0.07039642, 0.07094374, 0.07604311, 0.07321117, 0.07317169,\n",
      "       0.07618101, 0.07630868, 0.07707188]), 'std_fit_time': array([0.00131481, 0.0007927 , 0.00138384, 0.00139159, 0.00168991,\n",
      "       0.00101018, 0.0014975 , 0.00661015, 0.00151383, 0.00070185,\n",
      "       0.00098804, 0.00114614, 0.00739916, 0.00107389, 0.00100178,\n",
      "       0.00139725, 0.00143225, 0.0033695 ]), 'mean_score_time': array([0.01063919, 0.0106595 , 0.01074889, 0.01072881, 0.01061962,\n",
      "       0.01056876, 0.01072142, 0.01059415, 0.01071827, 0.01061592,\n",
      "       0.01054013, 0.01054957, 0.010604  , 0.01053536, 0.01054351,\n",
      "       0.01066308, 0.01067126, 0.01078293]), 'std_score_time': array([0.00029212, 0.00020424, 0.00040967, 0.00038424, 0.00013716,\n",
      "       0.00023509, 0.00024471, 0.00021538, 0.00026233, 0.00021876,\n",
      "       0.00012838, 0.00015765, 0.00032689, 0.00016223, 0.0001834 ,\n",
      "       0.00044332, 0.00015619, 0.00031872]), 'param_model__criterion': masked_array(data=['entropy', 'entropy', 'entropy', 'entropy', 'entropy',\n",
      "                   'entropy', 'entropy', 'entropy', 'entropy', 'gini',\n",
      "                   'gini', 'gini', 'gini', 'gini', 'gini', 'gini', 'gini',\n",
      "                   'gini'],\n",
      "             mask=[False, False, False, False, False, False, False, False,\n",
      "                   False, False, False, False, False, False, False, False,\n",
      "                   False, False],\n",
      "       fill_value='?',\n",
      "            dtype=object), 'param_model__max_depth': masked_array(data=[1, 1, 1, 2, 2, 2, 3, 3, 3, 1, 1, 1, 2, 2, 2, 3, 3, 3],\n",
      "             mask=[False, False, False, False, False, False, False, False,\n",
      "                   False, False, False, False, False, False, False, False,\n",
      "                   False, False],\n",
      "       fill_value='?',\n",
      "            dtype=object), 'param_model__min_samples_leaf': masked_array(data=[1, 2, 3, 1, 2, 3, 1, 2, 3, 1, 2, 3, 1, 2, 3, 1, 2, 3],\n",
      "             mask=[False, False, False, False, False, False, False, False,\n",
      "                   False, False, False, False, False, False, False, False,\n",
      "                   False, False],\n",
      "       fill_value='?',\n",
      "            dtype=object), 'params': [{'model__criterion': 'entropy', 'model__max_depth': 1, 'model__min_samples_leaf': 1}, {'model__criterion': 'entropy', 'model__max_depth': 1, 'model__min_samples_leaf': 2}, {'model__criterion': 'entropy', 'model__max_depth': 1, 'model__min_samples_leaf': 3}, {'model__criterion': 'entropy', 'model__max_depth': 2, 'model__min_samples_leaf': 1}, {'model__criterion': 'entropy', 'model__max_depth': 2, 'model__min_samples_leaf': 2}, {'model__criterion': 'entropy', 'model__max_depth': 2, 'model__min_samples_leaf': 3}, {'model__criterion': 'entropy', 'model__max_depth': 3, 'model__min_samples_leaf': 1}, {'model__criterion': 'entropy', 'model__max_depth': 3, 'model__min_samples_leaf': 2}, {'model__criterion': 'entropy', 'model__max_depth': 3, 'model__min_samples_leaf': 3}, {'model__criterion': 'gini', 'model__max_depth': 1, 'model__min_samples_leaf': 1}, {'model__criterion': 'gini', 'model__max_depth': 1, 'model__min_samples_leaf': 2}, {'model__criterion': 'gini', 'model__max_depth': 1, 'model__min_samples_leaf': 3}, {'model__criterion': 'gini', 'model__max_depth': 2, 'model__min_samples_leaf': 1}, {'model__criterion': 'gini', 'model__max_depth': 2, 'model__min_samples_leaf': 2}, {'model__criterion': 'gini', 'model__max_depth': 2, 'model__min_samples_leaf': 3}, {'model__criterion': 'gini', 'model__max_depth': 3, 'model__min_samples_leaf': 1}, {'model__criterion': 'gini', 'model__max_depth': 3, 'model__min_samples_leaf': 2}, {'model__criterion': 'gini', 'model__max_depth': 3, 'model__min_samples_leaf': 3}], 'split0_test_score': array([0.88696255, 0.88696255, 0.88696255, 0.88696255, 0.88696255,\n",
      "       0.88696255, 0.88696255, 0.88696255, 0.88696255, 0.88696255,\n",
      "       0.88696255, 0.88696255, 0.88696255, 0.88696255, 0.88696255,\n",
      "       0.88696255, 0.88696255, 0.88696255]), 'split1_test_score': array([0.8872702, 0.8872702, 0.8872702, 0.8872702, 0.8872702, 0.8872702,\n",
      "       0.8872702, 0.8872702, 0.8872702, 0.8872702, 0.8872702, 0.8872702,\n",
      "       0.8872702, 0.8872702, 0.8872702, 0.8872702, 0.8872702, 0.8872702]), 'split2_test_score': array([0.8872702, 0.8872702, 0.8872702, 0.8872702, 0.8872702, 0.8872702,\n",
      "       0.8872702, 0.8872702, 0.8872702, 0.8872702, 0.8872702, 0.8872702,\n",
      "       0.8872702, 0.8872702, 0.8872702, 0.8872702, 0.8872702, 0.8872702]), 'split3_test_score': array([0.8872702, 0.8872702, 0.8872702, 0.8872702, 0.8872702, 0.8872702,\n",
      "       0.8872702, 0.8872702, 0.8872702, 0.8872702, 0.8872702, 0.8872702,\n",
      "       0.8872702, 0.8872702, 0.8872702, 0.8872702, 0.8872702, 0.8872702]), 'split4_test_score': array([0.8872702, 0.8872702, 0.8872702, 0.8872702, 0.8872702, 0.8872702,\n",
      "       0.8872702, 0.8872702, 0.8872702, 0.8872702, 0.8872702, 0.8872702,\n",
      "       0.8872702, 0.8872702, 0.8872702, 0.8872702, 0.8872702, 0.8872702]), 'split5_test_score': array([0.8872702, 0.8872702, 0.8872702, 0.8872702, 0.8872702, 0.8872702,\n",
      "       0.8872702, 0.8872702, 0.8872702, 0.8872702, 0.8872702, 0.8872702,\n",
      "       0.8872702, 0.8872702, 0.8872702, 0.8872702, 0.8872702, 0.8872702]), 'split6_test_score': array([0.8872702, 0.8872702, 0.8872702, 0.8872702, 0.8872702, 0.8872702,\n",
      "       0.8872702, 0.8872702, 0.8872702, 0.8872702, 0.8872702, 0.8872702,\n",
      "       0.8872702, 0.8872702, 0.8872702, 0.8872702, 0.8872702, 0.8872702]), 'split7_test_score': array([0.8872702, 0.8872702, 0.8872702, 0.8872702, 0.8872702, 0.8872702,\n",
      "       0.8872702, 0.8872702, 0.8872702, 0.8872702, 0.8872702, 0.8872702,\n",
      "       0.8872702, 0.8872702, 0.8872702, 0.8872702, 0.8872702, 0.8872702]), 'split8_test_score': array([0.8872702, 0.8872702, 0.8872702, 0.8872702, 0.8872702, 0.8872702,\n",
      "       0.8872702, 0.8872702, 0.8872702, 0.8872702, 0.8872702, 0.8872702,\n",
      "       0.8872702, 0.8872702, 0.8872702, 0.8872702, 0.8872702, 0.8872702]), 'split9_test_score': array([0.8872702, 0.8872702, 0.8872702, 0.8872702, 0.8872702, 0.8872702,\n",
      "       0.8872702, 0.8872702, 0.8872702, 0.8872702, 0.8872702, 0.8872702,\n",
      "       0.8872702, 0.8872702, 0.8872702, 0.8872702, 0.8872702, 0.8872702]), 'mean_test_score': array([0.88723944, 0.88723944, 0.88723944, 0.88723944, 0.88723944,\n",
      "       0.88723944, 0.88723944, 0.88723944, 0.88723944, 0.88723944,\n",
      "       0.88723944, 0.88723944, 0.88723944, 0.88723944, 0.88723944,\n",
      "       0.88723944, 0.88723944, 0.88723944]), 'std_test_score': array([9.22957911e-05, 9.22957911e-05, 9.22957911e-05, 9.22957911e-05,\n",
      "       9.22957911e-05, 9.22957911e-05, 9.22957911e-05, 9.22957911e-05,\n",
      "       9.22957911e-05, 9.22957911e-05, 9.22957911e-05, 9.22957911e-05,\n",
      "       9.22957911e-05, 9.22957911e-05, 9.22957911e-05, 9.22957911e-05,\n",
      "       9.22957911e-05, 9.22957911e-05]), 'rank_test_score': array([1, 1, 1, 1, 1, 1, 1, 1, 1, 1, 1, 1, 1, 1, 1, 1, 1, 1], dtype=int32)}\n",
      "Best parameters set:\n",
      "[('transformer', ColumnTransformer(remainder='passthrough',\n",
      "                  transformers=[('onehotencoder',\n",
      "                                 OneHotEncoder(handle_unknown='ignore'),\n",
      "                                 ['job', 'marital', 'education', 'default',\n",
      "                                  'contact']),\n",
      "                                ('ordinalencoder', OrdinalEncoder(),\n",
      "                                 ['housing', 'loan'])])), ('scale', StandardScaler(with_mean=False)), ('model', DecisionTreeClassifier(criterion='entropy', max_depth=1))]\n"
     ]
    },
    {
     "name": "stdout",
     "output_type": "stream",
     "text": [
      "Test accuracy: 0.888\n",
      "Best cross-validation score: 0.8872394393842521\n",
      "Test Score : 0.8875940762320952\n",
      "CPU times: user 14.8 s, sys: 780 ms, total: 15.6 s\n",
      "Wall time: 15.7 s\n"
     ]
    }
   ],
   "source": [
    "%%time\n",
    "#Building a Decision Tree Grid Search\n",
    "\n",
    "# parameter grid\n",
    "\n",
    "#\n",
    "# Create grid parameters for hyperparameter tuning\n",
    "#\n",
    "params =  {\n",
    "    'model__min_samples_leaf': [1, 2, 3],\n",
    "    'model__max_depth': [1, 2, 3],\n",
    "    'model__criterion': ['entropy','gini']\n",
    "}\n",
    "\n",
    "# Create an instance of GridSearch Cross-validation estimator\n",
    "#\n",
    "gsDTC = GridSearchCV(estimator=dtc1_pipe,\n",
    "                     param_grid = params,\n",
    "                     cv=10,\n",
    "                     verbose=2,\n",
    "                     n_jobs=1)\n",
    "\n",
    "# Train the DecisionTreeClassifier Classifier\n",
    "#\n",
    "gsDTC = gsDTC.fit(X_train, y_train)\n",
    "gsDTC_predicted = gsDTC.predict(X_test)\n",
    "#\n",
    "# Print the training score of the best model\n",
    "#\n",
    "print('\\nDecision Tree Classifier - Grid Search best score -')\n",
    "print(gsDTC.best_score_)\n",
    "\n",
    "#\n",
    "# Print the model parameters of the best model\n",
    "#\n",
    "print('\\nGrid Search best parameters -')\n",
    "print(gsDTC.best_params_)\n",
    "\n",
    "print('\\Grid Search CV Results -')\n",
    "print(gsDTC.cv_results_)\n",
    "\n",
    "print(\"Best parameters set:\")\n",
    "print(gsDTC.best_estimator_.steps)\n",
    "\n",
    "#\n",
    "# Print the test score of the best model\n",
    "#\n",
    "clfDTC = gsDTC.best_estimator_\n",
    "print('Test accuracy: %.3f' % clfDTC.score(X_test, y_test))\n",
    "\n",
    "print(\"Best cross-validation score:\", gsDTC.best_score_)\n",
    "\n",
    "score = gsDTC.score(X_test, y_test)\n",
    "print(\"Test Score :\", score)\n",
    "\n"
   ]
  },
  {
   "cell_type": "code",
   "execution_count": 50,
   "metadata": {},
   "outputs": [
    {
     "data": {
      "text/plain": [
       "dict_keys(['memory', 'steps', 'verbose', 'transformer', 'scale', 'model', 'transformer__n_jobs', 'transformer__remainder', 'transformer__sparse_threshold', 'transformer__transformer_weights', 'transformer__transformers', 'transformer__verbose', 'transformer__verbose_feature_names_out', 'transformer__onehotencoder', 'transformer__ordinalencoder', 'transformer__onehotencoder__categories', 'transformer__onehotencoder__drop', 'transformer__onehotencoder__dtype', 'transformer__onehotencoder__handle_unknown', 'transformer__onehotencoder__sparse', 'transformer__ordinalencoder__categories', 'transformer__ordinalencoder__dtype', 'transformer__ordinalencoder__handle_unknown', 'transformer__ordinalencoder__unknown_value', 'scale__copy', 'scale__with_mean', 'scale__with_std', 'model__C', 'model__break_ties', 'model__cache_size', 'model__class_weight', 'model__coef0', 'model__decision_function_shape', 'model__degree', 'model__gamma', 'model__kernel', 'model__max_iter', 'model__probability', 'model__random_state', 'model__shrinking', 'model__tol', 'model__verbose'])"
      ]
     },
     "execution_count": 50,
     "metadata": {},
     "output_type": "execute_result"
    }
   ],
   "source": [
    "#Looking up parameters that can be passed to the pipeline\n",
    "svm_pipe.get_params().keys()"
   ]
  },
  {
   "cell_type": "code",
   "execution_count": 51,
   "metadata": {},
   "outputs": [
    {
     "name": "stdout",
     "output_type": "stream",
     "text": [
      "\n",
      "Support Vector Machine - Grid Search best score -\n",
      "0.8872394393842521\n",
      "\n",
      "Grid Search best parameters -\n",
      "{'model__C': 0.1, 'model__kernel': 'rbf'}\n",
      "\\Grid Search CV Results -\n",
      "{'mean_fit_time': array([7.3352627 , 5.43446074, 8.26637421, 5.92531977, 8.8548454 ,\n",
      "       7.61508741]), 'std_fit_time': array([0.61555935, 0.02681952, 0.18617746, 0.13430997, 0.1985717 ,\n",
      "       3.06903744]), 'mean_score_time': array([0.66106713, 0.55044608, 0.68420124, 0.58605831, 0.70364661,\n",
      "       0.60289187]), 'std_score_time': array([0.03190494, 0.00860892, 0.01247375, 0.0061488 , 0.02941678,\n",
      "       0.01242753]), 'param_model__C': masked_array(data=[0.1, 0.1, 0.5, 0.5, 1.0, 1.0],\n",
      "             mask=[False, False, False, False, False, False],\n",
      "       fill_value='?',\n",
      "            dtype=object), 'param_model__kernel': masked_array(data=['rbf', 'linear', 'rbf', 'linear', 'rbf', 'linear'],\n",
      "             mask=[False, False, False, False, False, False],\n",
      "       fill_value='?',\n",
      "            dtype=object), 'params': [{'model__C': 0.1, 'model__kernel': 'rbf'}, {'model__C': 0.1, 'model__kernel': 'linear'}, {'model__C': 0.5, 'model__kernel': 'rbf'}, {'model__C': 0.5, 'model__kernel': 'linear'}, {'model__C': 1.0, 'model__kernel': 'rbf'}, {'model__C': 1.0, 'model__kernel': 'linear'}], 'split0_test_score': array([0.88696255, 0.88696255, 0.88696255, 0.88696255, 0.88696255,\n",
      "       0.88696255]), 'split1_test_score': array([0.8872702, 0.8872702, 0.8872702, 0.8872702, 0.8872702, 0.8872702]), 'split2_test_score': array([0.8872702, 0.8872702, 0.8872702, 0.8872702, 0.8872702, 0.8872702]), 'split3_test_score': array([0.8872702, 0.8872702, 0.8872702, 0.8872702, 0.8872702, 0.8872702]), 'split4_test_score': array([0.8872702, 0.8872702, 0.8872702, 0.8872702, 0.8872702, 0.8872702]), 'split5_test_score': array([0.8872702, 0.8872702, 0.8872702, 0.8872702, 0.8872702, 0.8872702]), 'split6_test_score': array([0.8872702, 0.8872702, 0.8872702, 0.8872702, 0.8872702, 0.8872702]), 'split7_test_score': array([0.8872702, 0.8872702, 0.8872702, 0.8872702, 0.8872702, 0.8872702]), 'split8_test_score': array([0.8872702, 0.8872702, 0.8872702, 0.8872702, 0.8872702, 0.8872702]), 'split9_test_score': array([0.8872702, 0.8872702, 0.8872702, 0.8872702, 0.8872702, 0.8872702]), 'mean_test_score': array([0.88723944, 0.88723944, 0.88723944, 0.88723944, 0.88723944,\n",
      "       0.88723944]), 'std_test_score': array([9.22957911e-05, 9.22957911e-05, 9.22957911e-05, 9.22957911e-05,\n",
      "       9.22957911e-05, 9.22957911e-05]), 'rank_test_score': array([1, 1, 1, 1, 1, 1], dtype=int32)}\n",
      "Best parameters set:\n",
      "[('transformer', ColumnTransformer(remainder='passthrough',\n",
      "                  transformers=[('onehotencoder',\n",
      "                                 OneHotEncoder(handle_unknown='ignore'),\n",
      "                                 ['job', 'marital', 'education', 'default',\n",
      "                                  'contact']),\n",
      "                                ('ordinalencoder', OrdinalEncoder(),\n",
      "                                 ['housing', 'loan'])])), ('scale', StandardScaler(with_mean=False)), ('model', SVC(C=0.1))]\n",
      "Test accuracy: 0.888\n",
      "Best cross-validation score: 0.8872394393842521\n",
      "Test Score : 0.8875940762320952\n",
      "CPU times: user 7min 56s, sys: 9.32 s, total: 8min 5s\n",
      "Wall time: 8min 10s\n"
     ]
    }
   ],
   "source": [
    "%%time\n",
    "#Building a Support Vector Machine Grid Search\n",
    "\n",
    "#Redfined the Pipeline\n",
    "svm_pipegs = Pipeline ([\n",
    "    ('transformer', column_trans),\n",
    "    ('scale', StandardScaler(with_mean=False)),\n",
    "    ('model', SVC(probability=False))\n",
    "])\n",
    "\n",
    "# parameter grid\n",
    "\n",
    "param_grid = {'model__C': [0.1,1, 10, 100], 'model__gamma': [1,0.1,0.01,0.001],'model__kernel': ['rbf', 'poly', 'sigmoid']}\n",
    "\n",
    "param_grid_svc = [{\n",
    "                    'model__C': [ 0.1, 0.5, 1.0 ],\n",
    "                    'model__kernel': ['linear']\n",
    "                  },\n",
    "                 {\n",
    "                    'model__C': [ 0.1, 0.5, 1.0 ],\n",
    "                    'model__gamma': [0.1, 0.5, 1.0 ],\n",
    "                    'model__kernel': ['rbf', 'poly', 'sigmoid']\n",
    "                 }]\n",
    "\n",
    "param_grid_svc1 = {\n",
    "                    'model__C': [ 0.1, 0.5, 1.0 ],\n",
    "                    'model__gamma': [0.1, 0.5, 1.0 ],\n",
    "                    'model__kernel': ['rbf', 'poly', 'sigmoid']\n",
    "                 }\n",
    "\n",
    "param_grid_svc2 = {\n",
    "                    'model__C': [ 0.1, 0.5, 1.0 ],\n",
    "                    'model__kernel': ['rbf','linear']\n",
    "                 }\n",
    "#\n",
    "\n",
    "#\n",
    "\n",
    "#\n",
    "# Create an instance of GridSearch Cross-validation estimator\n",
    "#\n",
    "gsSVC = GridSearchCV(estimator=svm_pipegs,\n",
    "                     param_grid = param_grid_svc2,\n",
    "                     scoring='accuracy',\n",
    "                     cv=10,\n",
    "                     refit=True,\n",
    "                     n_jobs=1)\n",
    "#\n",
    "# Train the SVM classifier\n",
    "#\n",
    "gsSVC.fit(X_train, y_train)\n",
    "gsSVC_predicted = gsSVC.predict(X_test)\n",
    "\n",
    "#\n",
    "# Print the training score of the best model\n",
    "#\n",
    "print('\\nSupport Vector Machine - Grid Search best score -')\n",
    "print(gsSVC.best_score_)\n",
    "\n",
    "#\n",
    "# Print the model parameters of the best model\n",
    "#\n",
    "print('\\nGrid Search best parameters -')\n",
    "print(gsSVC.best_params_)\n",
    "\n",
    "print('\\Grid Search CV Results -')\n",
    "print(gsSVC.cv_results_)\n",
    "\n",
    "print(\"Best parameters set:\")\n",
    "print(gsSVC.best_estimator_.steps)\n",
    "\n",
    "#\n",
    "# Print the test score of the best model\n",
    "#\n",
    "clfSVC = gsSVC.best_estimator_\n",
    "print('Test accuracy: %.3f' % clfSVC.score(X_test, y_test))\n",
    "\n",
    "print(\"Best cross-validation score:\", gsSVC.best_score_)\n",
    "\n",
    "scoreSVC = gsSVC.score(X_test, y_test)\n",
    "print(\"Test Score :\", scoreSVC)\n"
   ]
  },
  {
   "cell_type": "markdown",
   "metadata": {},
   "source": [
    "For SVM, I tried a number of paramaters which took a long time (i.e., some running over 2 hours etc) and did not finish because I had to abort the processing. Finally got the following parameter to work which took over 8 minutes as shown above.\n",
    "\n",
    "param_grid_svc2 = {\n",
    "                    'model__C': [ 0.1, 0.5, 1.0 ],\n",
    "                    'model__kernel': ['rbf','linear']\n",
    "                 }"
   ]
  },
  {
   "cell_type": "markdown",
   "metadata": {},
   "source": [
    "### Results from Models\n",
    "\n",
    "Logistic Regression - Grid Search best score - 0.8872394393842521 \\\n",
    "Grid Search best parameters - {'model__C': 0.001, 'model__penalty': 'l1', 'model__solver': 'liblinear'} \\\n",
    "C:0.001, penalty:l2, solver: liblinear \\\n",
    "Wall time: 1min 4s\n",
    "\n",
    "K Nearest Neighbor - Grid Search best score - 0.8855397848500199 \\\n",
    "Grid Search best parameters - {'model__n_neighbors': 17} \\\n",
    "n_neighbors: 17 \\\n",
    "Wall time: 5min 2s\n",
    "\n",
    "Decision Tree Classifier - Grid Search best score - 0.8872394393842521 \\\n",
    "Grid Search best parameters - {'model__criterion': 'entropy', 'model__max_depth': 1, 'model__min_samples_leaf': 1} \\\n",
    "criterion: entropy, max_depth: 1, model__min_samples_leaf: 1 \\\n",
    "Wall time: 15.7 s \\\n",
    "\n",
    "Support Vector Machine - Grid Search best score - 0.8872394393842521 \\\n",
    "Grid Search best parameters - {'model__C': 0.1, 'model__kernel': 'rbf'} \\\n",
    "C: 0.1, kernel: rbf \\\n",
    "Wall time: 8min 10s\n"
   ]
  },
  {
   "cell_type": "code",
   "execution_count": 53,
   "metadata": {},
   "outputs": [
    {
     "data": {
      "text/html": [
       "<div>\n",
       "<style scoped>\n",
       "    .dataframe tbody tr th:only-of-type {\n",
       "        vertical-align: middle;\n",
       "    }\n",
       "\n",
       "    .dataframe tbody tr th {\n",
       "        vertical-align: top;\n",
       "    }\n",
       "\n",
       "    .dataframe thead th {\n",
       "        text-align: right;\n",
       "    }\n",
       "</style>\n",
       "<table border=\"1\" class=\"dataframe\">\n",
       "  <thead>\n",
       "    <tr style=\"text-align: right;\">\n",
       "      <th></th>\n",
       "      <th>Model</th>\n",
       "      <th>Train Time (s)</th>\n",
       "      <th>Best Params</th>\n",
       "      <th>Best Score</th>\n",
       "    </tr>\n",
       "  </thead>\n",
       "  <tbody>\n",
       "    <tr>\n",
       "      <th>0</th>\n",
       "      <td>Logistic</td>\n",
       "      <td>64</td>\n",
       "      <td>C:0.001, penalty:l2, solver: liblinear</td>\n",
       "      <td>0.8872394393842521</td>\n",
       "    </tr>\n",
       "    <tr>\n",
       "      <th>1</th>\n",
       "      <td>KNN</td>\n",
       "      <td>302</td>\n",
       "      <td>n_neighbors: 17</td>\n",
       "      <td>0.8855397848500199</td>\n",
       "    </tr>\n",
       "    <tr>\n",
       "      <th>2</th>\n",
       "      <td>Decision Tree</td>\n",
       "      <td>15.7</td>\n",
       "      <td>criterion: entropy, max_depth: 1, model__min_samples_leaf: 1</td>\n",
       "      <td>0.8872394393842521</td>\n",
       "    </tr>\n",
       "    <tr>\n",
       "      <th>3</th>\n",
       "      <td>SVM</td>\n",
       "      <td>490</td>\n",
       "      <td>C: 0.1, kernel: rbf</td>\n",
       "      <td>0.8872394393842521</td>\n",
       "    </tr>\n",
       "  </tbody>\n",
       "</table>\n",
       "</div>"
      ],
      "text/plain": [
       "           Model Train Time (s)  \\\n",
       "0       Logistic             64   \n",
       "1            KNN            302   \n",
       "2  Decision Tree           15.7   \n",
       "3            SVM            490   \n",
       "\n",
       "                                                    Best Params  \\\n",
       "0                        C:0.001, penalty:l2, solver: liblinear   \n",
       "1                                               n_neighbors: 17   \n",
       "2  criterion: entropy, max_depth: 1, model__min_samples_leaf: 1   \n",
       "3                                           C: 0.1, kernel: rbf   \n",
       "\n",
       "           Best Score  \n",
       "0  0.8872394393842521  \n",
       "1  0.8855397848500199  \n",
       "2  0.8872394393842521  \n",
       "3  0.8872394393842521  "
      ]
     },
     "execution_count": 53,
     "metadata": {},
     "output_type": "execute_result"
    }
   ],
   "source": [
    "pd.DataFrame({'Model': ['Logistic', 'KNN','Decision Tree', 'SVM'], \n",
    "             'Train Time (s)': ['64', '302', '15.7','490'],\n",
    "             'Best Params': ['C:0.001, penalty:l2, solver: liblinear', 'n_neighbors: 17', 'criterion: entropy, max_depth: 1, model__min_samples_leaf: 1','C: 0.1, kernel: rbf'],\n",
    "             'Best Score': ['0.8872394393842521', '0.8855397848500199', '0.8872394393842521','0.8872394393842521']})"
   ]
  },
  {
   "cell_type": "markdown",
   "metadata": {},
   "source": [
    "Interesting observation in that Logistic Regression, Decision Tree and Support Vector Machines had the same best score with their different best parameters. This leaves KNN with the lowest best score. All scores were high over 85% accuracy."
   ]
  },
  {
   "cell_type": "code",
   "execution_count": null,
   "metadata": {},
   "outputs": [],
   "source": []
  },
  {
   "cell_type": "markdown",
   "metadata": {},
   "source": [
    "##### Questions"
   ]
  },
  {
   "cell_type": "markdown",
   "metadata": {},
   "source": [
    "The main question that I have is the imbalanced dataset which is heavily weighted towards the unsuccessful marketing campaigns. If the model is used to determine features that are making the marketing campaign unsuccessful, then the models above could be useful. \n",
    "\n",
    "Alternatively, the model can be used by the financial institution to understand customer profile that they need to target, for example, there was a high score amongst the \"Yes\" for customers contacted via Cellular so maybe the Bank can adopt modern features like Text Messages, Social Media platforms (i.e. Facebook, Instagram, Twitter, Tik Tok etc) for marketing campaigns"
   ]
  },
  {
   "cell_type": "code",
   "execution_count": null,
   "metadata": {},
   "outputs": [],
   "source": []
  },
  {
   "cell_type": "code",
   "execution_count": null,
   "metadata": {},
   "outputs": [],
   "source": []
  }
 ],
 "metadata": {
  "kernelspec": {
   "display_name": "Python 3 (ipykernel)",
   "language": "python",
   "name": "python3"
  },
  "language_info": {
   "codemirror_mode": {
    "name": "ipython",
    "version": 3
   },
   "file_extension": ".py",
   "mimetype": "text/x-python",
   "name": "python",
   "nbconvert_exporter": "python",
   "pygments_lexer": "ipython3",
   "version": "3.9.12"
  },
  "widgets": {
   "application/vnd.jupyter.widget-state+json": {
    "state": {},
    "version_major": 2,
    "version_minor": 0
   }
  }
 },
 "nbformat": 4,
 "nbformat_minor": 4
}
