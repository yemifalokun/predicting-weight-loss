{
 "cells": [
  {
   "cell_type": "markdown",
   "id": "0eda9c10",
   "metadata": {},
   "source": [
    "#### Data Understanding\n",
    "\n",
    "Looking at the weight data loss dataset from https://www.kaggle.com/datasets/tombenny/foodhabbits\n",
    "\n",
    "Let's check this dataset and see if there are features like diet, exercise that contribute to a target feature indicating whether thier was weight loss or not\n",
    "\n",
    "#### Collect Initial Data \n",
    "Using Kaggle web site, did a search for Weight loss datasets - https://www.kaggle.com/search?q=weight+loss+in%3Adatasets\n",
    "\n",
    "Identified the  weight data loss dataset using diet from https://www.kaggle.com/datasets/tombenny/foodhabbits\n"
   ]
  },
  {
   "cell_type": "markdown",
   "id": "2c8f8da2",
   "metadata": {},
   "source": [
    "This Notebook uses Linear Regression to find out if this dataset can be used to build a ML Model that we can use to predict weight loss based on diets information provided by the users"
   ]
  },
  {
   "cell_type": "code",
   "execution_count": 1,
   "id": "9c5d4689",
   "metadata": {},
   "outputs": [],
   "source": [
    "import statsmodels.api as sm\n",
    "import matplotlib.pyplot as plt\n",
    "import pandas as pd\n",
    "import numpy as np\n",
    "import seaborn as sns\n",
    "\n",
    "from sklearn.linear_model import LinearRegression, Ridge\n",
    "from sklearn.model_selection import train_test_split\n",
    "from sklearn.metrics import mean_absolute_error, mean_squared_error, r2_score\n",
    "\n",
    "from sklearn.preprocessing import OneHotEncoder, PolynomialFeatures, StandardScaler, MinMaxScaler\n",
    "from sklearn.compose import ColumnTransformer, make_column_transformer\n",
    "from sklearn.inspection import permutation_importance\n",
    "from sklearn.pipeline import Pipeline"
   ]
  },
  {
   "cell_type": "code",
   "execution_count": 2,
   "id": "f9761d9f",
   "metadata": {},
   "outputs": [],
   "source": [
    "import warnings\n",
    "warnings.filterwarnings(\"ignore\")"
   ]
  },
  {
   "cell_type": "code",
   "execution_count": 3,
   "id": "b0050abf",
   "metadata": {},
   "outputs": [],
   "source": [
    "pd.set_option('display.max_colwidth', None)"
   ]
  },
  {
   "cell_type": "code",
   "execution_count": 4,
   "id": "186a49ec",
   "metadata": {
    "scrolled": false
   },
   "outputs": [
    {
     "data": {
      "text/html": [
       "<div>\n",
       "<style scoped>\n",
       "    .dataframe tbody tr th:only-of-type {\n",
       "        vertical-align: middle;\n",
       "    }\n",
       "\n",
       "    .dataframe tbody tr th {\n",
       "        vertical-align: top;\n",
       "    }\n",
       "\n",
       "    .dataframe thead th {\n",
       "        text-align: right;\n",
       "    }\n",
       "</style>\n",
       "<table border=\"1\" class=\"dataframe\">\n",
       "  <thead>\n",
       "    <tr style=\"text-align: right;\">\n",
       "      <th></th>\n",
       "      <th>Person</th>\n",
       "      <th>gender</th>\n",
       "      <th>Age</th>\n",
       "      <th>Height</th>\n",
       "      <th>pre.weight</th>\n",
       "      <th>Diet</th>\n",
       "      <th>weight6weeks</th>\n",
       "    </tr>\n",
       "  </thead>\n",
       "  <tbody>\n",
       "    <tr>\n",
       "      <th>0</th>\n",
       "      <td>25</td>\n",
       "      <td>0</td>\n",
       "      <td>41</td>\n",
       "      <td>171</td>\n",
       "      <td>60</td>\n",
       "      <td>2</td>\n",
       "      <td>60.0</td>\n",
       "    </tr>\n",
       "    <tr>\n",
       "      <th>1</th>\n",
       "      <td>26</td>\n",
       "      <td>0</td>\n",
       "      <td>32</td>\n",
       "      <td>174</td>\n",
       "      <td>103</td>\n",
       "      <td>2</td>\n",
       "      <td>103.0</td>\n",
       "    </tr>\n",
       "    <tr>\n",
       "      <th>2</th>\n",
       "      <td>1</td>\n",
       "      <td>0</td>\n",
       "      <td>22</td>\n",
       "      <td>159</td>\n",
       "      <td>58</td>\n",
       "      <td>1</td>\n",
       "      <td>54.2</td>\n",
       "    </tr>\n",
       "    <tr>\n",
       "      <th>3</th>\n",
       "      <td>2</td>\n",
       "      <td>0</td>\n",
       "      <td>46</td>\n",
       "      <td>192</td>\n",
       "      <td>60</td>\n",
       "      <td>1</td>\n",
       "      <td>54.0</td>\n",
       "    </tr>\n",
       "    <tr>\n",
       "      <th>4</th>\n",
       "      <td>3</td>\n",
       "      <td>0</td>\n",
       "      <td>55</td>\n",
       "      <td>170</td>\n",
       "      <td>64</td>\n",
       "      <td>1</td>\n",
       "      <td>63.3</td>\n",
       "    </tr>\n",
       "    <tr>\n",
       "      <th>5</th>\n",
       "      <td>4</td>\n",
       "      <td>0</td>\n",
       "      <td>33</td>\n",
       "      <td>171</td>\n",
       "      <td>64</td>\n",
       "      <td>1</td>\n",
       "      <td>61.1</td>\n",
       "    </tr>\n",
       "    <tr>\n",
       "      <th>6</th>\n",
       "      <td>5</td>\n",
       "      <td>0</td>\n",
       "      <td>50</td>\n",
       "      <td>170</td>\n",
       "      <td>65</td>\n",
       "      <td>1</td>\n",
       "      <td>62.2</td>\n",
       "    </tr>\n",
       "    <tr>\n",
       "      <th>7</th>\n",
       "      <td>6</td>\n",
       "      <td>0</td>\n",
       "      <td>50</td>\n",
       "      <td>201</td>\n",
       "      <td>66</td>\n",
       "      <td>1</td>\n",
       "      <td>64.0</td>\n",
       "    </tr>\n",
       "    <tr>\n",
       "      <th>8</th>\n",
       "      <td>7</td>\n",
       "      <td>0</td>\n",
       "      <td>37</td>\n",
       "      <td>174</td>\n",
       "      <td>67</td>\n",
       "      <td>1</td>\n",
       "      <td>65.0</td>\n",
       "    </tr>\n",
       "    <tr>\n",
       "      <th>9</th>\n",
       "      <td>8</td>\n",
       "      <td>0</td>\n",
       "      <td>28</td>\n",
       "      <td>176</td>\n",
       "      <td>69</td>\n",
       "      <td>1</td>\n",
       "      <td>60.5</td>\n",
       "    </tr>\n",
       "  </tbody>\n",
       "</table>\n",
       "</div>"
      ],
      "text/plain": [
       "   Person  gender  Age  Height  pre.weight  Diet  weight6weeks\n",
       "0      25       0   41     171          60     2          60.0\n",
       "1      26       0   32     174         103     2         103.0\n",
       "2       1       0   22     159          58     1          54.2\n",
       "3       2       0   46     192          60     1          54.0\n",
       "4       3       0   55     170          64     1          63.3\n",
       "5       4       0   33     171          64     1          61.1\n",
       "6       5       0   50     170          65     1          62.2\n",
       "7       6       0   50     201          66     1          64.0\n",
       "8       7       0   37     174          67     1          65.0\n",
       "9       8       0   28     176          69     1          60.5"
      ]
     },
     "execution_count": 4,
     "metadata": {},
     "output_type": "execute_result"
    }
   ],
   "source": [
    "# Read weight loss data file into DataFrame\n",
    "weightloss_data_df = pd.read_csv(\"../data/foodDiet.csv\")\n",
    "weightloss_data_df.head(10)"
   ]
  },
  {
   "cell_type": "code",
   "execution_count": 5,
   "id": "5308a3e2",
   "metadata": {
    "scrolled": true
   },
   "outputs": [
    {
     "data": {
      "text/plain": [
       "<bound method DataFrame.info of     Person  gender  Age  Height  pre.weight  Diet  weight6weeks\n",
       "0       25       0   41     171          60     2          60.0\n",
       "1       26       0   32     174         103     2         103.0\n",
       "2        1       0   22     159          58     1          54.2\n",
       "3        2       0   46     192          60     1          54.0\n",
       "4        3       0   55     170          64     1          63.3\n",
       "..     ...     ...  ...     ...         ...   ...           ...\n",
       "73      74       1   35     183          83     3          80.2\n",
       "74      75       1   49     177          84     3          79.9\n",
       "75      76       1   28     164          85     3          79.7\n",
       "76      77       1   40     167          87     3          77.8\n",
       "77      78       1   51     175          88     3          81.9\n",
       "\n",
       "[78 rows x 7 columns]>"
      ]
     },
     "execution_count": 5,
     "metadata": {},
     "output_type": "execute_result"
    }
   ],
   "source": [
    "# Information on the features\n",
    "weightloss_data_df.info"
   ]
  },
  {
   "cell_type": "code",
   "execution_count": 6,
   "id": "ae0260de",
   "metadata": {},
   "outputs": [
    {
     "data": {
      "text/html": [
       "<div>\n",
       "<style scoped>\n",
       "    .dataframe tbody tr th:only-of-type {\n",
       "        vertical-align: middle;\n",
       "    }\n",
       "\n",
       "    .dataframe tbody tr th {\n",
       "        vertical-align: top;\n",
       "    }\n",
       "\n",
       "    .dataframe thead th {\n",
       "        text-align: right;\n",
       "    }\n",
       "</style>\n",
       "<table border=\"1\" class=\"dataframe\">\n",
       "  <thead>\n",
       "    <tr style=\"text-align: right;\">\n",
       "      <th></th>\n",
       "      <th>Person</th>\n",
       "      <th>gender</th>\n",
       "      <th>Age</th>\n",
       "      <th>Height</th>\n",
       "      <th>pre.weight</th>\n",
       "      <th>Diet</th>\n",
       "      <th>weight6weeks</th>\n",
       "    </tr>\n",
       "  </thead>\n",
       "  <tbody>\n",
       "    <tr>\n",
       "      <th>Person</th>\n",
       "      <td>1.000000</td>\n",
       "      <td>0.308313</td>\n",
       "      <td>-0.101773</td>\n",
       "      <td>-0.033696</td>\n",
       "      <td>0.296399</td>\n",
       "      <td>0.942237</td>\n",
       "      <td>0.196728</td>\n",
       "    </tr>\n",
       "    <tr>\n",
       "      <th>gender</th>\n",
       "      <td>0.308313</td>\n",
       "      <td>1.000000</td>\n",
       "      <td>0.018422</td>\n",
       "      <td>0.337974</td>\n",
       "      <td>0.642679</td>\n",
       "      <td>0.023479</td>\n",
       "      <td>0.611748</td>\n",
       "    </tr>\n",
       "    <tr>\n",
       "      <th>Age</th>\n",
       "      <td>-0.101773</td>\n",
       "      <td>0.018422</td>\n",
       "      <td>1.000000</td>\n",
       "      <td>0.080393</td>\n",
       "      <td>-0.006265</td>\n",
       "      <td>-0.127707</td>\n",
       "      <td>0.010472</td>\n",
       "    </tr>\n",
       "    <tr>\n",
       "      <th>Height</th>\n",
       "      <td>-0.033696</td>\n",
       "      <td>0.337974</td>\n",
       "      <td>0.080393</td>\n",
       "      <td>1.000000</td>\n",
       "      <td>0.154381</td>\n",
       "      <td>-0.118241</td>\n",
       "      <td>0.183998</td>\n",
       "    </tr>\n",
       "    <tr>\n",
       "      <th>pre.weight</th>\n",
       "      <td>0.296399</td>\n",
       "      <td>0.642679</td>\n",
       "      <td>-0.006265</td>\n",
       "      <td>0.154381</td>\n",
       "      <td>1.000000</td>\n",
       "      <td>0.039234</td>\n",
       "      <td>0.958449</td>\n",
       "    </tr>\n",
       "    <tr>\n",
       "      <th>Diet</th>\n",
       "      <td>0.942237</td>\n",
       "      <td>0.023479</td>\n",
       "      <td>-0.127707</td>\n",
       "      <td>-0.118241</td>\n",
       "      <td>0.039234</td>\n",
       "      <td>1.000000</td>\n",
       "      <td>-0.048050</td>\n",
       "    </tr>\n",
       "    <tr>\n",
       "      <th>weight6weeks</th>\n",
       "      <td>0.196728</td>\n",
       "      <td>0.611748</td>\n",
       "      <td>0.010472</td>\n",
       "      <td>0.183998</td>\n",
       "      <td>0.958449</td>\n",
       "      <td>-0.048050</td>\n",
       "      <td>1.000000</td>\n",
       "    </tr>\n",
       "  </tbody>\n",
       "</table>\n",
       "</div>"
      ],
      "text/plain": [
       "                Person    gender       Age    Height  pre.weight      Diet  \\\n",
       "Person        1.000000  0.308313 -0.101773 -0.033696    0.296399  0.942237   \n",
       "gender        0.308313  1.000000  0.018422  0.337974    0.642679  0.023479   \n",
       "Age          -0.101773  0.018422  1.000000  0.080393   -0.006265 -0.127707   \n",
       "Height       -0.033696  0.337974  0.080393  1.000000    0.154381 -0.118241   \n",
       "pre.weight    0.296399  0.642679 -0.006265  0.154381    1.000000  0.039234   \n",
       "Diet          0.942237  0.023479 -0.127707 -0.118241    0.039234  1.000000   \n",
       "weight6weeks  0.196728  0.611748  0.010472  0.183998    0.958449 -0.048050   \n",
       "\n",
       "              weight6weeks  \n",
       "Person            0.196728  \n",
       "gender            0.611748  \n",
       "Age               0.010472  \n",
       "Height            0.183998  \n",
       "pre.weight        0.958449  \n",
       "Diet             -0.048050  \n",
       "weight6weeks      1.000000  "
      ]
     },
     "execution_count": 6,
     "metadata": {},
     "output_type": "execute_result"
    }
   ],
   "source": [
    "# Information on the features\n",
    "weightloss_data_df.corr()"
   ]
  },
  {
   "cell_type": "markdown",
   "id": "b9dca963",
   "metadata": {},
   "source": [
    "### Data Preparation\n",
    "\n",
    "After our initial exploration and fine tuning of the business understanding, it is time to construct our final dataset prior to modeling. Here, we want to make sure to handle any integrity issues and cleaning, the engineering of new features, any transformations that we believe should happen (scaling, logarithms, normalization, etc.), and general preparation for modeling with sklearn."
   ]
  },
  {
   "cell_type": "code",
   "execution_count": 7,
   "id": "0418758b",
   "metadata": {},
   "outputs": [],
   "source": [
    "#check if there are any null values\n",
    "# Print percentage of Columns that are null in relation to the total number of columns\n",
    "for column in weightloss_data_df.columns:\n",
    "    if weightloss_data_df[column].isnull().sum() > 0:\n",
    "        print(column, ': {:.2%}'.format(weightloss_data_df[column].isnull().sum() /\n",
    "                                               weightloss_data_df[column].shape[0]))"
   ]
  },
  {
   "cell_type": "code",
   "execution_count": 8,
   "id": "2c62ef42",
   "metadata": {},
   "outputs": [
    {
     "data": {
      "text/plain": [
       "Person          0\n",
       "gender          0\n",
       "Age             0\n",
       "Height          0\n",
       "pre.weight      0\n",
       "Diet            0\n",
       "weight6weeks    0\n",
       "dtype: int64"
      ]
     },
     "execution_count": 8,
     "metadata": {},
     "output_type": "execute_result"
    }
   ],
   "source": [
    "#Check the number of Null Columns\n",
    "weightloss_data_df.isnull().sum()"
   ]
  },
  {
   "cell_type": "code",
   "execution_count": 9,
   "id": "bace9434",
   "metadata": {},
   "outputs": [
    {
     "data": {
      "text/html": [
       "<div>\n",
       "<style scoped>\n",
       "    .dataframe tbody tr th:only-of-type {\n",
       "        vertical-align: middle;\n",
       "    }\n",
       "\n",
       "    .dataframe tbody tr th {\n",
       "        vertical-align: top;\n",
       "    }\n",
       "\n",
       "    .dataframe thead th {\n",
       "        text-align: right;\n",
       "    }\n",
       "</style>\n",
       "<table border=\"1\" class=\"dataframe\">\n",
       "  <thead>\n",
       "    <tr style=\"text-align: right;\">\n",
       "      <th></th>\n",
       "      <th>Person</th>\n",
       "      <th>gender</th>\n",
       "      <th>Age</th>\n",
       "      <th>Height</th>\n",
       "      <th>pre.weight</th>\n",
       "      <th>Diet</th>\n",
       "      <th>weight6weeks</th>\n",
       "      <th>weightloss</th>\n",
       "    </tr>\n",
       "  </thead>\n",
       "  <tbody>\n",
       "    <tr>\n",
       "      <th>0</th>\n",
       "      <td>25</td>\n",
       "      <td>0</td>\n",
       "      <td>41</td>\n",
       "      <td>171</td>\n",
       "      <td>60</td>\n",
       "      <td>2</td>\n",
       "      <td>60.0</td>\n",
       "      <td>0</td>\n",
       "    </tr>\n",
       "    <tr>\n",
       "      <th>1</th>\n",
       "      <td>26</td>\n",
       "      <td>0</td>\n",
       "      <td>32</td>\n",
       "      <td>174</td>\n",
       "      <td>103</td>\n",
       "      <td>2</td>\n",
       "      <td>103.0</td>\n",
       "      <td>0</td>\n",
       "    </tr>\n",
       "    <tr>\n",
       "      <th>2</th>\n",
       "      <td>1</td>\n",
       "      <td>0</td>\n",
       "      <td>22</td>\n",
       "      <td>159</td>\n",
       "      <td>58</td>\n",
       "      <td>1</td>\n",
       "      <td>54.2</td>\n",
       "      <td>1</td>\n",
       "    </tr>\n",
       "    <tr>\n",
       "      <th>3</th>\n",
       "      <td>2</td>\n",
       "      <td>0</td>\n",
       "      <td>46</td>\n",
       "      <td>192</td>\n",
       "      <td>60</td>\n",
       "      <td>1</td>\n",
       "      <td>54.0</td>\n",
       "      <td>1</td>\n",
       "    </tr>\n",
       "    <tr>\n",
       "      <th>4</th>\n",
       "      <td>3</td>\n",
       "      <td>0</td>\n",
       "      <td>55</td>\n",
       "      <td>170</td>\n",
       "      <td>64</td>\n",
       "      <td>1</td>\n",
       "      <td>63.3</td>\n",
       "      <td>1</td>\n",
       "    </tr>\n",
       "    <tr>\n",
       "      <th>...</th>\n",
       "      <td>...</td>\n",
       "      <td>...</td>\n",
       "      <td>...</td>\n",
       "      <td>...</td>\n",
       "      <td>...</td>\n",
       "      <td>...</td>\n",
       "      <td>...</td>\n",
       "      <td>...</td>\n",
       "    </tr>\n",
       "    <tr>\n",
       "      <th>73</th>\n",
       "      <td>74</td>\n",
       "      <td>1</td>\n",
       "      <td>35</td>\n",
       "      <td>183</td>\n",
       "      <td>83</td>\n",
       "      <td>3</td>\n",
       "      <td>80.2</td>\n",
       "      <td>1</td>\n",
       "    </tr>\n",
       "    <tr>\n",
       "      <th>74</th>\n",
       "      <td>75</td>\n",
       "      <td>1</td>\n",
       "      <td>49</td>\n",
       "      <td>177</td>\n",
       "      <td>84</td>\n",
       "      <td>3</td>\n",
       "      <td>79.9</td>\n",
       "      <td>1</td>\n",
       "    </tr>\n",
       "    <tr>\n",
       "      <th>75</th>\n",
       "      <td>76</td>\n",
       "      <td>1</td>\n",
       "      <td>28</td>\n",
       "      <td>164</td>\n",
       "      <td>85</td>\n",
       "      <td>3</td>\n",
       "      <td>79.7</td>\n",
       "      <td>1</td>\n",
       "    </tr>\n",
       "    <tr>\n",
       "      <th>76</th>\n",
       "      <td>77</td>\n",
       "      <td>1</td>\n",
       "      <td>40</td>\n",
       "      <td>167</td>\n",
       "      <td>87</td>\n",
       "      <td>3</td>\n",
       "      <td>77.8</td>\n",
       "      <td>1</td>\n",
       "    </tr>\n",
       "    <tr>\n",
       "      <th>77</th>\n",
       "      <td>78</td>\n",
       "      <td>1</td>\n",
       "      <td>51</td>\n",
       "      <td>175</td>\n",
       "      <td>88</td>\n",
       "      <td>3</td>\n",
       "      <td>81.9</td>\n",
       "      <td>1</td>\n",
       "    </tr>\n",
       "  </tbody>\n",
       "</table>\n",
       "<p>78 rows × 8 columns</p>\n",
       "</div>"
      ],
      "text/plain": [
       "    Person  gender  Age  Height  pre.weight  Diet  weight6weeks  weightloss\n",
       "0       25       0   41     171          60     2          60.0           0\n",
       "1       26       0   32     174         103     2         103.0           0\n",
       "2        1       0   22     159          58     1          54.2           1\n",
       "3        2       0   46     192          60     1          54.0           1\n",
       "4        3       0   55     170          64     1          63.3           1\n",
       "..     ...     ...  ...     ...         ...   ...           ...         ...\n",
       "73      74       1   35     183          83     3          80.2           1\n",
       "74      75       1   49     177          84     3          79.9           1\n",
       "75      76       1   28     164          85     3          79.7           1\n",
       "76      77       1   40     167          87     3          77.8           1\n",
       "77      78       1   51     175          88     3          81.9           1\n",
       "\n",
       "[78 rows x 8 columns]"
      ]
     },
     "execution_count": 9,
     "metadata": {},
     "output_type": "execute_result"
    }
   ],
   "source": [
    "# Calculate weight loss flag\n",
    "weightloss_data_df['weightloss'] = np.where(weightloss_data_df['pre.weight'] > weightloss_data_df['weight6weeks'], 1, 0)\n",
    "weightloss_data_df\n"
   ]
  },
  {
   "cell_type": "code",
   "execution_count": 61,
   "id": "a9af097e",
   "metadata": {},
   "outputs": [],
   "source": [
    "# saving the dataframe\n",
    "weightloss_data_df.to_csv('../data/foodDiet-weightloss.csv')"
   ]
  },
  {
   "cell_type": "code",
   "execution_count": 11,
   "id": "b6aafe06",
   "metadata": {},
   "outputs": [
    {
     "data": {
      "text/html": [
       "<div>\n",
       "<style scoped>\n",
       "    .dataframe tbody tr th:only-of-type {\n",
       "        vertical-align: middle;\n",
       "    }\n",
       "\n",
       "    .dataframe tbody tr th {\n",
       "        vertical-align: top;\n",
       "    }\n",
       "\n",
       "    .dataframe thead th {\n",
       "        text-align: right;\n",
       "    }\n",
       "</style>\n",
       "<table border=\"1\" class=\"dataframe\">\n",
       "  <thead>\n",
       "    <tr style=\"text-align: right;\">\n",
       "      <th></th>\n",
       "      <th>Person</th>\n",
       "      <th>gender</th>\n",
       "      <th>Age</th>\n",
       "      <th>Height</th>\n",
       "      <th>pre.weight</th>\n",
       "      <th>Diet</th>\n",
       "      <th>weight6weeks</th>\n",
       "      <th>weightloss</th>\n",
       "    </tr>\n",
       "  </thead>\n",
       "  <tbody>\n",
       "    <tr>\n",
       "      <th>Person</th>\n",
       "      <td>1.000000</td>\n",
       "      <td>0.308313</td>\n",
       "      <td>-0.101773</td>\n",
       "      <td>-0.033696</td>\n",
       "      <td>0.296399</td>\n",
       "      <td>0.942237</td>\n",
       "      <td>0.196728</td>\n",
       "      <td>0.115394</td>\n",
       "    </tr>\n",
       "    <tr>\n",
       "      <th>gender</th>\n",
       "      <td>0.308313</td>\n",
       "      <td>1.000000</td>\n",
       "      <td>0.018422</td>\n",
       "      <td>0.337974</td>\n",
       "      <td>0.642679</td>\n",
       "      <td>0.023479</td>\n",
       "      <td>0.611748</td>\n",
       "      <td>0.052438</td>\n",
       "    </tr>\n",
       "    <tr>\n",
       "      <th>Age</th>\n",
       "      <td>-0.101773</td>\n",
       "      <td>0.018422</td>\n",
       "      <td>1.000000</td>\n",
       "      <td>0.080393</td>\n",
       "      <td>-0.006265</td>\n",
       "      <td>-0.127707</td>\n",
       "      <td>0.010472</td>\n",
       "      <td>0.053889</td>\n",
       "    </tr>\n",
       "    <tr>\n",
       "      <th>Height</th>\n",
       "      <td>-0.033696</td>\n",
       "      <td>0.337974</td>\n",
       "      <td>0.080393</td>\n",
       "      <td>1.000000</td>\n",
       "      <td>0.154381</td>\n",
       "      <td>-0.118241</td>\n",
       "      <td>0.183998</td>\n",
       "      <td>-0.047566</td>\n",
       "    </tr>\n",
       "    <tr>\n",
       "      <th>pre.weight</th>\n",
       "      <td>0.296399</td>\n",
       "      <td>0.642679</td>\n",
       "      <td>-0.006265</td>\n",
       "      <td>0.154381</td>\n",
       "      <td>1.000000</td>\n",
       "      <td>0.039234</td>\n",
       "      <td>0.958449</td>\n",
       "      <td>-0.076861</td>\n",
       "    </tr>\n",
       "    <tr>\n",
       "      <th>Diet</th>\n",
       "      <td>0.942237</td>\n",
       "      <td>0.023479</td>\n",
       "      <td>-0.127707</td>\n",
       "      <td>-0.118241</td>\n",
       "      <td>0.039234</td>\n",
       "      <td>1.000000</td>\n",
       "      <td>-0.048050</td>\n",
       "      <td>0.073314</td>\n",
       "    </tr>\n",
       "    <tr>\n",
       "      <th>weight6weeks</th>\n",
       "      <td>0.196728</td>\n",
       "      <td>0.611748</td>\n",
       "      <td>0.010472</td>\n",
       "      <td>0.183998</td>\n",
       "      <td>0.958449</td>\n",
       "      <td>-0.048050</td>\n",
       "      <td>1.000000</td>\n",
       "      <td>-0.225261</td>\n",
       "    </tr>\n",
       "    <tr>\n",
       "      <th>weightloss</th>\n",
       "      <td>0.115394</td>\n",
       "      <td>0.052438</td>\n",
       "      <td>0.053889</td>\n",
       "      <td>-0.047566</td>\n",
       "      <td>-0.076861</td>\n",
       "      <td>0.073314</td>\n",
       "      <td>-0.225261</td>\n",
       "      <td>1.000000</td>\n",
       "    </tr>\n",
       "  </tbody>\n",
       "</table>\n",
       "</div>"
      ],
      "text/plain": [
       "                Person    gender       Age    Height  pre.weight      Diet  \\\n",
       "Person        1.000000  0.308313 -0.101773 -0.033696    0.296399  0.942237   \n",
       "gender        0.308313  1.000000  0.018422  0.337974    0.642679  0.023479   \n",
       "Age          -0.101773  0.018422  1.000000  0.080393   -0.006265 -0.127707   \n",
       "Height       -0.033696  0.337974  0.080393  1.000000    0.154381 -0.118241   \n",
       "pre.weight    0.296399  0.642679 -0.006265  0.154381    1.000000  0.039234   \n",
       "Diet          0.942237  0.023479 -0.127707 -0.118241    0.039234  1.000000   \n",
       "weight6weeks  0.196728  0.611748  0.010472  0.183998    0.958449 -0.048050   \n",
       "weightloss    0.115394  0.052438  0.053889 -0.047566   -0.076861  0.073314   \n",
       "\n",
       "              weight6weeks  weightloss  \n",
       "Person            0.196728    0.115394  \n",
       "gender            0.611748    0.052438  \n",
       "Age               0.010472    0.053889  \n",
       "Height            0.183998   -0.047566  \n",
       "pre.weight        0.958449   -0.076861  \n",
       "Diet             -0.048050    0.073314  \n",
       "weight6weeks      1.000000   -0.225261  \n",
       "weightloss       -0.225261    1.000000  "
      ]
     },
     "execution_count": 11,
     "metadata": {},
     "output_type": "execute_result"
    }
   ],
   "source": [
    "# Review the correlation of the dataset\n",
    "weightloss_data_df.corr()"
   ]
  },
  {
   "cell_type": "code",
   "execution_count": 12,
   "id": "86a54174",
   "metadata": {},
   "outputs": [
    {
     "data": {
      "image/png": "[encoded data removed]",
      "text/plain": [
       "<Figure size 720x504 with 2 Axes>"
      ]
     },
     "metadata": {
      "needs_background": "light"
     },
     "output_type": "display_data"
    }
   ],
   "source": [
    "# Now lets look at some visualization of the provided datasets\n",
    "\n",
    "fig, ax = plt.subplots(figsize=(10,7))\n",
    "plt.rcParams[\"figure.autolayout\"] = True\n",
    "\n",
    "#create seaborn heatmap\n",
    "ax = sns.heatmap(weightloss_data_df.corr(), annot = True)\n",
    "\n",
    "# Adding Title to the Plot\n",
    "ax.set_title(\"Correlation Heatmap of the Raw Datasets\")\n",
    "manager = plt.get_current_fig_manager()\n",
    "manager.full_screen_toggle()\n",
    "plt.show()"
   ]
  },
  {
   "cell_type": "code",
   "execution_count": 33,
   "id": "da94b0a5",
   "metadata": {},
   "outputs": [
    {
     "data": {
      "image/png": "[encoded data removed]",
      "text/plain": [
       "<Figure size 720x720 with 20 Axes>"
      ]
     },
     "metadata": {
      "needs_background": "light"
     },
     "output_type": "display_data"
    }
   ],
   "source": [
    "# Now lets look at the pairplot for the final data set of 2 key features\n",
    "#plt.figure(figsize=(15,10))\n",
    "#plt.title(\"Correlation Heatmap of the manipulated Datasets\")\n",
    "\n",
    "#create seaborn heatmap\n",
    "sns.pairplot(weightloss_data_df[['gender','Diet','pre.weight','weight6weeks']])\n",
    "\n",
    "# Adding Title to the Plot\n",
    "#plt.set_title(\"Correlation Heatmap of the manipulated Datasets\")\n",
    "plt.show()"
   ]
  },
  {
   "cell_type": "markdown",
   "id": "f70da2f7",
   "metadata": {},
   "source": [
    "Gender and Diet are not uniformly distributed but pre.weight and weight after 6 weeks (weight6weeks) show a some level of uniformity. For Pre.weight and weight scatter plot there is a positive association between the two features.\n"
   ]
  },
  {
   "cell_type": "code",
   "execution_count": null,
   "id": "f90ea220",
   "metadata": {},
   "outputs": [],
   "source": []
  },
  {
   "cell_type": "markdown",
   "id": "bad41a6a",
   "metadata": {},
   "source": [
    "### Modeling"
   ]
  },
  {
   "cell_type": "markdown",
   "id": "5280fee0",
   "metadata": {},
   "source": [
    "Create a number of ML Models (i.e., ML Applications) using Linear Regression that could be used to predict weight loss. Use Grid Search to see if we can determine the best parameters for the dataset."
   ]
  },
  {
   "cell_type": "code",
   "execution_count": 36,
   "id": "7141a879",
   "metadata": {},
   "outputs": [],
   "source": [
    "# Declare the list to store Train Time, Training Accuracy and Test Accuracy\n",
    "Metrics = []\n",
    "Values = []"
   ]
  },
  {
   "cell_type": "code",
   "execution_count": 13,
   "id": "7cc2728f",
   "metadata": {},
   "outputs": [],
   "source": [
    "## Lets split the data to training and test sets, 70/30 split ratio so that we can assess how well the model \n",
    "## can predict weight loss\n",
    "X = weightloss_data_df.drop(['weightloss'], axis = 1)\n",
    "y = weightloss_data_df.weightloss\n",
    "X_train, X_test, y_train, y_test = train_test_split(X, y, test_size = 0.3, random_state = 0)"
   ]
  },
  {
   "cell_type": "code",
   "execution_count": 14,
   "id": "d1998b71",
   "metadata": {},
   "outputs": [],
   "source": [
    "#First, we create a new model object. Using fit intercept = false sets the y-intercept to 0.\n",
    "model=LinearRegression(fit_intercept=True)"
   ]
  },
  {
   "cell_type": "code",
   "execution_count": 15,
   "id": "967a2334",
   "metadata": {},
   "outputs": [
    {
     "data": {
      "text/plain": [
       "LinearRegression()"
      ]
     },
     "execution_count": 15,
     "metadata": {},
     "output_type": "execute_result"
    }
   ],
   "source": [
    "# With model created, let's fit the model using the manipulated datasets\n",
    "model.fit(X_train, y_train)"
   ]
  },
  {
   "cell_type": "code",
   "execution_count": 16,
   "id": "527ef8dc",
   "metadata": {},
   "outputs": [
    {
     "name": "stdout",
     "output_type": "stream",
     "text": [
      "Coefficient of the model:  [ 0.01074971  0.07111917  0.0037618  -0.00356988  0.06042805 -0.37261388\n",
      " -0.07392162]\n",
      "Intercept of the model:  2.389805263391409\n"
     ]
    }
   ],
   "source": [
    "# Fitted model can now be used to examine the estimated coefficients and also predict ths value of the dependent\n",
    "# for a given set of independent variables which in this model is the manipulated dataset\n",
    "print(\"Coefficient of the model: \",model.coef_)\n",
    "print(\"Intercept of the model: \", model.intercept_)"
   ]
  },
  {
   "cell_type": "code",
   "execution_count": 17,
   "id": "c87be4d1",
   "metadata": {},
   "outputs": [
    {
     "data": {
      "text/plain": [
       "[('Person', 0.010749705328924435),\n",
       " ('gender', 0.07111916547892717),\n",
       " ('Age', 0.00376180030022805),\n",
       " ('Height', -0.003569877737325434),\n",
       " ('pre.weight', 0.060428046402386304),\n",
       " ('Diet', -0.3726138826123488),\n",
       " ('weight6weeks', -0.07392161894983411)]"
      ]
     },
     "execution_count": 17,
     "metadata": {},
     "output_type": "execute_result"
    }
   ],
   "source": [
    "# get the cofficients\n",
    "[(col, coef) for col, coef in zip (X_train.columns, model.coef_)]"
   ]
  },
  {
   "cell_type": "code",
   "execution_count": 18,
   "id": "1f4f37e5",
   "metadata": {},
   "outputs": [
    {
     "data": {
      "text/plain": [
       "array([0.88979   , 0.83595292, 1.1368199 , 1.13774647, 0.98204902,\n",
       "       1.0188669 , 1.15908752, 0.83761679, 0.96823247, 1.00197197,\n",
       "       0.82034953, 0.98954656, 0.90624592, 1.0116386 , 0.82614031,\n",
       "       0.94741124, 1.05875784, 0.72998153, 0.03345075, 0.75157981,\n",
       "       0.8721672 , 1.0238619 , 1.09272372, 1.01313201, 0.50438269,\n",
       "       0.96099014, 0.85173087, 0.85106891, 0.6474905 , 1.2312506 ,\n",
       "       0.67076079, 0.92466457, 0.83451911, 0.54131742, 1.04612741,\n",
       "       1.13059487, 0.90593022, 0.85424108, 1.02008097, 0.88751068,\n",
       "       1.12332534, 0.92265752, 1.05508078, 0.96920685, 0.86776049,\n",
       "       0.88290251, 1.04381711, 0.75351906, 1.27749821, 0.87138908,\n",
       "       0.6933579 , 0.57433808, 1.13806162, 0.91930376])"
      ]
     },
     "execution_count": 18,
     "metadata": {},
     "output_type": "execute_result"
    }
   ],
   "source": [
    "#Let compute the predictions for the entire set of inputs\n",
    "train_predictions=model.predict(X_train)\n",
    "train_predictions"
   ]
  },
  {
   "cell_type": "code",
   "execution_count": 19,
   "id": "a4697634",
   "metadata": {},
   "outputs": [
    {
     "data": {
      "text/plain": [
       "(54, 7)"
      ]
     },
     "execution_count": 19,
     "metadata": {},
     "output_type": "execute_result"
    }
   ],
   "source": [
    "X_train.shape"
   ]
  },
  {
   "cell_type": "code",
   "execution_count": 20,
   "id": "df47953c",
   "metadata": {},
   "outputs": [
    {
     "data": {
      "text/plain": [
       "(54,)"
      ]
     },
     "execution_count": 20,
     "metadata": {},
     "output_type": "execute_result"
    }
   ],
   "source": [
    "y_train.shape"
   ]
  },
  {
   "cell_type": "code",
   "execution_count": 37,
   "id": "73c545f6",
   "metadata": {},
   "outputs": [
    {
     "name": "stdout",
     "output_type": "stream",
     "text": [
      "The $R^2$ Training Score is: 0.49284534959767967\n"
     ]
    }
   ],
   "source": [
    "# Calculate the $R^2$ score\n",
    "r2 = r2_score(y_train, train_predictions)\n",
    "\n",
    "print('The $R^2$ Training Score is:', r2)\n",
    "Metrics.append('Training $R^2$ Score')\n",
    "Values.append(r2)\n"
   ]
  },
  {
   "cell_type": "code",
   "execution_count": 38,
   "id": "0a7b68f8",
   "metadata": {},
   "outputs": [
    {
     "name": "stdout",
     "output_type": "stream",
     "text": [
      "Training Accuracy:  49.28\n",
      "Training RMSE:      0.20642366683419774\n",
      "Training MAE:  0.14894159878247526\n"
     ]
    }
   ],
   "source": [
    "# Compute Accuracy and RMSE to training model\n",
    "score = model.score(X_train, y_train)\n",
    "print(\"Training Accuracy: \",  round(score*100, 2))\n",
    "print(\"Training RMSE:     \",np.sqrt(mean_squared_error(y_train,train_predictions)))\n",
    "print('Training MAE: ', mean_absolute_error(y_train, train_predictions))\n",
    "\n",
    "#Store values for Results Comparison\n",
    "Metrics.append('Training Accuracy')\n",
    "Values.append(score)\n",
    "Metrics.append('Training RMSE')\n",
    "Values.append(np.sqrt(mean_squared_error(y_train,train_predictions)))\n",
    "Metrics.append('Training MAE')\n",
    "Values.append(mean_absolute_error(y_train, train_predictions))"
   ]
  },
  {
   "cell_type": "markdown",
   "id": "a590c43a",
   "metadata": {},
   "source": [
    "The accuracy score is a measure of how well a model performs on a given dataset. It is calculated by dividing the number of correctly classified instances by the total number of instances. In this case, the accuracy score is 0.4928, which means that the model correctly classified 49.28% of the instances.\n",
    "\n",
    "The Mean Absolute Error (MAE) is a measure of the average absolute difference between the predicted values and the actual values. In this case, the MAE is 0.1489415, which means that the average absolute difference between the predicted values and the actual values is 0.1489415.\n",
    "\n",
    "A high accuracy score and a low MAE are both desirable. "
   ]
  },
  {
   "cell_type": "markdown",
   "id": "376b87a6",
   "metadata": {},
   "source": [
    "##### Model evaluation/ Making Predictions"
   ]
  },
  {
   "cell_type": "code",
   "execution_count": 35,
   "id": "4ad59d54",
   "metadata": {},
   "outputs": [],
   "source": [
    "# Using the model to make predictions of Price on the test set:\n",
    "test_predictions=model.predict(X_test)"
   ]
  },
  {
   "cell_type": "code",
   "execution_count": 39,
   "id": "0e039dec",
   "metadata": {},
   "outputs": [
    {
     "name": "stdout",
     "output_type": "stream",
     "text": [
      "The Testing $R^2$ Score is: -0.7747926114131711\n"
     ]
    }
   ],
   "source": [
    "# Calculate the $R^2$ score\n",
    "test_r2 = r2_score(y_test,test_predictions)\n",
    "\n",
    "print('The Testing $R^2$ Score is:', test_r2)\n",
    "Metrics.append('Testing $R^2$ Score')\n",
    "Values.append(test_r2)\n"
   ]
  },
  {
   "cell_type": "code",
   "execution_count": 40,
   "id": "6a4f33de",
   "metadata": {},
   "outputs": [
    {
     "name": "stdout",
     "output_type": "stream",
     "text": [
      "Testing Accuracy:  -0.7747926114131711\n",
      "Testing RMSE:      0.26621129759952555\n",
      "Testing Mean Absolute Error:  0.2025760434634474\n"
     ]
    }
   ],
   "source": [
    "# Compute Accuracy and RMSE to test model\n",
    "test_score = model.score(X_test, y_test)\n",
    "print(\"Testing Accuracy: \", test_score )\n",
    "print(\"Testing RMSE:     \",np.sqrt(mean_squared_error(y_test,test_predictions) ))\n",
    "print('Testing Mean Absolute Error: ', mean_absolute_error(y_test, test_predictions))\n",
    "\n",
    "#Store values for Results Comparison\n",
    "Metrics.append('Testing Accuracy')\n",
    "Values.append(test_score)\n",
    "Metrics.append('Testing RMSE')\n",
    "Values.append(np.sqrt(mean_squared_error(y_test,test_predictions) ))\n",
    "Metrics.append('Testing MAE')\n",
    "Values.append(mean_absolute_error(y_test, test_predictions))\n"
   ]
  },
  {
   "cell_type": "code",
   "execution_count": 60,
   "id": "33380a58",
   "metadata": {},
   "outputs": [
    {
     "name": "stdout",
     "output_type": "stream",
     "text": [
      "Female User starting with weight 145 and ending with weight 135 after 6 weeks:  [0.78]\n",
      "Female User starting with weight 145 and ending with weight 155 after 6 weeks:  [-0.33]\n"
     ]
    }
   ],
   "source": [
    "#Test the model using a sample diet data\n",
    "#Person\tgender\tAge\tHeight\tpre.weight\tDiet\tweight6weeks\n",
    "#25\t0\t41\t171\t60\t2\t60.0\n",
    "\n",
    "dieting_user_male = [[80,0,35,180,145,2,135]]\n",
    "print(\"Female User starting with weight 145 and ending with weight 135 after 6 weeks: \", \n",
    "      np.round(model.predict(dieting_user_male), 2))\n",
    "\n",
    "non_dieting_user_male = [[80,0,35,180,145,1,155]]\n",
    "print(\"Female User starting with weight 145 and ending with weight 155 after 6 weeks: \", \n",
    "      np.round(model.predict(non_dieting_user_male), 2))"
   ]
  },
  {
   "cell_type": "code",
   "execution_count": null,
   "id": "e7f7007d",
   "metadata": {},
   "outputs": [],
   "source": []
  },
  {
   "cell_type": "code",
   "execution_count": 56,
   "id": "4a071d59",
   "metadata": {},
   "outputs": [
    {
     "name": "stdout",
     "output_type": "stream",
     "text": [
      "Mean Absolute Error:  0.20257604346344724\n",
      "Score -0.7747926114131654\n"
     ]
    }
   ],
   "source": [
    "# Lets try scaling the data before fitting to see if this would improve the accuracy of the model\n",
    "# Define the pipeline for scaling and model fitting\n",
    "pipeline = Pipeline([\n",
    "    (\"MinMax\", MinMaxScaler()),\n",
    "    (\"LINGR\", LinearRegression(fit_intercept=True))\n",
    "])\n",
    "\n",
    "# Scale the data and fit the model\n",
    "pipeline.fit(X_train, y_train)\n",
    "\n",
    "# Evaluate the model\n",
    "Y_pred = pipeline.predict(X_test)\n",
    "print('Mean Absolute Error: ', mean_absolute_error(Y_pred, y_test))\n",
    "print('Score', pipeline.score(X_test, y_test))\n"
   ]
  },
  {
   "cell_type": "code",
   "execution_count": 57,
   "id": "dfde1505",
   "metadata": {},
   "outputs": [
    {
     "data": {
      "text/plain": [
       "Text(0.5, 1.0, 'Linear Regression Results - Total Distance against Calories')"
      ]
     },
     "execution_count": 57,
     "metadata": {},
     "output_type": "execute_result"
    },
    {
     "data": {
      "image/png": "[encoded data removed]",
      "text/plain": [
       "<Figure size 864x504 with 1 Axes>"
      ]
     },
     "metadata": {
      "needs_background": "light"
     },
     "output_type": "display_data"
    }
   ],
   "source": [
    "# Visualization of how well the model did by plotting the actual and predicted values\n",
    "fig, axes = plt.subplots(1, 1, figsize =(12, 7))\n",
    "axes.plot (X_test.Diet, y_test, 'ob', label ='actuals', alpha=0.5)\n",
    "axes.plot (X_test.Diet, test_predictions, 'or', label ='predictions', alpha=0.5)\n",
    "axes.set(xlabel='Diet', ylabel='weightloss')\n",
    "axes.legend()\n",
    "axes.set_title('Linear Regression Results - Total Distance against Calories')"
   ]
  },
  {
   "cell_type": "code",
   "execution_count": 58,
   "id": "b579246d",
   "metadata": {},
   "outputs": [
    {
     "data": {
      "text/plain": [
       "0.17582223855774023"
      ]
     },
     "execution_count": 58,
     "metadata": {},
     "output_type": "execute_result"
    }
   ],
   "source": [
    "# Check the correlation to see if the model tracks the relationship between independent and dependent features\n",
    "np.corrcoef(y_test, test_predictions) [0][1]"
   ]
  },
  {
   "cell_type": "markdown",
   "id": "2d0d64b6",
   "metadata": {},
   "source": [
    "### Results"
   ]
  },
  {
   "cell_type": "code",
   "execution_count": 59,
   "id": "dea344e4",
   "metadata": {},
   "outputs": [
    {
     "data": {
      "text/html": [
       "<div>\n",
       "<style scoped>\n",
       "    .dataframe tbody tr th:only-of-type {\n",
       "        vertical-align: middle;\n",
       "    }\n",
       "\n",
       "    .dataframe tbody tr th {\n",
       "        vertical-align: top;\n",
       "    }\n",
       "\n",
       "    .dataframe thead th {\n",
       "        text-align: right;\n",
       "    }\n",
       "</style>\n",
       "<table border=\"1\" class=\"dataframe\">\n",
       "  <thead>\n",
       "    <tr style=\"text-align: right;\">\n",
       "      <th></th>\n",
       "      <th>Metric</th>\n",
       "      <th>Value</th>\n",
       "    </tr>\n",
       "  </thead>\n",
       "  <tbody>\n",
       "    <tr>\n",
       "      <th>0</th>\n",
       "      <td>Training $R^2$ Score</td>\n",
       "      <td>0.492845</td>\n",
       "    </tr>\n",
       "    <tr>\n",
       "      <th>1</th>\n",
       "      <td>Training Accuracy</td>\n",
       "      <td>0.492845</td>\n",
       "    </tr>\n",
       "    <tr>\n",
       "      <th>2</th>\n",
       "      <td>Training RMSE</td>\n",
       "      <td>0.206424</td>\n",
       "    </tr>\n",
       "    <tr>\n",
       "      <th>3</th>\n",
       "      <td>Training MAE</td>\n",
       "      <td>0.148942</td>\n",
       "    </tr>\n",
       "    <tr>\n",
       "      <th>4</th>\n",
       "      <td>Testing $R^2$ Score</td>\n",
       "      <td>-0.774793</td>\n",
       "    </tr>\n",
       "    <tr>\n",
       "      <th>5</th>\n",
       "      <td>Testing Accuracy</td>\n",
       "      <td>-0.774793</td>\n",
       "    </tr>\n",
       "    <tr>\n",
       "      <th>6</th>\n",
       "      <td>Testing RMSE</td>\n",
       "      <td>0.266211</td>\n",
       "    </tr>\n",
       "    <tr>\n",
       "      <th>7</th>\n",
       "      <td>Testing MAE</td>\n",
       "      <td>0.202576</td>\n",
       "    </tr>\n",
       "  </tbody>\n",
       "</table>\n",
       "</div>"
      ],
      "text/plain": [
       "                 Metric     Value\n",
       "0  Training $R^2$ Score  0.492845\n",
       "1     Training Accuracy  0.492845\n",
       "2         Training RMSE  0.206424\n",
       "3          Training MAE  0.148942\n",
       "4   Testing $R^2$ Score -0.774793\n",
       "5      Testing Accuracy -0.774793\n",
       "6          Testing RMSE  0.266211\n",
       "7           Testing MAE  0.202576"
      ]
     },
     "execution_count": 59,
     "metadata": {},
     "output_type": "execute_result"
    }
   ],
   "source": [
    "# Display results in a Dataframe\n",
    "dict = {'Metric':Metrics, 'Value': Values}\n",
    "results_comp_df = pd.DataFrame(dict)\n",
    "results_comp_df"
   ]
  },
  {
   "cell_type": "code",
   "execution_count": null,
   "id": "19712284",
   "metadata": {},
   "outputs": [],
   "source": []
  }
 ],
 "metadata": {
  "kernelspec": {
   "display_name": "Python 3 (ipykernel)",
   "language": "python",
   "name": "python3"
  },
  "language_info": {
   "codemirror_mode": {
    "name": "ipython",
    "version": 3
   },
   "file_extension": ".py",
   "mimetype": "text/x-python",
   "name": "python",
   "nbconvert_exporter": "python",
   "pygments_lexer": "ipython3",
   "version": "3.9.12"
  }
 },
 "nbformat": 4,
 "nbformat_minor": 5
}
